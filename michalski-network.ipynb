{
  "nbformat": 4,
  "nbformat_minor": 0,
  "metadata": {
    "colab": {
      "name": "Cópia de NeuralSymbolic-Demo.ipynb",
      "provenance": [],
      "collapsed_sections": []
    },
    "kernelspec": {
      "name": "python3",
      "display_name": "Python 3",
      "language": "python"
    },
    "accelerator": "TPU"
  },
  "cells": [
    {
      "cell_type": "markdown",
      "metadata": {
        "id": "hmY6cIItVjvG"
      },
      "source": [
        "## Dependencies"
      ]
    },
    {
      "cell_type": "markdown",
      "metadata": {
        "id": "eqiOYl7DC8Fo"
      },
      "source": [
        "# NeuralSymbolic - Demo"
      ]
    },
    {
      "cell_type": "code",
      "metadata": {
        "id": "GYOlB1BY0KHc",
        "colab": {
          "base_uri": "https://localhost:8080/"
        },
        "outputId": "5565b238-d49b-472e-ee58-5f1da47ebf86"
      },
      "source": [
        "!pip3 install keras-rectified-adam\n",
        "!pip3 install ann_visualizer\n",
        "!pip3 install graphviz\n",
        "!pip3 install tf-explain\n",
        "!pip3 install opencv-python"
      ],
      "execution_count": 2,
      "outputs": [
        {
          "output_type": "stream",
          "name": "stdout",
          "text": [
            "Requirement already satisfied: keras-rectified-adam in /home/thiago/.local/lib/python3.8/site-packages (0.17.0)\n",
            "Requirement already satisfied: Keras in /home/thiago/.local/lib/python3.8/site-packages (from keras-rectified-adam) (2.4.3)\n",
            "Requirement already satisfied: numpy in /home/thiago/.local/lib/python3.8/site-packages (from keras-rectified-adam) (1.19.4)\n",
            "Requirement already satisfied: pyyaml in /usr/lib/python3/dist-packages (from Keras->keras-rectified-adam) (5.3.1)\n",
            "Requirement already satisfied: h5py in /home/thiago/.local/lib/python3.8/site-packages (from Keras->keras-rectified-adam) (2.10.0)\n",
            "Requirement already satisfied: scipy>=0.14 in /home/thiago/.local/lib/python3.8/site-packages (from Keras->keras-rectified-adam) (1.5.4)\n",
            "Requirement already satisfied: six in /home/thiago/.local/lib/python3.8/site-packages (from h5py->Keras->keras-rectified-adam) (1.15.0)\n",
            "Requirement already satisfied: ann_visualizer in /home/thiago/.local/lib/python3.8/site-packages (2.5)\n",
            "Requirement already satisfied: graphviz in /home/thiago/.local/lib/python3.8/site-packages (0.15)\n",
            "Requirement already satisfied: tf-explain in /home/thiago/.local/lib/python3.8/site-packages (0.2.1)\n",
            "Requirement already satisfied: opencv-python>=4.1.0.25 in /home/thiago/.local/lib/python3.8/site-packages (from tf-explain) (4.4.0.46)\n",
            "Requirement already satisfied: numpy>=1.17.3 in /home/thiago/.local/lib/python3.8/site-packages (from opencv-python>=4.1.0.25->tf-explain) (1.19.4)\n",
            "Requirement already satisfied: opencv-python in /home/thiago/.local/lib/python3.8/site-packages (4.4.0.46)\n",
            "Requirement already satisfied: numpy>=1.17.3 in /home/thiago/.local/lib/python3.8/site-packages (from opencv-python) (1.19.4)\n"
          ]
        }
      ]
    },
    {
      "cell_type": "code",
      "metadata": {
        "id": "1fXgGRMw8E3i"
      },
      "source": [
        "# Load the TensorBoard notebook extension\r\n",
        "%load_ext tensorboard\r\n"
      ],
      "execution_count": 3,
      "outputs": []
    },
    {
      "cell_type": "code",
      "metadata": {
        "id": "D4iZ6dFv9fHX"
      },
      "source": [
        "!rm -rf ./logs/ "
      ],
      "execution_count": null,
      "outputs": []
    },
    {
      "cell_type": "code",
      "metadata": {
        "id": "ny3mB825u0oM"
      },
      "source": [
        "import tqdm\n",
        "import numpy as np\n",
        "import pandas as pd\n",
        "from sklearn.model_selection import LeaveOneOut, KFold\n",
        "import tensorflow as tf\n",
        "import keras\n",
        "import datetime\n",
        "from tf_explain.core.grad_cam import GradCAM\n",
        "from keras.models import Sequential, Model\n",
        "from keras.layers import Dense, Input, concatenate\n",
        "from keras.losses import binary_crossentropy\n",
        "from keras.utils  import plot_model\n",
        "from keras_radam.training import RAdamOptimizer\n",
        "from keras_radam import RAdam\n",
        "import matplotlib.pyplot as plt\n",
        "import warnings\n",
        "import dalex as dx\n",
        "warnings.filterwarnings('ignore')"
      ],
      "execution_count": 4,
      "outputs": []
    },
    {
      "cell_type": "code",
      "metadata": {
        "id": "oGV8J8Mj1uhj"
      },
      "source": [
        "seed_value= 0\n",
        "\n",
        "# 1. Set `PYTHONHASHSEED` environment variable at a fixed value\n",
        "import os\n",
        "os.environ['PYTHONHASHSEED']=str(seed_value)\n",
        "\n",
        "# 2. Set `python` built-in pseudo-random generator at a fixed value\n",
        "import random\n",
        "random.seed(seed_value)\n",
        "\n",
        "# 3. Set `numpy` pseudo-random generator at a fixed value\n",
        "import numpy as np\n",
        "np.random.seed(seed_value)\n",
        "\n",
        "# 4. Set `tensorflow` pseudo-random generator at a fixed value\n",
        "import tensorflow as tf\n",
        "tf.random.set_seed(seed_value)\n",
        "\n",
        "# 5. Configure a new global `tensorflow` session\n",
        "\n",
        "\n",
        "session_conf = tf.compat.v1.ConfigProto(intra_op_parallelism_threads=1, inter_op_parallelism_threads=1)\n",
        "sess = tf.compat.v1.Session(graph=tf.compat.v1.get_default_graph(), config=session_conf)\n",
        "tf.compat.v1.keras.backend.set_session(sess)"
      ],
      "execution_count": null,
      "outputs": []
    },
    {
      "cell_type": "markdown",
      "metadata": {
        "id": "roshxLlK-K5g"
      },
      "source": [
        "## GET data"
      ]
    },
    {
      "cell_type": "code",
      "metadata": {
        "id": "cckTOFsQ1X22",
        "colab": {
          "base_uri": "https://localhost:8080/",
          "height": 379
        },
        "outputId": "75f8e2f2-df90-403a-af48-94080cc577c3"
      },
      "source": [
        "# path to trains-transformed.csv\n",
        "path = 'trains-transformed.csv'\n",
        "str_att = {\n",
        "  'length': ['short', 'long'],\n",
        "  'shape': ['closedrect', 'dblopnrect', 'ellipse', 'engine', 'hexagon',\n",
        "          'jaggedtop', 'openrect', 'opentrap', 'slopetop', 'ushaped'],\n",
        "  'load_shape': ['circlelod', 'hexagonlod', 'rectanglod', 'trianglod'],\n",
        "  'Class_attribute': ['west','east']\n",
        "}\n",
        "\n",
        "def read_data(path=path):\n",
        "  df = pd.read_csv(path, ',')\n",
        "\n",
        "  for k in df:\n",
        "    for att in str_att:\n",
        "      if k.startswith(att):\n",
        "        for i,val in enumerate(df[k]):\n",
        "          if val in str_att[att]:\n",
        "            df[k][i] = str_att[att].index(val)\n",
        "\n",
        "  df.replace(\"\\\\0\", 0, inplace=True)\n",
        "  df.replace(\"None\", -1, inplace=True)\n",
        "\n",
        "  return df\n",
        "\n",
        "df = read_data()\n",
        "df"
      ],
      "execution_count": 5,
      "outputs": [
        {
          "output_type": "execute_result",
          "data": {
            "text/plain": [
              "   Number_of_cars  Number_of_different_loads  num_wheels1  length1  shape1  \\\n",
              "0               5                          4            2        1       6   \n",
              "1               4                          3            2        0       9   \n",
              "2               4                          2            2        0       6   \n",
              "3               5                          2            2        0       7   \n",
              "4               4                          3            2        0       1   \n",
              "5               3                          2            2        1       0   \n",
              "6               4                          2            2        0       1   \n",
              "7               3                          2            3        1       0   \n",
              "8               5                          2            2        0       7   \n",
              "9               3                          1            2        0       9   \n",
              "\n",
              "   num_loads1  load_shape1  num_wheels2  length2  shape2  ...  \\\n",
              "0           3            2            2        0       8  ...   \n",
              "1           1            3            2        0       7  ...   \n",
              "2           1            0            2        0       4  ...   \n",
              "3           1            3            2        0       1  ...   \n",
              "4           1            3            3        1       0  ...   \n",
              "5           3            0            2        0       6  ...   \n",
              "6           1            0            2        0       9  ...   \n",
              "7           1            2            2        0       9  ...   \n",
              "8           1            0            2        1       5  ...   \n",
              "9           1            2            2        1       6  ...   \n",
              "\n",
              "   Rectangle_next_to_triangle  Rectangle_next_to_hexagon  \\\n",
              "0                           1                          0   \n",
              "1                           1                          0   \n",
              "2                           0                          0   \n",
              "3                           1                          0   \n",
              "4                           1                          0   \n",
              "5                           0                          0   \n",
              "6                           0                          0   \n",
              "7                           0                          0   \n",
              "8                           0                          0   \n",
              "9                           0                          0   \n",
              "\n",
              "  Rectangle_next_to_circle  Triangle_next_to_triangle  \\\n",
              "0                        0                          0   \n",
              "1                        1                          0   \n",
              "2                        0                          1   \n",
              "3                        0                          1   \n",
              "4                        1                          0   \n",
              "5                        0                          0   \n",
              "6                        0                          0   \n",
              "7                        1                          0   \n",
              "8                        1                          0   \n",
              "9                        0                          0   \n",
              "\n",
              "   Triangle_next_to_hexagon Triangle_next_to_circle  Hexagon_next_to_hexagon  \\\n",
              "0                         1                       0                        0   \n",
              "1                         0                       0                        0   \n",
              "2                         0                       1                        0   \n",
              "3                         0                       0                        0   \n",
              "4                         0                       0                        0   \n",
              "5                         0                       1                        0   \n",
              "6                         0                       1                        0   \n",
              "7                         0                       0                        0   \n",
              "8                         0                       0                        0   \n",
              "9                         0                       0                        0   \n",
              "\n",
              "  Hexagon_next_to_circle  Circle_next_to_circle  Class_attribute  \n",
              "0                      1                      0                1  \n",
              "1                      0                      0                1  \n",
              "2                      0                      0                1  \n",
              "3                      0                      0                1  \n",
              "4                      0                      0                1  \n",
              "5                      0                      0                0  \n",
              "6                      0                      0                0  \n",
              "7                      0                      0                0  \n",
              "8                      0                      0                0  \n",
              "9                      0                      0                0  \n",
              "\n",
              "[10 rows x 33 columns]"
            ],
            "text/html": "<div>\n<style scoped>\n    .dataframe tbody tr th:only-of-type {\n        vertical-align: middle;\n    }\n\n    .dataframe tbody tr th {\n        vertical-align: top;\n    }\n\n    .dataframe thead th {\n        text-align: right;\n    }\n</style>\n<table border=\"1\" class=\"dataframe\">\n  <thead>\n    <tr style=\"text-align: right;\">\n      <th></th>\n      <th>Number_of_cars</th>\n      <th>Number_of_different_loads</th>\n      <th>num_wheels1</th>\n      <th>length1</th>\n      <th>shape1</th>\n      <th>num_loads1</th>\n      <th>load_shape1</th>\n      <th>num_wheels2</th>\n      <th>length2</th>\n      <th>shape2</th>\n      <th>...</th>\n      <th>Rectangle_next_to_triangle</th>\n      <th>Rectangle_next_to_hexagon</th>\n      <th>Rectangle_next_to_circle</th>\n      <th>Triangle_next_to_triangle</th>\n      <th>Triangle_next_to_hexagon</th>\n      <th>Triangle_next_to_circle</th>\n      <th>Hexagon_next_to_hexagon</th>\n      <th>Hexagon_next_to_circle</th>\n      <th>Circle_next_to_circle</th>\n      <th>Class_attribute</th>\n    </tr>\n  </thead>\n  <tbody>\n    <tr>\n      <th>0</th>\n      <td>5</td>\n      <td>4</td>\n      <td>2</td>\n      <td>1</td>\n      <td>6</td>\n      <td>3</td>\n      <td>2</td>\n      <td>2</td>\n      <td>0</td>\n      <td>8</td>\n      <td>...</td>\n      <td>1</td>\n      <td>0</td>\n      <td>0</td>\n      <td>0</td>\n      <td>1</td>\n      <td>0</td>\n      <td>0</td>\n      <td>1</td>\n      <td>0</td>\n      <td>1</td>\n    </tr>\n    <tr>\n      <th>1</th>\n      <td>4</td>\n      <td>3</td>\n      <td>2</td>\n      <td>0</td>\n      <td>9</td>\n      <td>1</td>\n      <td>3</td>\n      <td>2</td>\n      <td>0</td>\n      <td>7</td>\n      <td>...</td>\n      <td>1</td>\n      <td>0</td>\n      <td>1</td>\n      <td>0</td>\n      <td>0</td>\n      <td>0</td>\n      <td>0</td>\n      <td>0</td>\n      <td>0</td>\n      <td>1</td>\n    </tr>\n    <tr>\n      <th>2</th>\n      <td>4</td>\n      <td>2</td>\n      <td>2</td>\n      <td>0</td>\n      <td>6</td>\n      <td>1</td>\n      <td>0</td>\n      <td>2</td>\n      <td>0</td>\n      <td>4</td>\n      <td>...</td>\n      <td>0</td>\n      <td>0</td>\n      <td>0</td>\n      <td>1</td>\n      <td>0</td>\n      <td>1</td>\n      <td>0</td>\n      <td>0</td>\n      <td>0</td>\n      <td>1</td>\n    </tr>\n    <tr>\n      <th>3</th>\n      <td>5</td>\n      <td>2</td>\n      <td>2</td>\n      <td>0</td>\n      <td>7</td>\n      <td>1</td>\n      <td>3</td>\n      <td>2</td>\n      <td>0</td>\n      <td>1</td>\n      <td>...</td>\n      <td>1</td>\n      <td>0</td>\n      <td>0</td>\n      <td>1</td>\n      <td>0</td>\n      <td>0</td>\n      <td>0</td>\n      <td>0</td>\n      <td>0</td>\n      <td>1</td>\n    </tr>\n    <tr>\n      <th>4</th>\n      <td>4</td>\n      <td>3</td>\n      <td>2</td>\n      <td>0</td>\n      <td>1</td>\n      <td>1</td>\n      <td>3</td>\n      <td>3</td>\n      <td>1</td>\n      <td>0</td>\n      <td>...</td>\n      <td>1</td>\n      <td>0</td>\n      <td>1</td>\n      <td>0</td>\n      <td>0</td>\n      <td>0</td>\n      <td>0</td>\n      <td>0</td>\n      <td>0</td>\n      <td>1</td>\n    </tr>\n    <tr>\n      <th>5</th>\n      <td>3</td>\n      <td>2</td>\n      <td>2</td>\n      <td>1</td>\n      <td>0</td>\n      <td>3</td>\n      <td>0</td>\n      <td>2</td>\n      <td>0</td>\n      <td>6</td>\n      <td>...</td>\n      <td>0</td>\n      <td>0</td>\n      <td>0</td>\n      <td>0</td>\n      <td>0</td>\n      <td>1</td>\n      <td>0</td>\n      <td>0</td>\n      <td>0</td>\n      <td>0</td>\n    </tr>\n    <tr>\n      <th>6</th>\n      <td>4</td>\n      <td>2</td>\n      <td>2</td>\n      <td>0</td>\n      <td>1</td>\n      <td>1</td>\n      <td>0</td>\n      <td>2</td>\n      <td>0</td>\n      <td>9</td>\n      <td>...</td>\n      <td>0</td>\n      <td>0</td>\n      <td>0</td>\n      <td>0</td>\n      <td>0</td>\n      <td>1</td>\n      <td>0</td>\n      <td>0</td>\n      <td>0</td>\n      <td>0</td>\n    </tr>\n    <tr>\n      <th>7</th>\n      <td>3</td>\n      <td>2</td>\n      <td>3</td>\n      <td>1</td>\n      <td>0</td>\n      <td>1</td>\n      <td>2</td>\n      <td>2</td>\n      <td>0</td>\n      <td>9</td>\n      <td>...</td>\n      <td>0</td>\n      <td>0</td>\n      <td>1</td>\n      <td>0</td>\n      <td>0</td>\n      <td>0</td>\n      <td>0</td>\n      <td>0</td>\n      <td>0</td>\n      <td>0</td>\n    </tr>\n    <tr>\n      <th>8</th>\n      <td>5</td>\n      <td>2</td>\n      <td>2</td>\n      <td>0</td>\n      <td>7</td>\n      <td>1</td>\n      <td>0</td>\n      <td>2</td>\n      <td>1</td>\n      <td>5</td>\n      <td>...</td>\n      <td>0</td>\n      <td>0</td>\n      <td>1</td>\n      <td>0</td>\n      <td>0</td>\n      <td>0</td>\n      <td>0</td>\n      <td>0</td>\n      <td>0</td>\n      <td>0</td>\n    </tr>\n    <tr>\n      <th>9</th>\n      <td>3</td>\n      <td>1</td>\n      <td>2</td>\n      <td>0</td>\n      <td>9</td>\n      <td>1</td>\n      <td>2</td>\n      <td>2</td>\n      <td>1</td>\n      <td>6</td>\n      <td>...</td>\n      <td>0</td>\n      <td>0</td>\n      <td>0</td>\n      <td>0</td>\n      <td>0</td>\n      <td>0</td>\n      <td>0</td>\n      <td>0</td>\n      <td>0</td>\n      <td>0</td>\n    </tr>\n  </tbody>\n</table>\n<p>10 rows × 33 columns</p>\n</div>"
          },
          "metadata": {},
          "execution_count": 5
        }
      ]
    },
    {
      "cell_type": "markdown",
      "metadata": {
        "id": "wwsqEU0csS6W"
      },
      "source": [
        "## Question 1.\n",
        "\n",
        "Implemente uma solução que implemente proposicionalização com 32 features\n",
        "de entrada, 9 perseptrons e uma única saída (denotando leste). As entradas codi=icam:"
      ]
    },
    {
      "cell_type": "code",
      "metadata": {
        "id": "yaDwHppC0UHM"
      },
      "source": [
        "# get data\n",
        "df = read_data()\n",
        "Y = (np.array(df.pop('Class_attribute')))\n",
        "X = (np.array(df))"
      ],
      "execution_count": 6,
      "outputs": []
    },
    {
      "cell_type": "markdown",
      "metadata": {
        "id": "bPpFYhh9BA9p"
      },
      "source": [
        "### Akin Propositionalization Model"
      ]
    },
    {
      "cell_type": "code",
      "metadata": {
        "id": "C89Uzm__GiDK",
        "colab": {
          "base_uri": "https://localhost:8080/"
        },
        "outputId": "dd544b88-ee63-4eba-fe93-b9c45e701a0f"
      },
      "source": [
        "# define model\n",
        "def model_v1():\n",
        "  model = Sequential([\n",
        "    Dense(9, activation='relu', input_shape=(len(df.keys()),)),\n",
        "    Dense(1, activation='sigmoid'),\n",
        "  ])\n",
        "  model.compile(\n",
        "    loss = binary_crossentropy, \n",
        "    optimizer = RAdamOptimizer(name='RAdam'),\n",
        "    metrics = ['mse', 'binary_accuracy']\n",
        "  ) \n",
        "  return model\n",
        "\n",
        "es = keras.callbacks.EarlyStopping(\n",
        "    monitor='val_loss', min_delta=0, patience=1000, verbose=0)\n",
        "\n",
        "model = model_v1()\n",
        "model.summary()"
      ],
      "execution_count": 7,
      "outputs": [
        {
          "output_type": "stream",
          "name": "stdout",
          "text": [
            "Model: \"sequential\"\n_________________________________________________________________\nLayer (type)                 Output Shape              Param #   \n=================================================================\ndense (Dense)                (None, 9)                 297       \n_________________________________________________________________\ndense_1 (Dense)              (None, 1)                 10        \n=================================================================\nTotal params: 307\nTrainable params: 307\nNon-trainable params: 0\n_________________________________________________________________\n"
          ]
        }
      ]
    },
    {
      "cell_type": "code",
      "metadata": {
        "id": "NT_PmyXd-rpo",
        "colab": {
          "base_uri": "https://localhost:8080/",
          "height": 312
        },
        "outputId": "399c6e94-4f41-465f-b566-f34d693b8c43"
      },
      "source": [
        "plot_model(model, show_shapes=True, show_layer_names=False)"
      ],
      "execution_count": null,
      "outputs": []
    },
    {
      "cell_type": "markdown",
      "metadata": {
        "id": "PKLXNbidBODc"
      },
      "source": [
        "### Train"
      ]
    },
    {
      "cell_type": "code",
      "metadata": {
        "id": "5I58Rg1Nq4Zf",
        "colab": {
          "base_uri": "https://localhost:8080/"
        },
        "outputId": "50bd5fe6-fadd-4ece-db72-1921324730d7"
      },
      "source": [
        "# train\n",
        "loo = LeaveOneOut()\n",
        "hists = dict()\n",
        "q1_names =  [\n",
        "  'Train', \n",
        "  'Output of flat network', \n",
        "  ' Desired output', \n",
        "  'Class'\n",
        "]\n",
        "log_dir = \"./\" + datetime.datetime.now().strftime(\"%Y%m%d-%H%M%S\")\n",
        "tensorboard_callback = tf.keras.callbacks.TensorBoard(log_dir=log_dir, histogram_freq=1)\n",
        "q1 = {name: [] for name in q1_names}\n",
        "\n",
        "for i, (train, test) in tqdm.tqdm(enumerate(loo.split(X)), total=10):\n",
        "  x_train = X[train]\n",
        "  y_train = Y[train]\n",
        "  x_test  = X[test]\n",
        "  y_test  = Y[test] \n",
        "\n",
        "  model = model_v1()\n",
        "  hist = model.fit(\n",
        "    x_train.astype('int64'),\n",
        "    y_train.astype('int64'),\n",
        "    validation_data=(x_test.astype('int64'), y_test.astype('int64')),\n",
        "    epochs=500,\n",
        "    verbose=0,\n",
        "    callbacks=[tensorboard_callback]\n",
        "  )\n",
        "  hists[test[0]] = hist\n",
        "  q1['Train'].append(i)\n",
        "  q1['Output of flat network'].append(model.predict(x_test.astype('int64'))[0][0])\n",
        "  q1[' Desired output'].append(y_test[0])\n",
        "  q1['Class'].append(str_att['Class_attribute'][int(y_test)])"
      ],
      "execution_count": null,
      "outputs": []
    },
    {
      "cell_type": "code",
      "metadata": {
        "id": "U03hzpt88dsw"
      },
      "source": [
        "%tensorboard --logdir \"./\""
      ],
      "execution_count": null,
      "outputs": []
    },
    {
      "cell_type": "markdown",
      "metadata": {
        "id": "ooYmO1ghBXPk"
      },
      "source": [
        "### Results"
      ]
    },
    {
      "cell_type": "code",
      "metadata": {
        "id": "BOW6B2jpBVRu"
      },
      "source": [
        "for i,history in enumerate(hists.values()):\n",
        "  plt.plot(history.history['mse'], c='tab:blue')\n",
        "  plt.plot(history.history['val_mse'], c='tab:orange')\n",
        "  \n",
        "plt.title('model mean_squared_error')\n",
        "plt.ylabel('MSE')\n",
        "plt.xlabel('epoch')\n",
        "plt.legend(['train', 'val'], loc='upper left')\n",
        "plt.show()"
      ],
      "execution_count": 8,
      "outputs": [
        {
          "output_type": "error",
          "ename": "NameError",
          "evalue": "name 'hists' is not defined",
          "traceback": [
            "\u001b[0;31m---------------------------------------------------------------------------\u001b[0m",
            "\u001b[0;31mNameError\u001b[0m                                 Traceback (most recent call last)",
            "\u001b[0;32m<ipython-input-8-9277f2c27389>\u001b[0m in \u001b[0;36m<module>\u001b[0;34m\u001b[0m\n\u001b[0;32m----> 1\u001b[0;31m \u001b[0;32mfor\u001b[0m \u001b[0mi\u001b[0m\u001b[0;34m,\u001b[0m\u001b[0mhistory\u001b[0m \u001b[0;32min\u001b[0m \u001b[0menumerate\u001b[0m\u001b[0;34m(\u001b[0m\u001b[0mhists\u001b[0m\u001b[0;34m.\u001b[0m\u001b[0mvalues\u001b[0m\u001b[0;34m(\u001b[0m\u001b[0;34m)\u001b[0m\u001b[0;34m)\u001b[0m\u001b[0;34m:\u001b[0m\u001b[0;34m\u001b[0m\u001b[0;34m\u001b[0m\u001b[0m\n\u001b[0m\u001b[1;32m      2\u001b[0m   \u001b[0mplt\u001b[0m\u001b[0;34m.\u001b[0m\u001b[0mplot\u001b[0m\u001b[0;34m(\u001b[0m\u001b[0mhistory\u001b[0m\u001b[0;34m.\u001b[0m\u001b[0mhistory\u001b[0m\u001b[0;34m[\u001b[0m\u001b[0;34m'mse'\u001b[0m\u001b[0;34m]\u001b[0m\u001b[0;34m,\u001b[0m \u001b[0mc\u001b[0m\u001b[0;34m=\u001b[0m\u001b[0;34m'tab:blue'\u001b[0m\u001b[0;34m)\u001b[0m\u001b[0;34m\u001b[0m\u001b[0;34m\u001b[0m\u001b[0m\n\u001b[1;32m      3\u001b[0m   \u001b[0mplt\u001b[0m\u001b[0;34m.\u001b[0m\u001b[0mplot\u001b[0m\u001b[0;34m(\u001b[0m\u001b[0mhistory\u001b[0m\u001b[0;34m.\u001b[0m\u001b[0mhistory\u001b[0m\u001b[0;34m[\u001b[0m\u001b[0;34m'val_mse'\u001b[0m\u001b[0;34m]\u001b[0m\u001b[0;34m,\u001b[0m \u001b[0mc\u001b[0m\u001b[0;34m=\u001b[0m\u001b[0;34m'tab:orange'\u001b[0m\u001b[0;34m)\u001b[0m\u001b[0;34m\u001b[0m\u001b[0;34m\u001b[0m\u001b[0m\n\u001b[1;32m      4\u001b[0m \u001b[0;34m\u001b[0m\u001b[0m\n\u001b[1;32m      5\u001b[0m \u001b[0mplt\u001b[0m\u001b[0;34m.\u001b[0m\u001b[0mtitle\u001b[0m\u001b[0;34m(\u001b[0m\u001b[0;34m'model mean_squared_error'\u001b[0m\u001b[0;34m)\u001b[0m\u001b[0;34m\u001b[0m\u001b[0;34m\u001b[0m\u001b[0m\n",
            "\u001b[0;31mNameError\u001b[0m: name 'hists' is not defined"
          ]
        }
      ]
    },
    {
      "cell_type": "code",
      "metadata": {
        "id": "j4wSFPMHSq9i"
      },
      "source": [
        "for i,history in enumerate(hists.values()):\n",
        "  plt.plot(history.history['binary_accuracy'], c='tab:blue')\n",
        "  plt.plot(history.history['val_binary_accuracy'], c='tab:orange')\n",
        "  \n",
        "plt.title('model binary_accuracy')\n",
        "plt.ylabel('MSE')\n",
        "plt.xlabel('epoch')\n",
        "plt.legend(['train', 'val'], loc='upper left')\n",
        "plt.show()"
      ],
      "execution_count": null,
      "outputs": []
    },
    {
      "cell_type": "code",
      "metadata": {
        "id": "DCfn0mjGwdrn"
      },
      "source": [
        "t1 = pd.DataFrame.from_dict(q1).round(2)"
      ],
      "execution_count": null,
      "outputs": []
    },
    {
      "cell_type": "code",
      "execution_count": null,
      "metadata": {},
      "outputs": [],
      "source": [
        "ndf = read_data()\n",
        "X2= ndf.drop('Class_attribute', axis=1)\n",
        "Y2 = ndf.Class_attribute\n",
        "X2.shape"
      ]
    },
    {
      "cell_type": "code",
      "execution_count": null,
      "metadata": {},
      "outputs": [],
      "source": [
        "explainer = dx.Explainer(model, X2.astype('int64'), Y2.astype('int64'))"
      ]
    },
    {
      "cell_type": "code",
      "execution_count": null,
      "metadata": {},
      "outputs": [],
      "source": [
        "explainer.model_performance()"
      ]
    },
    {
      "cell_type": "code",
      "execution_count": null,
      "metadata": {},
      "outputs": [],
      "source": [
        "explainer.model_parts().plot()"
      ]
    },
    {
      "cell_type": "markdown",
      "metadata": {
        "id": "BuAayJMpGkRN"
      },
      "source": [
        "## Question 2.\n",
        "\n",
        "Implemente uma solução com base no modelo de aprendizado relacional contendo meta-redes para conectar conceitos das premissas. Este modelos deve conter 11 redes, uma para cada um dos seguintes conceitos conforme definição das paginas 136 e 137:"
      ]
    },
    {
      "cell_type": "markdown",
      "metadata": {
        "id": "Z0PBb8FV1NEu"
      },
      "source": [
        "### metanet"
      ]
    },
    {
      "cell_type": "code",
      "metadata": {
        "id": "FCnTuECIFvuJ"
      },
      "source": [
        "def model_v2():\n",
        "  # features\n",
        "  t   = Input(shape=(1,), name='t')\n",
        "  c   = Input(shape=(1,), name='c') \n",
        "  w   = Input(shape=(1,), name='w')\n",
        "  l   = Input(shape=(1,), name='l')\n",
        "  s   = Input(shape=(1,), name='s')\n",
        "  nc  = Input(shape=(1,), name='nc')\n",
        "  ls  = Input(shape=(1,), name='ls')\n",
        "  nl  = Input(shape=(1,), name='nl')\n",
        "  ncl = Input(shape=(1,), name='ncl')\n",
        "  x_crc = Input(shape=(1,), name='x_crc')\n",
        "  x_hex = Input(shape=(1,), name='x_hex')\n",
        "  x_rec = Input(shape=(1,), name='x_rec')\n",
        "  x_tri = Input(shape=(1,), name='x_tri')\n",
        "\n",
        "  # num_cars(t,nc)\n",
        "  num_cars_ = concatenate([t,nc])\n",
        "  num_cars_ = Dense(20, activation='relu')(num_cars_)\n",
        "  num_cars = Dense(1, activation='sigmoid', name='num_cars')(num_cars_)\n",
        "  num_cars = Model(inputs=[t,nc], outputs=num_cars)\n",
        "\n",
        "  # num_loads(t,nl)\n",
        "  num_loads_ = concatenate([t,nl])\n",
        "  num_loads_ = Dense(20, activation='relu')(num_loads_)\n",
        "  num_loads = Dense(1, activation='sigmoid', name='num_loads')(num_loads_)\n",
        "  num_loads = Model(inputs=[t,nl], outputs=num_loads)\n",
        "\n",
        "  # num_wheels(t,c,w)\n",
        "  num_wheels_ = concatenate([t,c,w])\n",
        "  num_wheels_ = Dense(20, activation='relu')(num_wheels_)\n",
        "  num_wheels = Dense(1, activation='sigmoid', name='num_wheels')(num_wheels_)\n",
        "  num_wheels = Model(inputs=[t,c,w], outputs=num_wheels)\n",
        "\n",
        "  # length(t,c,l)\n",
        "  length_ = concatenate([t,c,l])\n",
        "  length_ = Dense(20, activation='relu')(length_)\n",
        "  length = Dense(1, activation='sigmoid', name='length')(length_)\n",
        "  length = Model(inputs=[t,c,l], outputs=length)\n",
        "\n",
        "  # shape(t,c,s)\n",
        "  shape_ = concatenate([t,c,s])\n",
        "  shape_ = Dense(20, activation='relu')(shape_)\n",
        "  shape = Dense(1, activation='sigmoid', name='shape')(shape_)\n",
        "  shape = Model(inputs=[t,c,s], outputs=shape)\n",
        "\n",
        "  # num_car_loads(t,c,ncl)\n",
        "  num_car_loads_ = concatenate([t,c,ncl])\n",
        "  num_car_loads_ = Dense(20, activation='relu')(num_car_loads_)\n",
        "  num_car_loads = Dense(1, activation='sigmoid', name='num_car_loads')(num_car_loads_)\n",
        "  num_car_loads = Model(inputs=[t,c,ncl], outputs=num_car_loads)\n",
        "\n",
        "  # load_shape(t,c,ls)\n",
        "  load_shape_ = concatenate([t,c,ls])\n",
        "  load_shape_ = Dense(20, activation='relu')(load_shape_)\n",
        "  load_shape = Dense(1, activation='sigmoid', name='load_shape')(load_shape_)\n",
        "  load_shape = Model(inputs=[t,c,ls], outputs=load_shape)\n",
        "\n",
        "  # next_crc(t,c,x)\n",
        "  next_crc_ = concatenate([t,c,x_crc])\n",
        "  next_crc_ = Dense(20, activation='relu')(next_crc_)\n",
        "  next_crc = Dense(1, activation='sigmoid', name='next_crc')(next_crc_)\n",
        "  next_crc = Model(inputs=[t,c,x_crc], outputs=next_crc)\n",
        "\n",
        "  # next_hex_(t,c,x)\n",
        "  next_hex_ = concatenate([t,c,x_hex])\n",
        "  next_hex_ = Dense(20, activation='relu')(next_hex_)\n",
        "  next_hex = Dense(1, activation='sigmoid', name='next_hex')(next_hex_)\n",
        "  next_hex = Model(inputs=[t,c,x_hex], outputs=next_hex)\n",
        "\n",
        "  # next_rec(t,c,x)\n",
        "  next_rec_ = concatenate([t,c,x_rec])\n",
        "  next_rec_ = Dense(20, activation='relu')(next_rec_)\n",
        "  next_rec = Dense(1, activation='sigmoid', name='next_rec')(next_rec_)\n",
        "  next_rec = Model(inputs=[t,c,x_rec], outputs=next_rec)\n",
        "\n",
        "  # next_tri(t,c,x)\n",
        "  next_tri_ = concatenate([t,c,x_tri])\n",
        "  next_tri_ = Dense(20, activation='relu')(next_tri_)\n",
        "  next_tri = Dense(1, activation='sigmoid', name='next_tri')(next_tri_)\n",
        "  next_tri = Model(inputs=[t,c,x_tri], outputs=next_tri)\n",
        "\n",
        "  # east\n",
        "  east = concatenate([\n",
        "    num_cars_, \n",
        "    num_loads_, \n",
        "    num_wheels_,\n",
        "    length_,\n",
        "    shape_,\n",
        "    num_car_loads_,\n",
        "    load_shape_,\n",
        "    next_crc_,\n",
        "    next_hex_,\n",
        "    next_rec_,\n",
        "    next_tri_\n",
        "  ])\n",
        "  east = Dense(3, activation='relu')(east)\n",
        "  east =  Dense(1, activation='sigmoid', name='east')(east)\n",
        "  east = Model(inputs=[t, c, w, l, s, nc, ls, nl, ncl, x_crc, x_hex, x_rec, x_tri], outputs=east)\n",
        "  \n",
        "  # metanet\n",
        "  metanet = Model(\n",
        "    inputs=east.inputs, \n",
        "    outputs=[\n",
        "      num_cars.output, \n",
        "      num_loads.output, \n",
        "      num_wheels.output,\n",
        "      length.output,\n",
        "      shape.output,\n",
        "      num_car_loads.output,\n",
        "      load_shape.output,\n",
        "      next_crc.output,\n",
        "      next_hex.output,\n",
        "      next_rec.output,\n",
        "      next_tri.output,\n",
        "      east.output\n",
        "  ])\n",
        "\n",
        "  # rules\n",
        "  rules = {\n",
        "    'num_cars': num_cars, \n",
        "    'num_loads': num_loads, \n",
        "    'num_wheels': num_wheels,\n",
        "    'length': length,\n",
        "    'shape': shape,\n",
        "    'num_car_loads': num_car_loads,\n",
        "    'load_shape': load_shape,\n",
        "    'next_crc': next_crc,\n",
        "    'next_hex': next_hex,\n",
        "    'next_rec': next_rec,\n",
        "    'next_tri': next_tri,\n",
        "  }\n",
        "\n",
        "  return metanet, east, rules\n",
        "\n",
        "metanet, east, rules = model_v2()\n",
        "metanet.summary()"
      ],
      "execution_count": 9,
      "outputs": [
        {
          "output_type": "stream",
          "name": "stdout",
          "text": [
            "Model: \"model_12\"\n__________________________________________________________________________________________________\nLayer (type)                    Output Shape         Param #     Connected to                     \n==================================================================================================\nt (InputLayer)                  [(None, 1)]          0                                            \n__________________________________________________________________________________________________\nnc (InputLayer)                 [(None, 1)]          0                                            \n__________________________________________________________________________________________________\nnl (InputLayer)                 [(None, 1)]          0                                            \n__________________________________________________________________________________________________\nc (InputLayer)                  [(None, 1)]          0                                            \n__________________________________________________________________________________________________\nw (InputLayer)                  [(None, 1)]          0                                            \n__________________________________________________________________________________________________\nl (InputLayer)                  [(None, 1)]          0                                            \n__________________________________________________________________________________________________\ns (InputLayer)                  [(None, 1)]          0                                            \n__________________________________________________________________________________________________\nncl (InputLayer)                [(None, 1)]          0                                            \n__________________________________________________________________________________________________\nls (InputLayer)                 [(None, 1)]          0                                            \n__________________________________________________________________________________________________\nx_crc (InputLayer)              [(None, 1)]          0                                            \n__________________________________________________________________________________________________\nx_hex (InputLayer)              [(None, 1)]          0                                            \n__________________________________________________________________________________________________\nx_rec (InputLayer)              [(None, 1)]          0                                            \n__________________________________________________________________________________________________\nx_tri (InputLayer)              [(None, 1)]          0                                            \n__________________________________________________________________________________________________\nconcatenate (Concatenate)       (None, 2)            0           t[0][0]                          \n                                                                 nc[0][0]                         \n__________________________________________________________________________________________________\nconcatenate_1 (Concatenate)     (None, 2)            0           t[0][0]                          \n                                                                 nl[0][0]                         \n__________________________________________________________________________________________________\nconcatenate_2 (Concatenate)     (None, 3)            0           t[0][0]                          \n                                                                 c[0][0]                          \n                                                                 w[0][0]                          \n__________________________________________________________________________________________________\nconcatenate_3 (Concatenate)     (None, 3)            0           t[0][0]                          \n                                                                 c[0][0]                          \n                                                                 l[0][0]                          \n__________________________________________________________________________________________________\nconcatenate_4 (Concatenate)     (None, 3)            0           t[0][0]                          \n                                                                 c[0][0]                          \n                                                                 s[0][0]                          \n__________________________________________________________________________________________________\nconcatenate_5 (Concatenate)     (None, 3)            0           t[0][0]                          \n                                                                 c[0][0]                          \n                                                                 ncl[0][0]                        \n__________________________________________________________________________________________________\nconcatenate_6 (Concatenate)     (None, 3)            0           t[0][0]                          \n                                                                 c[0][0]                          \n                                                                 ls[0][0]                         \n__________________________________________________________________________________________________\nconcatenate_7 (Concatenate)     (None, 3)            0           t[0][0]                          \n                                                                 c[0][0]                          \n                                                                 x_crc[0][0]                      \n__________________________________________________________________________________________________\nconcatenate_8 (Concatenate)     (None, 3)            0           t[0][0]                          \n                                                                 c[0][0]                          \n                                                                 x_hex[0][0]                      \n__________________________________________________________________________________________________\nconcatenate_9 (Concatenate)     (None, 3)            0           t[0][0]                          \n                                                                 c[0][0]                          \n                                                                 x_rec[0][0]                      \n__________________________________________________________________________________________________\nconcatenate_10 (Concatenate)    (None, 3)            0           t[0][0]                          \n                                                                 c[0][0]                          \n                                                                 x_tri[0][0]                      \n__________________________________________________________________________________________________\ndense_2 (Dense)                 (None, 20)           60          concatenate[0][0]                \n__________________________________________________________________________________________________\ndense_3 (Dense)                 (None, 20)           60          concatenate_1[0][0]              \n__________________________________________________________________________________________________\ndense_4 (Dense)                 (None, 20)           80          concatenate_2[0][0]              \n__________________________________________________________________________________________________\ndense_5 (Dense)                 (None, 20)           80          concatenate_3[0][0]              \n__________________________________________________________________________________________________\ndense_6 (Dense)                 (None, 20)           80          concatenate_4[0][0]              \n__________________________________________________________________________________________________\ndense_7 (Dense)                 (None, 20)           80          concatenate_5[0][0]              \n__________________________________________________________________________________________________\ndense_8 (Dense)                 (None, 20)           80          concatenate_6[0][0]              \n__________________________________________________________________________________________________\ndense_9 (Dense)                 (None, 20)           80          concatenate_7[0][0]              \n__________________________________________________________________________________________________\ndense_10 (Dense)                (None, 20)           80          concatenate_8[0][0]              \n__________________________________________________________________________________________________\ndense_11 (Dense)                (None, 20)           80          concatenate_9[0][0]              \n__________________________________________________________________________________________________\ndense_12 (Dense)                (None, 20)           80          concatenate_10[0][0]             \n__________________________________________________________________________________________________\nconcatenate_11 (Concatenate)    (None, 220)          0           dense_2[0][0]                    \n                                                                 dense_3[0][0]                    \n                                                                 dense_4[0][0]                    \n                                                                 dense_5[0][0]                    \n                                                                 dense_6[0][0]                    \n                                                                 dense_7[0][0]                    \n                                                                 dense_8[0][0]                    \n                                                                 dense_9[0][0]                    \n                                                                 dense_10[0][0]                   \n                                                                 dense_11[0][0]                   \n                                                                 dense_12[0][0]                   \n__________________________________________________________________________________________________\ndense_13 (Dense)                (None, 3)            663         concatenate_11[0][0]             \n__________________________________________________________________________________________________\nnum_cars (Dense)                (None, 1)            21          dense_2[0][0]                    \n__________________________________________________________________________________________________\nnum_loads (Dense)               (None, 1)            21          dense_3[0][0]                    \n__________________________________________________________________________________________________\nnum_wheels (Dense)              (None, 1)            21          dense_4[0][0]                    \n__________________________________________________________________________________________________\nlength (Dense)                  (None, 1)            21          dense_5[0][0]                    \n__________________________________________________________________________________________________\nshape (Dense)                   (None, 1)            21          dense_6[0][0]                    \n__________________________________________________________________________________________________\nnum_car_loads (Dense)           (None, 1)            21          dense_7[0][0]                    \n__________________________________________________________________________________________________\nload_shape (Dense)              (None, 1)            21          dense_8[0][0]                    \n__________________________________________________________________________________________________\nnext_crc (Dense)                (None, 1)            21          dense_9[0][0]                    \n__________________________________________________________________________________________________\nnext_hex (Dense)                (None, 1)            21          dense_10[0][0]                   \n__________________________________________________________________________________________________\nnext_rec (Dense)                (None, 1)            21          dense_11[0][0]                   \n__________________________________________________________________________________________________\nnext_tri (Dense)                (None, 1)            21          dense_12[0][0]                   \n__________________________________________________________________________________________________\neast (Dense)                    (None, 1)            4           dense_13[0][0]                   \n==================================================================================================\nTotal params: 1,738\nTrainable params: 1,738\nNon-trainable params: 0\n__________________________________________________________________________________________________\n"
          ]
        }
      ]
    },
    {
      "cell_type": "code",
      "metadata": {
        "id": "9P3AzfUx_wRZ"
      },
      "source": [
        "plot_model(metanet, show_shapes=False, show_layer_names=True)"
      ],
      "execution_count": 10,
      "outputs": [
        {
          "output_type": "stream",
          "name": "stdout",
          "text": [
            "('Failed to import pydot. You must `pip install pydot` and install graphviz (https://graphviz.gitlab.io/download/), ', 'for `pydotprint` to work.')\n"
          ]
        }
      ]
    },
    {
      "cell_type": "markdown",
      "metadata": {
        "id": "RRtn9f_N1_8s"
      },
      "source": [
        "### transform data"
      ]
    },
    {
      "cell_type": "code",
      "metadata": {
        "id": "ttUckQrg1oHA"
      },
      "source": [
        "# transform data\n",
        "df = read_data()\n",
        "cols = [[c for c in df.columns if not(str.isdigit(c[-1])) or (str.isdigit(c[-1]) and int(c[-1])==n)] for n in range(1,5)]\n",
        "\n",
        "data = [df[col] for col in cols]\n",
        "for c, df in enumerate(data):\n",
        "  df.columns = [name if not str.isdigit(name[-1]) else name[:-1] for name in df.columns]\n",
        "  df['car'] = c+1\n",
        "\n",
        "data = pd.concat(data)\n",
        "data.reset_index(level=0, inplace=True)\n",
        "data['train'] = data.pop('index')\n",
        "data.T[0]"
      ],
      "execution_count": 11,
      "outputs": [
        {
          "output_type": "execute_result",
          "data": {
            "text/plain": [
              "Number_of_cars                 5\n",
              "Number_of_different_loads      4\n",
              "num_wheels                     2\n",
              "length                         1\n",
              "shape                          6\n",
              "num_loads                      3\n",
              "load_shape                     2\n",
              "Rectangle_next_to_rectangle    0\n",
              "Rectangle_next_to_triangle     1\n",
              "Rectangle_next_to_hexagon      0\n",
              "Rectangle_next_to_circle       0\n",
              "Triangle_next_to_triangle      0\n",
              "Triangle_next_to_hexagon       1\n",
              "Triangle_next_to_circle        0\n",
              "Hexagon_next_to_hexagon        0\n",
              "Hexagon_next_to_circle         1\n",
              "Circle_next_to_circle          0\n",
              "Class_attribute                1\n",
              "car                            1\n",
              "train                          0\n",
              "Name: 0, dtype: object"
            ]
          },
          "metadata": {},
          "execution_count": 11
        }
      ]
    },
    {
      "cell_type": "markdown",
      "metadata": {
        "id": "sw7ws74MnHZc"
      },
      "source": [
        "### Train"
      ]
    },
    {
      "cell_type": "code",
      "metadata": {
        "id": "kSDtoAXF4ziw"
      },
      "source": [
        "def get_att(X):\n",
        "  t = X['train'].T\n",
        "  c = X['car'].T\n",
        "  w = X['num_wheels'].T\n",
        "  l = X['length'].T\n",
        "  s = X['shape'].T\n",
        "  nc = X['Number_of_cars'].T\n",
        "  ls = X['load_shape'].T\n",
        "  nl = X['Number_of_different_loads'].T\n",
        "  ncl = X['num_loads'].T\n",
        "  x_crc = np.sum(X[[col for col in X if col.endswith('circle')]], axis=1).T\n",
        "  x_hex = np.sum(X[[col for col in X if col.endswith('hexagon')]], axis=1).T\n",
        "  x_rec = np.sum(X[[col for col in X if col.endswith('rectangle')]], axis=1).T\n",
        "  x_tri = np.sum(X[[col for col in X if col.endswith('triangle')]], axis=1).T\n",
        "\n",
        "  return [t, c, w, l, s, nc, ls, nl, ncl, x_crc, x_hex, x_rec, x_tri]\n",
        "\n",
        "def split(data, val_train):\n",
        "  x_train = data.astype('int64').query(f'train != {val_train}')\n",
        "  x_test = data.astype('int64').query(f'train == {val_train}')\n",
        "  y_train = np.array(x_train.pop('Class_attribute'))\n",
        "  y_test = np.array(x_test.pop('Class_attribute'))\n",
        "  x_train = get_att(x_train)\n",
        "  x_test = get_att(x_test)\n",
        "  return x_train, x_test, np.array(y_train), np.array(y_test)"
      ],
      "execution_count": 12,
      "outputs": []
    },
    {
      "cell_type": "code",
      "metadata": {
        "id": "puqmQMPs1fZE"
      },
      "source": [
        "kf = KFold(n_splits=10, shuffle=False)\n",
        "hists = dict()\n",
        "log_dir = \"./logs\" + datetime.datetime.now().strftime(\"%Y%m%d-%H%M%S\")\n",
        "tensorboard_callback = tf.keras.callbacks.TensorBoard(log_dir=log_dir, histogram_freq=1)\n",
        "q2_names =  [\n",
        "  'Train',\n",
        "  'Cars Accuracy',\n",
        "  'Output of flat network', \n",
        "  'Desired output', \n",
        "  'Class'\n",
        "]\n",
        "q2 = {name: [] for name in q2_names}\n",
        "\n",
        "for val_train in tqdm.tqdm(range(0,10)):\n",
        "  x_train, x_test, y_train, y_test = split(data, val_train)\n",
        "  metanet, east, rules = model_v2()\n",
        "  east.compile(\n",
        "    loss = binary_crossentropy, \n",
        "    optimizer = RAdamOptimizer(name='RAdam'),\n",
        "    metrics = ['mse', 'binary_accuracy'])\n",
        "  hist = east.fit(\n",
        "    x_train,\n",
        "    y_train,\n",
        "    validation_data=(x_test, y_test),\n",
        "    epochs=1000,\n",
        "    verbose=0,\n",
        "    callbacks=[tensorboard_callback]\n",
        "    )\n",
        "  hists[val_train] = hist\n",
        "\n",
        "  q2['Train'].append(val_train)\n",
        "  q2['Output of flat network'].append(east.predict(x_test)[0][0])\n",
        "  q2['Desired output'].append(y_test[0])\n",
        "  q2['Class'].append(str_att['Class_attribute'][int(y_test[0])])\n",
        "  "
      ],
      "execution_count": 13,
      "outputs": [
        {
          "output_type": "stream",
          "name": "stderr",
          "text": [
            " 40%|████      | 4/10 [02:31<03:46, 37.75s/it]WARNING:tensorflow:5 out of the last 5 calls to <function Model.make_predict_function.<locals>.predict_function at 0x7f2e985fddc0> triggered tf.function retracing. Tracing is expensive and the excessive number of tracings could be due to (1) creating @tf.function repeatedly in a loop, (2) passing tensors with different shapes, (3) passing Python objects instead of tensors. For (1), please define your @tf.function outside of the loop. For (2), @tf.function has experimental_relax_shapes=True option that relaxes argument shapes that can avoid unnecessary retracing. For (3), please refer to https://www.tensorflow.org/guide/function#controlling_retracing and https://www.tensorflow.org/api_docs/python/tf/function for  more details.\n",
            " 50%|█████     | 5/10 [03:10<03:09, 37.94s/it]WARNING:tensorflow:6 out of the last 6 calls to <function Model.make_predict_function.<locals>.predict_function at 0x7f2e3901a430> triggered tf.function retracing. Tracing is expensive and the excessive number of tracings could be due to (1) creating @tf.function repeatedly in a loop, (2) passing tensors with different shapes, (3) passing Python objects instead of tensors. For (1), please define your @tf.function outside of the loop. For (2), @tf.function has experimental_relax_shapes=True option that relaxes argument shapes that can avoid unnecessary retracing. For (3), please refer to https://www.tensorflow.org/guide/function#controlling_retracing and https://www.tensorflow.org/api_docs/python/tf/function for  more details.\n",
            " 60%|██████    | 6/10 [03:48<02:32, 38.13s/it]WARNING:tensorflow:7 out of the last 7 calls to <function Model.make_predict_function.<locals>.predict_function at 0x7f2e682da790> triggered tf.function retracing. Tracing is expensive and the excessive number of tracings could be due to (1) creating @tf.function repeatedly in a loop, (2) passing tensors with different shapes, (3) passing Python objects instead of tensors. For (1), please define your @tf.function outside of the loop. For (2), @tf.function has experimental_relax_shapes=True option that relaxes argument shapes that can avoid unnecessary retracing. For (3), please refer to https://www.tensorflow.org/guide/function#controlling_retracing and https://www.tensorflow.org/api_docs/python/tf/function for  more details.\n",
            " 70%|███████   | 7/10 [04:27<01:55, 38.34s/it]WARNING:tensorflow:8 out of the last 8 calls to <function Model.make_predict_function.<locals>.predict_function at 0x7f2e985fd9d0> triggered tf.function retracing. Tracing is expensive and the excessive number of tracings could be due to (1) creating @tf.function repeatedly in a loop, (2) passing tensors with different shapes, (3) passing Python objects instead of tensors. For (1), please define your @tf.function outside of the loop. For (2), @tf.function has experimental_relax_shapes=True option that relaxes argument shapes that can avoid unnecessary retracing. For (3), please refer to https://www.tensorflow.org/guide/function#controlling_retracing and https://www.tensorflow.org/api_docs/python/tf/function for  more details.\n",
            " 80%|████████  | 8/10 [05:05<01:16, 38.38s/it]WARNING:tensorflow:9 out of the last 9 calls to <function Model.make_predict_function.<locals>.predict_function at 0x7f2e2ace28b0> triggered tf.function retracing. Tracing is expensive and the excessive number of tracings could be due to (1) creating @tf.function repeatedly in a loop, (2) passing tensors with different shapes, (3) passing Python objects instead of tensors. For (1), please define your @tf.function outside of the loop. For (2), @tf.function has experimental_relax_shapes=True option that relaxes argument shapes that can avoid unnecessary retracing. For (3), please refer to https://www.tensorflow.org/guide/function#controlling_retracing and https://www.tensorflow.org/api_docs/python/tf/function for  more details.\n",
            " 90%|█████████ | 9/10 [05:44<00:38, 38.41s/it]WARNING:tensorflow:10 out of the last 10 calls to <function Model.make_predict_function.<locals>.predict_function at 0x7f2e98662e50> triggered tf.function retracing. Tracing is expensive and the excessive number of tracings could be due to (1) creating @tf.function repeatedly in a loop, (2) passing tensors with different shapes, (3) passing Python objects instead of tensors. For (1), please define your @tf.function outside of the loop. For (2), @tf.function has experimental_relax_shapes=True option that relaxes argument shapes that can avoid unnecessary retracing. For (3), please refer to https://www.tensorflow.org/guide/function#controlling_retracing and https://www.tensorflow.org/api_docs/python/tf/function for  more details.\n",
            "100%|██████████| 10/10 [06:24<00:00, 38.46s/it]\n"
          ]
        }
      ]
    },
    {
      "cell_type": "code",
      "execution_count": 19,
      "metadata": {},
      "outputs": [
        {
          "output_type": "execute_result",
          "data": {
            "text/plain": [
              "(10, 32)"
            ]
          },
          "metadata": {},
          "execution_count": 19
        }
      ],
      "source": [
        "ndf = read_data()\n",
        "X2= ndf.drop('Class_attribute', axis=1)\n",
        "Y2 = ndf.Class_attribute\n",
        "X2.shape"
      ]
    },
    {
      "cell_type": "code",
      "execution_count": 20,
      "metadata": {},
      "outputs": [
        {
          "output_type": "stream",
          "name": "stdout",
          "text": [
            "Preparation of a new explainer is initiated\n\n  -> data              : 10 rows 32 cols\n  -> target variable   : Parameter 'y' was a pandas.Series. Converted to a numpy.ndarray.\n  -> target variable   : 10 values\n  -> model_class       : tensorflow.python.keras.engine.functional.Functional (default)\n  -> label             : Not specified, model's class short name will be used. (default)\n  -> predict function  : <function yhat_tf_regression at 0x7f2f0b3499d0> will be used (default)\n  -> predict function  : Accepts only pandas.DataFrame, numpy.ndarray causes problems.\n  -> model type        : regression will be used (default)\n  -> residual function : difference between y and yhat (default)\n  -> residuals         :  'residual_function' returns an Error when executed:\nin user code:\n\n    /home/thiago/.local/lib/python3.8/site-packages/tensorflow/python/keras/engine/training.py:1478 predict_function  *\n        return step_function(self, iterator)\n    /home/thiago/.local/lib/python3.8/site-packages/tensorflow/python/keras/engine/training.py:1468 step_function  **\n        outputs = model.distribute_strategy.run(run_step, args=(data,))\n    /home/thiago/.local/lib/python3.8/site-packages/tensorflow/python/distribute/distribute_lib.py:1259 run\n        return self._extended.call_for_each_replica(fn, args=args, kwargs=kwargs)\n    /home/thiago/.local/lib/python3.8/site-packages/tensorflow/python/distribute/distribute_lib.py:2730 call_for_each_replica\n        return self._call_for_each_replica(fn, args, kwargs)\n    /home/thiago/.local/lib/python3.8/site-packages/tensorflow/python/distribute/distribute_lib.py:3417 _call_for_each_replica\n        return fn(*args, **kwargs)\n    /home/thiago/.local/lib/python3.8/site-packages/tensorflow/python/keras/engine/training.py:1461 run_step  **\n        outputs = model.predict_step(data)\n    /home/thiago/.local/lib/python3.8/site-packages/tensorflow/python/keras/engine/training.py:1434 predict_step\n        return self(x, training=False)\n    /home/thiago/.local/lib/python3.8/site-packages/tensorflow/python/keras/engine/base_layer.py:998 __call__\n        input_spec.assert_input_compatibility(self.input_spec, inputs, self.name)\n    /home/thiago/.local/lib/python3.8/site-packages/tensorflow/python/keras/engine/input_spec.py:204 assert_input_compatibility\n        raise ValueError('Layer ' + layer_name + ' expects ' +\n\n    ValueError: Layer model_141 expects 13 input(s), but it received 1 input tensors. Inputs received: [<tf.Tensor 'IteratorGetNext:0' shape=(None, 32) dtype=int64>]\n\n  -> model_info        : package tensorflow\n\nA new explainer has been created!\n"
          ]
        }
      ],
      "source": [
        "explainer = dx.Explainer(east, X2.astype('int64'), Y2.astype('int64'))"
      ]
    },
    {
      "cell_type": "code",
      "execution_count": 21,
      "metadata": {},
      "outputs": [
        {
          "output_type": "error",
          "ename": "ValueError",
          "evalue": "in user code:\n\n    /home/thiago/.local/lib/python3.8/site-packages/tensorflow/python/keras/engine/training.py:1478 predict_function  *\n        return step_function(self, iterator)\n    /home/thiago/.local/lib/python3.8/site-packages/tensorflow/python/keras/engine/training.py:1468 step_function  **\n        outputs = model.distribute_strategy.run(run_step, args=(data,))\n    /home/thiago/.local/lib/python3.8/site-packages/tensorflow/python/distribute/distribute_lib.py:1259 run\n        return self._extended.call_for_each_replica(fn, args=args, kwargs=kwargs)\n    /home/thiago/.local/lib/python3.8/site-packages/tensorflow/python/distribute/distribute_lib.py:2730 call_for_each_replica\n        return self._call_for_each_replica(fn, args, kwargs)\n    /home/thiago/.local/lib/python3.8/site-packages/tensorflow/python/distribute/distribute_lib.py:3417 _call_for_each_replica\n        return fn(*args, **kwargs)\n    /home/thiago/.local/lib/python3.8/site-packages/tensorflow/python/keras/engine/training.py:1461 run_step  **\n        outputs = model.predict_step(data)\n    /home/thiago/.local/lib/python3.8/site-packages/tensorflow/python/keras/engine/training.py:1434 predict_step\n        return self(x, training=False)\n    /home/thiago/.local/lib/python3.8/site-packages/tensorflow/python/keras/engine/base_layer.py:998 __call__\n        input_spec.assert_input_compatibility(self.input_spec, inputs, self.name)\n    /home/thiago/.local/lib/python3.8/site-packages/tensorflow/python/keras/engine/input_spec.py:204 assert_input_compatibility\n        raise ValueError('Layer ' + layer_name + ' expects ' +\n\n    ValueError: Layer model_141 expects 13 input(s), but it received 1 input tensors. Inputs received: [<tf.Tensor 'IteratorGetNext:0' shape=(None, 32) dtype=int64>]\n",
          "traceback": [
            "\u001b[0;31m---------------------------------------------------------------------------\u001b[0m",
            "\u001b[0;31mValueError\u001b[0m                                Traceback (most recent call last)",
            "\u001b[0;32m<ipython-input-21-2e383353584c>\u001b[0m in \u001b[0;36m<module>\u001b[0;34m\u001b[0m\n\u001b[0;32m----> 1\u001b[0;31m \u001b[0mexplainer\u001b[0m\u001b[0;34m.\u001b[0m\u001b[0mmodel_performance\u001b[0m\u001b[0;34m(\u001b[0m\u001b[0;34m)\u001b[0m\u001b[0;34m\u001b[0m\u001b[0;34m\u001b[0m\u001b[0m\n\u001b[0m",
            "\u001b[0;32m~/.local/lib/python3.8/site-packages/dalex/_explainer/object.py\u001b[0m in \u001b[0;36mmodel_performance\u001b[0;34m(self, model_type, cutoff, label)\u001b[0m\n\u001b[1;32m    482\u001b[0m             \u001b[0mcutoff\u001b[0m\u001b[0;34m=\u001b[0m\u001b[0mcutoff\u001b[0m\u001b[0;34m\u001b[0m\u001b[0;34m\u001b[0m\u001b[0m\n\u001b[1;32m    483\u001b[0m         )\n\u001b[0;32m--> 484\u001b[0;31m         \u001b[0mmodel_performance_\u001b[0m\u001b[0;34m.\u001b[0m\u001b[0mfit\u001b[0m\u001b[0;34m(\u001b[0m\u001b[0mself\u001b[0m\u001b[0;34m)\u001b[0m\u001b[0;34m\u001b[0m\u001b[0;34m\u001b[0m\u001b[0m\n\u001b[0m\u001b[1;32m    485\u001b[0m \u001b[0;34m\u001b[0m\u001b[0m\n\u001b[1;32m    486\u001b[0m         \u001b[0;32mif\u001b[0m \u001b[0mlabel\u001b[0m\u001b[0;34m:\u001b[0m\u001b[0;34m\u001b[0m\u001b[0;34m\u001b[0m\u001b[0m\n",
            "\u001b[0;32m~/.local/lib/python3.8/site-packages/dalex/dataset_level/_model_performance/object.py\u001b[0m in \u001b[0;36mfit\u001b[0;34m(self, explainer)\u001b[0m\n\u001b[1;32m     62\u001b[0m             \u001b[0my_pred\u001b[0m \u001b[0;34m=\u001b[0m \u001b[0mexplainer\u001b[0m\u001b[0;34m.\u001b[0m\u001b[0my_hat\u001b[0m\u001b[0;34m\u001b[0m\u001b[0;34m\u001b[0m\u001b[0m\n\u001b[1;32m     63\u001b[0m         \u001b[0;32melse\u001b[0m\u001b[0;34m:\u001b[0m\u001b[0;34m\u001b[0m\u001b[0;34m\u001b[0m\u001b[0m\n\u001b[0;32m---> 64\u001b[0;31m             \u001b[0my_pred\u001b[0m \u001b[0;34m=\u001b[0m \u001b[0mexplainer\u001b[0m\u001b[0;34m.\u001b[0m\u001b[0mpredict\u001b[0m\u001b[0;34m(\u001b[0m\u001b[0mexplainer\u001b[0m\u001b[0;34m.\u001b[0m\u001b[0mdata\u001b[0m\u001b[0;34m)\u001b[0m\u001b[0;34m\u001b[0m\u001b[0;34m\u001b[0m\u001b[0m\n\u001b[0m\u001b[1;32m     65\u001b[0m \u001b[0;34m\u001b[0m\u001b[0m\n\u001b[1;32m     66\u001b[0m         \u001b[0;32mif\u001b[0m \u001b[0mexplainer\u001b[0m\u001b[0;34m.\u001b[0m\u001b[0mresiduals\u001b[0m \u001b[0;32mis\u001b[0m \u001b[0;32mnot\u001b[0m \u001b[0;32mNone\u001b[0m\u001b[0;34m:\u001b[0m\u001b[0;34m\u001b[0m\u001b[0;34m\u001b[0m\u001b[0m\n",
            "\u001b[0;32m~/.local/lib/python3.8/site-packages/dalex/_explainer/object.py\u001b[0m in \u001b[0;36mpredict\u001b[0;34m(self, data)\u001b[0m\n\u001b[1;32m    196\u001b[0m         \u001b[0mchecks\u001b[0m\u001b[0;34m.\u001b[0m\u001b[0mcheck_method_data\u001b[0m\u001b[0;34m(\u001b[0m\u001b[0mdata\u001b[0m\u001b[0;34m)\u001b[0m\u001b[0;34m\u001b[0m\u001b[0;34m\u001b[0m\u001b[0m\n\u001b[1;32m    197\u001b[0m \u001b[0;34m\u001b[0m\u001b[0m\n\u001b[0;32m--> 198\u001b[0;31m         \u001b[0;32mreturn\u001b[0m \u001b[0mself\u001b[0m\u001b[0;34m.\u001b[0m\u001b[0mpredict_function\u001b[0m\u001b[0;34m(\u001b[0m\u001b[0mself\u001b[0m\u001b[0;34m.\u001b[0m\u001b[0mmodel\u001b[0m\u001b[0;34m,\u001b[0m \u001b[0mdata\u001b[0m\u001b[0;34m)\u001b[0m\u001b[0;34m\u001b[0m\u001b[0;34m\u001b[0m\u001b[0m\n\u001b[0m\u001b[1;32m    199\u001b[0m \u001b[0;34m\u001b[0m\u001b[0m\n\u001b[1;32m    200\u001b[0m     \u001b[0;32mdef\u001b[0m \u001b[0mresidual\u001b[0m\u001b[0;34m(\u001b[0m\u001b[0mself\u001b[0m\u001b[0;34m,\u001b[0m \u001b[0mdata\u001b[0m\u001b[0;34m,\u001b[0m \u001b[0my\u001b[0m\u001b[0;34m)\u001b[0m\u001b[0;34m:\u001b[0m\u001b[0;34m\u001b[0m\u001b[0;34m\u001b[0m\u001b[0m\n",
            "\u001b[0;32m~/.local/lib/python3.8/site-packages/dalex/_explainer/yhat.py\u001b[0m in \u001b[0;36myhat_tf_regression\u001b[0;34m(m, d)\u001b[0m\n\u001b[1;32m     30\u001b[0m \u001b[0;34m\u001b[0m\u001b[0m\n\u001b[1;32m     31\u001b[0m \u001b[0;32mdef\u001b[0m \u001b[0myhat_tf_regression\u001b[0m\u001b[0;34m(\u001b[0m\u001b[0mm\u001b[0m\u001b[0;34m,\u001b[0m \u001b[0md\u001b[0m\u001b[0;34m)\u001b[0m\u001b[0;34m:\u001b[0m\u001b[0;34m\u001b[0m\u001b[0;34m\u001b[0m\u001b[0m\n\u001b[0;32m---> 32\u001b[0;31m     \u001b[0;32mreturn\u001b[0m \u001b[0mm\u001b[0m\u001b[0;34m.\u001b[0m\u001b[0mpredict\u001b[0m\u001b[0;34m(\u001b[0m\u001b[0mnp\u001b[0m\u001b[0;34m.\u001b[0m\u001b[0marray\u001b[0m\u001b[0;34m(\u001b[0m\u001b[0md\u001b[0m\u001b[0;34m)\u001b[0m\u001b[0;34m)\u001b[0m\u001b[0;34m.\u001b[0m\u001b[0mreshape\u001b[0m\u001b[0;34m(\u001b[0m\u001b[0;34m-\u001b[0m\u001b[0;36m1\u001b[0m\u001b[0;34m,\u001b[0m \u001b[0;34m)\u001b[0m\u001b[0;34m\u001b[0m\u001b[0;34m\u001b[0m\u001b[0m\n\u001b[0m\u001b[1;32m     33\u001b[0m \u001b[0;34m\u001b[0m\u001b[0m\n\u001b[1;32m     34\u001b[0m \u001b[0;34m\u001b[0m\u001b[0m\n",
            "\u001b[0;32m~/.local/lib/python3.8/site-packages/tensorflow/python/keras/engine/training.py\u001b[0m in \u001b[0;36mpredict\u001b[0;34m(self, x, batch_size, verbose, steps, callbacks, max_queue_size, workers, use_multiprocessing)\u001b[0m\n\u001b[1;32m   1627\u001b[0m           \u001b[0;32mfor\u001b[0m \u001b[0mstep\u001b[0m \u001b[0;32min\u001b[0m \u001b[0mdata_handler\u001b[0m\u001b[0;34m.\u001b[0m\u001b[0msteps\u001b[0m\u001b[0;34m(\u001b[0m\u001b[0;34m)\u001b[0m\u001b[0;34m:\u001b[0m\u001b[0;34m\u001b[0m\u001b[0;34m\u001b[0m\u001b[0m\n\u001b[1;32m   1628\u001b[0m             \u001b[0mcallbacks\u001b[0m\u001b[0;34m.\u001b[0m\u001b[0mon_predict_batch_begin\u001b[0m\u001b[0;34m(\u001b[0m\u001b[0mstep\u001b[0m\u001b[0;34m)\u001b[0m\u001b[0;34m\u001b[0m\u001b[0;34m\u001b[0m\u001b[0m\n\u001b[0;32m-> 1629\u001b[0;31m             \u001b[0mtmp_batch_outputs\u001b[0m \u001b[0;34m=\u001b[0m \u001b[0mself\u001b[0m\u001b[0;34m.\u001b[0m\u001b[0mpredict_function\u001b[0m\u001b[0;34m(\u001b[0m\u001b[0miterator\u001b[0m\u001b[0;34m)\u001b[0m\u001b[0;34m\u001b[0m\u001b[0;34m\u001b[0m\u001b[0m\n\u001b[0m\u001b[1;32m   1630\u001b[0m             \u001b[0;32mif\u001b[0m \u001b[0mdata_handler\u001b[0m\u001b[0;34m.\u001b[0m\u001b[0mshould_sync\u001b[0m\u001b[0;34m:\u001b[0m\u001b[0;34m\u001b[0m\u001b[0;34m\u001b[0m\u001b[0m\n\u001b[1;32m   1631\u001b[0m               \u001b[0mcontext\u001b[0m\u001b[0;34m.\u001b[0m\u001b[0masync_wait\u001b[0m\u001b[0;34m(\u001b[0m\u001b[0;34m)\u001b[0m\u001b[0;34m\u001b[0m\u001b[0;34m\u001b[0m\u001b[0m\n",
            "\u001b[0;32m~/.local/lib/python3.8/site-packages/tensorflow/python/eager/def_function.py\u001b[0m in \u001b[0;36m__call__\u001b[0;34m(self, *args, **kwds)\u001b[0m\n\u001b[1;32m    826\u001b[0m     \u001b[0mtracing_count\u001b[0m \u001b[0;34m=\u001b[0m \u001b[0mself\u001b[0m\u001b[0;34m.\u001b[0m\u001b[0mexperimental_get_tracing_count\u001b[0m\u001b[0;34m(\u001b[0m\u001b[0;34m)\u001b[0m\u001b[0;34m\u001b[0m\u001b[0;34m\u001b[0m\u001b[0m\n\u001b[1;32m    827\u001b[0m     \u001b[0;32mwith\u001b[0m \u001b[0mtrace\u001b[0m\u001b[0;34m.\u001b[0m\u001b[0mTrace\u001b[0m\u001b[0;34m(\u001b[0m\u001b[0mself\u001b[0m\u001b[0;34m.\u001b[0m\u001b[0m_name\u001b[0m\u001b[0;34m)\u001b[0m \u001b[0;32mas\u001b[0m \u001b[0mtm\u001b[0m\u001b[0;34m:\u001b[0m\u001b[0;34m\u001b[0m\u001b[0;34m\u001b[0m\u001b[0m\n\u001b[0;32m--> 828\u001b[0;31m       \u001b[0mresult\u001b[0m \u001b[0;34m=\u001b[0m \u001b[0mself\u001b[0m\u001b[0;34m.\u001b[0m\u001b[0m_call\u001b[0m\u001b[0;34m(\u001b[0m\u001b[0;34m*\u001b[0m\u001b[0margs\u001b[0m\u001b[0;34m,\u001b[0m \u001b[0;34m**\u001b[0m\u001b[0mkwds\u001b[0m\u001b[0;34m)\u001b[0m\u001b[0;34m\u001b[0m\u001b[0;34m\u001b[0m\u001b[0m\n\u001b[0m\u001b[1;32m    829\u001b[0m       \u001b[0mcompiler\u001b[0m \u001b[0;34m=\u001b[0m \u001b[0;34m\"xla\"\u001b[0m \u001b[0;32mif\u001b[0m \u001b[0mself\u001b[0m\u001b[0;34m.\u001b[0m\u001b[0m_experimental_compile\u001b[0m \u001b[0;32melse\u001b[0m \u001b[0;34m\"nonXla\"\u001b[0m\u001b[0;34m\u001b[0m\u001b[0;34m\u001b[0m\u001b[0m\n\u001b[1;32m    830\u001b[0m       \u001b[0mnew_tracing_count\u001b[0m \u001b[0;34m=\u001b[0m \u001b[0mself\u001b[0m\u001b[0;34m.\u001b[0m\u001b[0mexperimental_get_tracing_count\u001b[0m\u001b[0;34m(\u001b[0m\u001b[0;34m)\u001b[0m\u001b[0;34m\u001b[0m\u001b[0;34m\u001b[0m\u001b[0m\n",
            "\u001b[0;32m~/.local/lib/python3.8/site-packages/tensorflow/python/eager/def_function.py\u001b[0m in \u001b[0;36m_call\u001b[0;34m(self, *args, **kwds)\u001b[0m\n\u001b[1;32m    860\u001b[0m       \u001b[0;31m# In this case we have not created variables on the first call. So we can\u001b[0m\u001b[0;34m\u001b[0m\u001b[0;34m\u001b[0m\u001b[0;34m\u001b[0m\u001b[0m\n\u001b[1;32m    861\u001b[0m       \u001b[0;31m# run the first trace but we should fail if variables are created.\u001b[0m\u001b[0;34m\u001b[0m\u001b[0;34m\u001b[0m\u001b[0;34m\u001b[0m\u001b[0m\n\u001b[0;32m--> 862\u001b[0;31m       \u001b[0mresults\u001b[0m \u001b[0;34m=\u001b[0m \u001b[0mself\u001b[0m\u001b[0;34m.\u001b[0m\u001b[0m_stateful_fn\u001b[0m\u001b[0;34m(\u001b[0m\u001b[0;34m*\u001b[0m\u001b[0margs\u001b[0m\u001b[0;34m,\u001b[0m \u001b[0;34m**\u001b[0m\u001b[0mkwds\u001b[0m\u001b[0;34m)\u001b[0m\u001b[0;34m\u001b[0m\u001b[0;34m\u001b[0m\u001b[0m\n\u001b[0m\u001b[1;32m    863\u001b[0m       \u001b[0;32mif\u001b[0m \u001b[0mself\u001b[0m\u001b[0;34m.\u001b[0m\u001b[0m_created_variables\u001b[0m\u001b[0;34m:\u001b[0m\u001b[0;34m\u001b[0m\u001b[0;34m\u001b[0m\u001b[0m\n\u001b[1;32m    864\u001b[0m         raise ValueError(\"Creating variables on a non-first call to a function\"\n",
            "\u001b[0;32m~/.local/lib/python3.8/site-packages/tensorflow/python/eager/function.py\u001b[0m in \u001b[0;36m__call__\u001b[0;34m(self, *args, **kwargs)\u001b[0m\n\u001b[1;32m   2939\u001b[0m     \u001b[0;32mwith\u001b[0m \u001b[0mself\u001b[0m\u001b[0;34m.\u001b[0m\u001b[0m_lock\u001b[0m\u001b[0;34m:\u001b[0m\u001b[0;34m\u001b[0m\u001b[0;34m\u001b[0m\u001b[0m\n\u001b[1;32m   2940\u001b[0m       (graph_function,\n\u001b[0;32m-> 2941\u001b[0;31m        filtered_flat_args) = self._maybe_define_function(args, kwargs)\n\u001b[0m\u001b[1;32m   2942\u001b[0m     return graph_function._call_flat(\n\u001b[1;32m   2943\u001b[0m         filtered_flat_args, captured_inputs=graph_function.captured_inputs)  # pylint: disable=protected-access\n",
            "\u001b[0;32m~/.local/lib/python3.8/site-packages/tensorflow/python/eager/function.py\u001b[0m in \u001b[0;36m_maybe_define_function\u001b[0;34m(self, args, kwargs)\u001b[0m\n\u001b[1;32m   3355\u001b[0m               \u001b[0mself\u001b[0m\u001b[0;34m.\u001b[0m\u001b[0minput_signature\u001b[0m \u001b[0;32mis\u001b[0m \u001b[0;32mNone\u001b[0m \u001b[0;32mand\u001b[0m\u001b[0;34m\u001b[0m\u001b[0;34m\u001b[0m\u001b[0m\n\u001b[1;32m   3356\u001b[0m               call_context_key in self._function_cache.missed):\n\u001b[0;32m-> 3357\u001b[0;31m             return self._define_function_with_shape_relaxation(\n\u001b[0m\u001b[1;32m   3358\u001b[0m                 args, kwargs, flat_args, filtered_flat_args, cache_key_context)\n\u001b[1;32m   3359\u001b[0m \u001b[0;34m\u001b[0m\u001b[0m\n",
            "\u001b[0;32m~/.local/lib/python3.8/site-packages/tensorflow/python/eager/function.py\u001b[0m in \u001b[0;36m_define_function_with_shape_relaxation\u001b[0;34m(self, args, kwargs, flat_args, filtered_flat_args, cache_key_context)\u001b[0m\n\u001b[1;32m   3277\u001b[0m           expand_composites=True)\n\u001b[1;32m   3278\u001b[0m \u001b[0;34m\u001b[0m\u001b[0m\n\u001b[0;32m-> 3279\u001b[0;31m     graph_function = self._create_graph_function(\n\u001b[0m\u001b[1;32m   3280\u001b[0m         args, kwargs, override_flat_arg_shapes=relaxed_arg_shapes)\n\u001b[1;32m   3281\u001b[0m     \u001b[0mself\u001b[0m\u001b[0;34m.\u001b[0m\u001b[0m_function_cache\u001b[0m\u001b[0;34m.\u001b[0m\u001b[0marg_relaxed\u001b[0m\u001b[0;34m[\u001b[0m\u001b[0mrank_only_cache_key\u001b[0m\u001b[0;34m]\u001b[0m \u001b[0;34m=\u001b[0m \u001b[0mgraph_function\u001b[0m\u001b[0;34m\u001b[0m\u001b[0;34m\u001b[0m\u001b[0m\n",
            "\u001b[0;32m~/.local/lib/python3.8/site-packages/tensorflow/python/eager/function.py\u001b[0m in \u001b[0;36m_create_graph_function\u001b[0;34m(self, args, kwargs, override_flat_arg_shapes)\u001b[0m\n\u001b[1;32m   3194\u001b[0m     \u001b[0marg_names\u001b[0m \u001b[0;34m=\u001b[0m \u001b[0mbase_arg_names\u001b[0m \u001b[0;34m+\u001b[0m \u001b[0mmissing_arg_names\u001b[0m\u001b[0;34m\u001b[0m\u001b[0;34m\u001b[0m\u001b[0m\n\u001b[1;32m   3195\u001b[0m     graph_function = ConcreteFunction(\n\u001b[0;32m-> 3196\u001b[0;31m         func_graph_module.func_graph_from_py_func(\n\u001b[0m\u001b[1;32m   3197\u001b[0m             \u001b[0mself\u001b[0m\u001b[0;34m.\u001b[0m\u001b[0m_name\u001b[0m\u001b[0;34m,\u001b[0m\u001b[0;34m\u001b[0m\u001b[0;34m\u001b[0m\u001b[0m\n\u001b[1;32m   3198\u001b[0m             \u001b[0mself\u001b[0m\u001b[0;34m.\u001b[0m\u001b[0m_python_function\u001b[0m\u001b[0;34m,\u001b[0m\u001b[0;34m\u001b[0m\u001b[0;34m\u001b[0m\u001b[0m\n",
            "\u001b[0;32m~/.local/lib/python3.8/site-packages/tensorflow/python/framework/func_graph.py\u001b[0m in \u001b[0;36mfunc_graph_from_py_func\u001b[0;34m(name, python_func, args, kwargs, signature, func_graph, autograph, autograph_options, add_control_dependencies, arg_names, op_return_value, collections, capture_by_value, override_flat_arg_shapes)\u001b[0m\n\u001b[1;32m    988\u001b[0m         \u001b[0m_\u001b[0m\u001b[0;34m,\u001b[0m \u001b[0moriginal_func\u001b[0m \u001b[0;34m=\u001b[0m \u001b[0mtf_decorator\u001b[0m\u001b[0;34m.\u001b[0m\u001b[0munwrap\u001b[0m\u001b[0;34m(\u001b[0m\u001b[0mpython_func\u001b[0m\u001b[0;34m)\u001b[0m\u001b[0;34m\u001b[0m\u001b[0;34m\u001b[0m\u001b[0m\n\u001b[1;32m    989\u001b[0m \u001b[0;34m\u001b[0m\u001b[0m\n\u001b[0;32m--> 990\u001b[0;31m       \u001b[0mfunc_outputs\u001b[0m \u001b[0;34m=\u001b[0m \u001b[0mpython_func\u001b[0m\u001b[0;34m(\u001b[0m\u001b[0;34m*\u001b[0m\u001b[0mfunc_args\u001b[0m\u001b[0;34m,\u001b[0m \u001b[0;34m**\u001b[0m\u001b[0mfunc_kwargs\u001b[0m\u001b[0;34m)\u001b[0m\u001b[0;34m\u001b[0m\u001b[0;34m\u001b[0m\u001b[0m\n\u001b[0m\u001b[1;32m    991\u001b[0m \u001b[0;34m\u001b[0m\u001b[0m\n\u001b[1;32m    992\u001b[0m       \u001b[0;31m# invariant: `func_outputs` contains only Tensors, CompositeTensors,\u001b[0m\u001b[0;34m\u001b[0m\u001b[0;34m\u001b[0m\u001b[0;34m\u001b[0m\u001b[0m\n",
            "\u001b[0;32m~/.local/lib/python3.8/site-packages/tensorflow/python/eager/def_function.py\u001b[0m in \u001b[0;36mwrapped_fn\u001b[0;34m(*args, **kwds)\u001b[0m\n\u001b[1;32m    632\u001b[0m             \u001b[0mxla_context\u001b[0m\u001b[0;34m.\u001b[0m\u001b[0mExit\u001b[0m\u001b[0;34m(\u001b[0m\u001b[0;34m)\u001b[0m\u001b[0;34m\u001b[0m\u001b[0;34m\u001b[0m\u001b[0m\n\u001b[1;32m    633\u001b[0m         \u001b[0;32melse\u001b[0m\u001b[0;34m:\u001b[0m\u001b[0;34m\u001b[0m\u001b[0;34m\u001b[0m\u001b[0m\n\u001b[0;32m--> 634\u001b[0;31m           \u001b[0mout\u001b[0m \u001b[0;34m=\u001b[0m \u001b[0mweak_wrapped_fn\u001b[0m\u001b[0;34m(\u001b[0m\u001b[0;34m)\u001b[0m\u001b[0;34m.\u001b[0m\u001b[0m__wrapped__\u001b[0m\u001b[0;34m(\u001b[0m\u001b[0;34m*\u001b[0m\u001b[0margs\u001b[0m\u001b[0;34m,\u001b[0m \u001b[0;34m**\u001b[0m\u001b[0mkwds\u001b[0m\u001b[0;34m)\u001b[0m\u001b[0;34m\u001b[0m\u001b[0;34m\u001b[0m\u001b[0m\n\u001b[0m\u001b[1;32m    635\u001b[0m         \u001b[0;32mreturn\u001b[0m \u001b[0mout\u001b[0m\u001b[0;34m\u001b[0m\u001b[0;34m\u001b[0m\u001b[0m\n\u001b[1;32m    636\u001b[0m \u001b[0;34m\u001b[0m\u001b[0m\n",
            "\u001b[0;32m~/.local/lib/python3.8/site-packages/tensorflow/python/framework/func_graph.py\u001b[0m in \u001b[0;36mwrapper\u001b[0;34m(*args, **kwargs)\u001b[0m\n\u001b[1;32m    975\u001b[0m           \u001b[0;32mexcept\u001b[0m \u001b[0mException\u001b[0m \u001b[0;32mas\u001b[0m \u001b[0me\u001b[0m\u001b[0;34m:\u001b[0m  \u001b[0;31m# pylint:disable=broad-except\u001b[0m\u001b[0;34m\u001b[0m\u001b[0;34m\u001b[0m\u001b[0m\n\u001b[1;32m    976\u001b[0m             \u001b[0;32mif\u001b[0m \u001b[0mhasattr\u001b[0m\u001b[0;34m(\u001b[0m\u001b[0me\u001b[0m\u001b[0;34m,\u001b[0m \u001b[0;34m\"ag_error_metadata\"\u001b[0m\u001b[0;34m)\u001b[0m\u001b[0;34m:\u001b[0m\u001b[0;34m\u001b[0m\u001b[0;34m\u001b[0m\u001b[0m\n\u001b[0;32m--> 977\u001b[0;31m               \u001b[0;32mraise\u001b[0m \u001b[0me\u001b[0m\u001b[0;34m.\u001b[0m\u001b[0mag_error_metadata\u001b[0m\u001b[0;34m.\u001b[0m\u001b[0mto_exception\u001b[0m\u001b[0;34m(\u001b[0m\u001b[0me\u001b[0m\u001b[0;34m)\u001b[0m\u001b[0;34m\u001b[0m\u001b[0;34m\u001b[0m\u001b[0m\n\u001b[0m\u001b[1;32m    978\u001b[0m             \u001b[0;32melse\u001b[0m\u001b[0;34m:\u001b[0m\u001b[0;34m\u001b[0m\u001b[0;34m\u001b[0m\u001b[0m\n\u001b[1;32m    979\u001b[0m               \u001b[0;32mraise\u001b[0m\u001b[0;34m\u001b[0m\u001b[0;34m\u001b[0m\u001b[0m\n",
            "\u001b[0;31mValueError\u001b[0m: in user code:\n\n    /home/thiago/.local/lib/python3.8/site-packages/tensorflow/python/keras/engine/training.py:1478 predict_function  *\n        return step_function(self, iterator)\n    /home/thiago/.local/lib/python3.8/site-packages/tensorflow/python/keras/engine/training.py:1468 step_function  **\n        outputs = model.distribute_strategy.run(run_step, args=(data,))\n    /home/thiago/.local/lib/python3.8/site-packages/tensorflow/python/distribute/distribute_lib.py:1259 run\n        return self._extended.call_for_each_replica(fn, args=args, kwargs=kwargs)\n    /home/thiago/.local/lib/python3.8/site-packages/tensorflow/python/distribute/distribute_lib.py:2730 call_for_each_replica\n        return self._call_for_each_replica(fn, args, kwargs)\n    /home/thiago/.local/lib/python3.8/site-packages/tensorflow/python/distribute/distribute_lib.py:3417 _call_for_each_replica\n        return fn(*args, **kwargs)\n    /home/thiago/.local/lib/python3.8/site-packages/tensorflow/python/keras/engine/training.py:1461 run_step  **\n        outputs = model.predict_step(data)\n    /home/thiago/.local/lib/python3.8/site-packages/tensorflow/python/keras/engine/training.py:1434 predict_step\n        return self(x, training=False)\n    /home/thiago/.local/lib/python3.8/site-packages/tensorflow/python/keras/engine/base_layer.py:998 __call__\n        input_spec.assert_input_compatibility(self.input_spec, inputs, self.name)\n    /home/thiago/.local/lib/python3.8/site-packages/tensorflow/python/keras/engine/input_spec.py:204 assert_input_compatibility\n        raise ValueError('Layer ' + layer_name + ' expects ' +\n\n    ValueError: Layer model_141 expects 13 input(s), but it received 1 input tensors. Inputs received: [<tf.Tensor 'IteratorGetNext:0' shape=(None, 32) dtype=int64>]\n"
          ]
        }
      ],
      "source": [
        "\n",
        "explainer.model_performance()"
      ]
    },
    {
      "cell_type": "markdown",
      "metadata": {
        "id": "UXmqXT_VnDyN"
      },
      "source": [
        "### Results"
      ]
    },
    {
      "cell_type": "code",
      "metadata": {
        "id": "YGWehNEenB5s"
      },
      "source": [
        "for i,history in enumerate(hists.values()):\n",
        "  history_dict = history.history\n",
        "  print(history_dict.keys())\n",
        "  plt.plot(history.history['mse'], c='tab:blue')\n",
        "  plt.plot(history.history['val_mse'], c='tab:orange')\n",
        "  \n",
        "plt.title('model mean_squared_error')\n",
        "plt.ylabel('MSE')\n",
        "plt.xlabel('epoch')\n",
        "plt.legend(['train', 'val'], loc='upper left')\n",
        "plt.show()\n"
      ],
      "execution_count": null,
      "outputs": []
    },
    {
      "cell_type": "code",
      "metadata": {
        "id": "WDEeJ3ec4F51"
      },
      "source": [
        "for i,history in enumerate(hists.values()):\n",
        "  history_dict = history.history\n",
        "  print(history_dict.keys())\n",
        "  plt.plot(history.history['binary_accuracy'], c='tab:blue')\n",
        "  plt.plot(history.history['val_binary_accuracy'], c='tab:orange')\n",
        "  \n",
        "plt.title('model binary_accuracy')\n",
        "plt.ylabel('MSE')\n",
        "plt.xlabel('epoch')\n",
        "plt.legend(['train', 'val'], loc='upper left')\n",
        "plt.show()"
      ],
      "execution_count": null,
      "outputs": []
    },
    {
      "cell_type": "code",
      "metadata": {
        "id": "KoX5BURlAktl"
      },
      "source": [
        "ls = [0,0,0,0,0,0,0,0,0,0]\n",
        "q2['Cars Accuracy'] = ls\n",
        "t2 = pd.DataFrame.from_dict(q2).round(2)\n",
        "t2['Cars Accuracy'] = [hists[i].history['binary_accuracy'][-1] for i in range(0,10)]\n",
        "t2 = t2.reindex(columns=['Train', 'Cars Accuracy', 'Output of flat network', 'Desired output', 'Class'])\n",
        "t2 "
      ],
      "execution_count": null,
      "outputs": []
    }
  ]
}