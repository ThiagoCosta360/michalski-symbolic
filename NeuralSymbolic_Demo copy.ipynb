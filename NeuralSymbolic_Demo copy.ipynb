{
  "nbformat": 4,
  "nbformat_minor": 0,
  "metadata": {
    "colab": {
      "name": "Cópia de NeuralSymbolic-Demo.ipynb",
      "provenance": [],
      "collapsed_sections": []
    },
    "kernelspec": {
      "name": "python3",
      "display_name": "Python 3",
      "language": "python"
    },
    "accelerator": "TPU"
  },
  "cells": [
    {
      "cell_type": "markdown",
      "metadata": {
        "id": "hmY6cIItVjvG"
      },
      "source": [
        "## Dependencies"
      ]
    },
    {
      "cell_type": "markdown",
      "metadata": {
        "id": "eqiOYl7DC8Fo"
      },
      "source": [
        "# NeuralSymbolic - Demo"
      ]
    },
    {
      "cell_type": "code",
      "metadata": {
        "id": "GYOlB1BY0KHc",
        "colab": {
          "base_uri": "https://localhost:8080/"
        },
        "outputId": "5565b238-d49b-472e-ee58-5f1da47ebf86"
      },
      "source": [
        "!pip3 install keras-rectified-adam\n",
        "!pip3 install ann_visualizer\n",
        "!pip3 install graphviz\n",
        "!pip3 install tf-explain\n",
        "!pip3 install opencv-python"
      ],
      "execution_count": 1,
      "outputs": [
        {
          "output_type": "stream",
          "name": "stdout",
          "text": [
            "Requirement already satisfied: keras-rectified-adam in /home/thiago/.local/lib/python3.8/site-packages (0.17.0)\n",
            "Requirement already satisfied: Keras in /home/thiago/.local/lib/python3.8/site-packages (from keras-rectified-adam) (2.4.3)\n",
            "Requirement already satisfied: numpy in /home/thiago/.local/lib/python3.8/site-packages (from keras-rectified-adam) (1.19.4)\n",
            "Requirement already satisfied: scipy>=0.14 in /home/thiago/.local/lib/python3.8/site-packages (from Keras->keras-rectified-adam) (1.5.4)\n",
            "Requirement already satisfied: pyyaml in /usr/lib/python3/dist-packages (from Keras->keras-rectified-adam) (5.3.1)\n",
            "Requirement already satisfied: h5py in /home/thiago/.local/lib/python3.8/site-packages (from Keras->keras-rectified-adam) (2.10.0)\n",
            "Requirement already satisfied: six in /home/thiago/.local/lib/python3.8/site-packages (from h5py->Keras->keras-rectified-adam) (1.15.0)\n",
            "Requirement already satisfied: ann_visualizer in /home/thiago/.local/lib/python3.8/site-packages (2.5)\n",
            "Requirement already satisfied: graphviz in /home/thiago/.local/lib/python3.8/site-packages (0.15)\n",
            "Requirement already satisfied: tf-explain in /home/thiago/.local/lib/python3.8/site-packages (0.2.1)\n",
            "Requirement already satisfied: opencv-python>=4.1.0.25 in /home/thiago/.local/lib/python3.8/site-packages (from tf-explain) (4.4.0.46)\n",
            "Requirement already satisfied: numpy>=1.17.3 in /home/thiago/.local/lib/python3.8/site-packages (from opencv-python>=4.1.0.25->tf-explain) (1.19.4)\n",
            "Requirement already satisfied: opencv-python in /home/thiago/.local/lib/python3.8/site-packages (4.4.0.46)\n",
            "Requirement already satisfied: numpy>=1.17.3 in /home/thiago/.local/lib/python3.8/site-packages (from opencv-python) (1.19.4)\n"
          ]
        }
      ]
    },
    {
      "cell_type": "code",
      "metadata": {
        "id": "1fXgGRMw8E3i"
      },
      "source": [
        "# Load the TensorBoard notebook extension\r\n",
        "%load_ext tensorboard\r\n"
      ],
      "execution_count": 2,
      "outputs": []
    },
    {
      "cell_type": "code",
      "metadata": {
        "id": "D4iZ6dFv9fHX"
      },
      "source": [
        "!rm -rf ./logs/ "
      ],
      "execution_count": 3,
      "outputs": []
    },
    {
      "cell_type": "code",
      "metadata": {
        "id": "ny3mB825u0oM"
      },
      "source": [
        "import tqdm\n",
        "import numpy as np\n",
        "import pandas as pd\n",
        "from sklearn.model_selection import LeaveOneOut, KFold\n",
        "import tensorflow as tf\n",
        "import keras\n",
        "import datetime\n",
        "from tf_explain.core.grad_cam import GradCAM\n",
        "from keras.models import Sequential, Model\n",
        "from keras.layers import Dense, Input, concatenate\n",
        "from keras.losses import binary_crossentropy\n",
        "from keras.utils  import plot_model\n",
        "from keras_radam.training import RAdamOptimizer\n",
        "from keras_radam import RAdam\n",
        "import matplotlib.pyplot as plt\n",
        "import warnings\n",
        "import dalex as dx\n",
        "warnings.filterwarnings('ignore')"
      ],
      "execution_count": 4,
      "outputs": []
    },
    {
      "cell_type": "code",
      "metadata": {
        "id": "oGV8J8Mj1uhj"
      },
      "source": [
        "seed_value= 0\n",
        "\n",
        "# 1. Set `PYTHONHASHSEED` environment variable at a fixed value\n",
        "import os\n",
        "os.environ['PYTHONHASHSEED']=str(seed_value)\n",
        "\n",
        "# 2. Set `python` built-in pseudo-random generator at a fixed value\n",
        "import random\n",
        "random.seed(seed_value)\n",
        "\n",
        "# 3. Set `numpy` pseudo-random generator at a fixed value\n",
        "import numpy as np\n",
        "np.random.seed(seed_value)\n",
        "\n",
        "# 4. Set `tensorflow` pseudo-random generator at a fixed value\n",
        "import tensorflow as tf\n",
        "tf.random.set_seed(seed_value)\n",
        "\n",
        "# 5. Configure a new global `tensorflow` session\n",
        "\n",
        "\n",
        "session_conf = tf.compat.v1.ConfigProto(intra_op_parallelism_threads=1, inter_op_parallelism_threads=1)\n",
        "sess = tf.compat.v1.Session(graph=tf.compat.v1.get_default_graph(), config=session_conf)\n",
        "tf.compat.v1.keras.backend.set_session(sess)"
      ],
      "execution_count": 5,
      "outputs": []
    },
    {
      "cell_type": "markdown",
      "metadata": {
        "id": "roshxLlK-K5g"
      },
      "source": [
        "## GET data"
      ]
    },
    {
      "cell_type": "code",
      "metadata": {
        "id": "cckTOFsQ1X22",
        "colab": {
          "base_uri": "https://localhost:8080/",
          "height": 379
        },
        "outputId": "75f8e2f2-df90-403a-af48-94080cc577c3"
      },
      "source": [
        "# path to trains-transformed.csv\n",
        "path = 'trains-transformed.csv'\n",
        "str_att = {\n",
        "  'length': ['short', 'long'],\n",
        "  'shape': ['closedrect', 'dblopnrect', 'ellipse', 'engine', 'hexagon',\n",
        "          'jaggedtop', 'openrect', 'opentrap', 'slopetop', 'ushaped'],\n",
        "  'load_shape': ['circlelod', 'hexagonlod', 'rectanglod', 'trianglod'],\n",
        "  'Class_attribute': ['west','east']\n",
        "}\n",
        "\n",
        "def read_data(path=path):\n",
        "  df = pd.read_csv(path, ',')\n",
        "\n",
        "  for k in df:\n",
        "    for att in str_att:\n",
        "      if k.startswith(att):\n",
        "        for i,val in enumerate(df[k]):\n",
        "          if val in str_att[att]:\n",
        "            df[k][i] = str_att[att].index(val)\n",
        "\n",
        "  df.replace(\"\\\\0\", 0, inplace=True)\n",
        "  df.replace(\"None\", -1, inplace=True)\n",
        "\n",
        "  return df\n",
        "\n",
        "df = read_data()\n",
        "df"
      ],
      "execution_count": 6,
      "outputs": [
        {
          "output_type": "execute_result",
          "data": {
            "text/plain": [
              "   Number_of_cars  Number_of_different_loads  num_wheels1  length1  shape1  \\\n",
              "0               5                          4            2        1       6   \n",
              "1               4                          3            2        0       9   \n",
              "2               4                          2            2        0       6   \n",
              "3               5                          2            2        0       7   \n",
              "4               4                          3            2        0       1   \n",
              "5               3                          2            2        1       0   \n",
              "6               4                          2            2        0       1   \n",
              "7               3                          2            3        1       0   \n",
              "8               5                          2            2        0       7   \n",
              "9               3                          1            2        0       9   \n",
              "\n",
              "   num_loads1  load_shape1  num_wheels2  length2  shape2  ...  \\\n",
              "0           3            2            2        0       8  ...   \n",
              "1           1            3            2        0       7  ...   \n",
              "2           1            0            2        0       4  ...   \n",
              "3           1            3            2        0       1  ...   \n",
              "4           1            3            3        1       0  ...   \n",
              "5           3            0            2        0       6  ...   \n",
              "6           1            0            2        0       9  ...   \n",
              "7           1            2            2        0       9  ...   \n",
              "8           1            0            2        1       5  ...   \n",
              "9           1            2            2        1       6  ...   \n",
              "\n",
              "   Rectangle_next_to_triangle  Rectangle_next_to_hexagon  \\\n",
              "0                           1                          0   \n",
              "1                           1                          0   \n",
              "2                           0                          0   \n",
              "3                           1                          0   \n",
              "4                           1                          0   \n",
              "5                           0                          0   \n",
              "6                           0                          0   \n",
              "7                           0                          0   \n",
              "8                           0                          0   \n",
              "9                           0                          0   \n",
              "\n",
              "  Rectangle_next_to_circle  Triangle_next_to_triangle  \\\n",
              "0                        0                          0   \n",
              "1                        1                          0   \n",
              "2                        0                          1   \n",
              "3                        0                          1   \n",
              "4                        1                          0   \n",
              "5                        0                          0   \n",
              "6                        0                          0   \n",
              "7                        1                          0   \n",
              "8                        1                          0   \n",
              "9                        0                          0   \n",
              "\n",
              "   Triangle_next_to_hexagon Triangle_next_to_circle  Hexagon_next_to_hexagon  \\\n",
              "0                         1                       0                        0   \n",
              "1                         0                       0                        0   \n",
              "2                         0                       1                        0   \n",
              "3                         0                       0                        0   \n",
              "4                         0                       0                        0   \n",
              "5                         0                       1                        0   \n",
              "6                         0                       1                        0   \n",
              "7                         0                       0                        0   \n",
              "8                         0                       0                        0   \n",
              "9                         0                       0                        0   \n",
              "\n",
              "  Hexagon_next_to_circle  Circle_next_to_circle  Class_attribute  \n",
              "0                      1                      0                1  \n",
              "1                      0                      0                1  \n",
              "2                      0                      0                1  \n",
              "3                      0                      0                1  \n",
              "4                      0                      0                1  \n",
              "5                      0                      0                0  \n",
              "6                      0                      0                0  \n",
              "7                      0                      0                0  \n",
              "8                      0                      0                0  \n",
              "9                      0                      0                0  \n",
              "\n",
              "[10 rows x 33 columns]"
            ],
            "text/html": "<div>\n<style scoped>\n    .dataframe tbody tr th:only-of-type {\n        vertical-align: middle;\n    }\n\n    .dataframe tbody tr th {\n        vertical-align: top;\n    }\n\n    .dataframe thead th {\n        text-align: right;\n    }\n</style>\n<table border=\"1\" class=\"dataframe\">\n  <thead>\n    <tr style=\"text-align: right;\">\n      <th></th>\n      <th>Number_of_cars</th>\n      <th>Number_of_different_loads</th>\n      <th>num_wheels1</th>\n      <th>length1</th>\n      <th>shape1</th>\n      <th>num_loads1</th>\n      <th>load_shape1</th>\n      <th>num_wheels2</th>\n      <th>length2</th>\n      <th>shape2</th>\n      <th>...</th>\n      <th>Rectangle_next_to_triangle</th>\n      <th>Rectangle_next_to_hexagon</th>\n      <th>Rectangle_next_to_circle</th>\n      <th>Triangle_next_to_triangle</th>\n      <th>Triangle_next_to_hexagon</th>\n      <th>Triangle_next_to_circle</th>\n      <th>Hexagon_next_to_hexagon</th>\n      <th>Hexagon_next_to_circle</th>\n      <th>Circle_next_to_circle</th>\n      <th>Class_attribute</th>\n    </tr>\n  </thead>\n  <tbody>\n    <tr>\n      <th>0</th>\n      <td>5</td>\n      <td>4</td>\n      <td>2</td>\n      <td>1</td>\n      <td>6</td>\n      <td>3</td>\n      <td>2</td>\n      <td>2</td>\n      <td>0</td>\n      <td>8</td>\n      <td>...</td>\n      <td>1</td>\n      <td>0</td>\n      <td>0</td>\n      <td>0</td>\n      <td>1</td>\n      <td>0</td>\n      <td>0</td>\n      <td>1</td>\n      <td>0</td>\n      <td>1</td>\n    </tr>\n    <tr>\n      <th>1</th>\n      <td>4</td>\n      <td>3</td>\n      <td>2</td>\n      <td>0</td>\n      <td>9</td>\n      <td>1</td>\n      <td>3</td>\n      <td>2</td>\n      <td>0</td>\n      <td>7</td>\n      <td>...</td>\n      <td>1</td>\n      <td>0</td>\n      <td>1</td>\n      <td>0</td>\n      <td>0</td>\n      <td>0</td>\n      <td>0</td>\n      <td>0</td>\n      <td>0</td>\n      <td>1</td>\n    </tr>\n    <tr>\n      <th>2</th>\n      <td>4</td>\n      <td>2</td>\n      <td>2</td>\n      <td>0</td>\n      <td>6</td>\n      <td>1</td>\n      <td>0</td>\n      <td>2</td>\n      <td>0</td>\n      <td>4</td>\n      <td>...</td>\n      <td>0</td>\n      <td>0</td>\n      <td>0</td>\n      <td>1</td>\n      <td>0</td>\n      <td>1</td>\n      <td>0</td>\n      <td>0</td>\n      <td>0</td>\n      <td>1</td>\n    </tr>\n    <tr>\n      <th>3</th>\n      <td>5</td>\n      <td>2</td>\n      <td>2</td>\n      <td>0</td>\n      <td>7</td>\n      <td>1</td>\n      <td>3</td>\n      <td>2</td>\n      <td>0</td>\n      <td>1</td>\n      <td>...</td>\n      <td>1</td>\n      <td>0</td>\n      <td>0</td>\n      <td>1</td>\n      <td>0</td>\n      <td>0</td>\n      <td>0</td>\n      <td>0</td>\n      <td>0</td>\n      <td>1</td>\n    </tr>\n    <tr>\n      <th>4</th>\n      <td>4</td>\n      <td>3</td>\n      <td>2</td>\n      <td>0</td>\n      <td>1</td>\n      <td>1</td>\n      <td>3</td>\n      <td>3</td>\n      <td>1</td>\n      <td>0</td>\n      <td>...</td>\n      <td>1</td>\n      <td>0</td>\n      <td>1</td>\n      <td>0</td>\n      <td>0</td>\n      <td>0</td>\n      <td>0</td>\n      <td>0</td>\n      <td>0</td>\n      <td>1</td>\n    </tr>\n    <tr>\n      <th>5</th>\n      <td>3</td>\n      <td>2</td>\n      <td>2</td>\n      <td>1</td>\n      <td>0</td>\n      <td>3</td>\n      <td>0</td>\n      <td>2</td>\n      <td>0</td>\n      <td>6</td>\n      <td>...</td>\n      <td>0</td>\n      <td>0</td>\n      <td>0</td>\n      <td>0</td>\n      <td>0</td>\n      <td>1</td>\n      <td>0</td>\n      <td>0</td>\n      <td>0</td>\n      <td>0</td>\n    </tr>\n    <tr>\n      <th>6</th>\n      <td>4</td>\n      <td>2</td>\n      <td>2</td>\n      <td>0</td>\n      <td>1</td>\n      <td>1</td>\n      <td>0</td>\n      <td>2</td>\n      <td>0</td>\n      <td>9</td>\n      <td>...</td>\n      <td>0</td>\n      <td>0</td>\n      <td>0</td>\n      <td>0</td>\n      <td>0</td>\n      <td>1</td>\n      <td>0</td>\n      <td>0</td>\n      <td>0</td>\n      <td>0</td>\n    </tr>\n    <tr>\n      <th>7</th>\n      <td>3</td>\n      <td>2</td>\n      <td>3</td>\n      <td>1</td>\n      <td>0</td>\n      <td>1</td>\n      <td>2</td>\n      <td>2</td>\n      <td>0</td>\n      <td>9</td>\n      <td>...</td>\n      <td>0</td>\n      <td>0</td>\n      <td>1</td>\n      <td>0</td>\n      <td>0</td>\n      <td>0</td>\n      <td>0</td>\n      <td>0</td>\n      <td>0</td>\n      <td>0</td>\n    </tr>\n    <tr>\n      <th>8</th>\n      <td>5</td>\n      <td>2</td>\n      <td>2</td>\n      <td>0</td>\n      <td>7</td>\n      <td>1</td>\n      <td>0</td>\n      <td>2</td>\n      <td>1</td>\n      <td>5</td>\n      <td>...</td>\n      <td>0</td>\n      <td>0</td>\n      <td>1</td>\n      <td>0</td>\n      <td>0</td>\n      <td>0</td>\n      <td>0</td>\n      <td>0</td>\n      <td>0</td>\n      <td>0</td>\n    </tr>\n    <tr>\n      <th>9</th>\n      <td>3</td>\n      <td>1</td>\n      <td>2</td>\n      <td>0</td>\n      <td>9</td>\n      <td>1</td>\n      <td>2</td>\n      <td>2</td>\n      <td>1</td>\n      <td>6</td>\n      <td>...</td>\n      <td>0</td>\n      <td>0</td>\n      <td>0</td>\n      <td>0</td>\n      <td>0</td>\n      <td>0</td>\n      <td>0</td>\n      <td>0</td>\n      <td>0</td>\n      <td>0</td>\n    </tr>\n  </tbody>\n</table>\n<p>10 rows × 33 columns</p>\n</div>"
          },
          "metadata": {},
          "execution_count": 6
        }
      ]
    },
    {
      "cell_type": "markdown",
      "metadata": {
        "id": "wwsqEU0csS6W"
      },
      "source": [
        "## Question 1.\n",
        "\n",
        "Implemente uma solução que implemente proposicionalização com 32 features\n",
        "de entrada, 9 perseptrons e uma única saída (denotando leste). As entradas codi=icam:"
      ]
    },
    {
      "cell_type": "code",
      "metadata": {
        "id": "yaDwHppC0UHM"
      },
      "source": [
        "# get data\n",
        "df = read_data()\n",
        "Y = (np.array(df.pop('Class_attribute')))\n",
        "X = (np.array(df))"
      ],
      "execution_count": 7,
      "outputs": []
    },
    {
      "cell_type": "markdown",
      "metadata": {
        "id": "bPpFYhh9BA9p"
      },
      "source": [
        "### Akin Propositionalization Model"
      ]
    },
    {
      "cell_type": "code",
      "metadata": {
        "id": "C89Uzm__GiDK",
        "colab": {
          "base_uri": "https://localhost:8080/"
        },
        "outputId": "dd544b88-ee63-4eba-fe93-b9c45e701a0f"
      },
      "source": [
        "# define model\n",
        "def model_v1():\n",
        "  model = Sequential([\n",
        "    Dense(9, activation='relu', input_shape=(len(df.keys()),)),\n",
        "    Dense(1, activation='sigmoid'),\n",
        "  ])\n",
        "  model.compile(\n",
        "    loss = binary_crossentropy, \n",
        "    optimizer = RAdamOptimizer(name='RAdam'),\n",
        "    metrics = ['mse', 'binary_accuracy']\n",
        "  ) \n",
        "  return model\n",
        "\n",
        "es = keras.callbacks.EarlyStopping(\n",
        "    monitor='val_loss', min_delta=0, patience=1000, verbose=0)\n",
        "\n",
        "model = model_v1()\n",
        "model.summary()"
      ],
      "execution_count": 8,
      "outputs": [
        {
          "output_type": "stream",
          "name": "stdout",
          "text": [
            "Model: \"sequential\"\n_________________________________________________________________\nLayer (type)                 Output Shape              Param #   \n=================================================================\ndense (Dense)                (None, 9)                 297       \n_________________________________________________________________\ndense_1 (Dense)              (None, 1)                 10        \n=================================================================\nTotal params: 307\nTrainable params: 307\nNon-trainable params: 0\n_________________________________________________________________\n"
          ]
        }
      ]
    },
    {
      "cell_type": "code",
      "metadata": {
        "id": "NT_PmyXd-rpo",
        "colab": {
          "base_uri": "https://localhost:8080/",
          "height": 312
        },
        "outputId": "399c6e94-4f41-465f-b566-f34d693b8c43"
      },
      "source": [
        "plot_model(model, show_shapes=True, show_layer_names=False)"
      ],
      "execution_count": 9,
      "outputs": [
        {
          "output_type": "stream",
          "name": "stdout",
          "text": [
            "('Failed to import pydot. You must `pip install pydot` and install graphviz (https://graphviz.gitlab.io/download/), ', 'for `pydotprint` to work.')\n"
          ]
        }
      ]
    },
    {
      "cell_type": "markdown",
      "metadata": {
        "id": "PKLXNbidBODc"
      },
      "source": [
        "### Train"
      ]
    },
    {
      "cell_type": "code",
      "metadata": {
        "id": "5I58Rg1Nq4Zf",
        "colab": {
          "base_uri": "https://localhost:8080/"
        },
        "outputId": "50bd5fe6-fadd-4ece-db72-1921324730d7"
      },
      "source": [
        "# train\n",
        "loo = LeaveOneOut()\n",
        "hists = dict()\n",
        "q1_names =  [\n",
        "  'Train', \n",
        "  'Output of flat network', \n",
        "  ' Desired output', \n",
        "  'Class'\n",
        "]\n",
        "log_dir = \"./\" + datetime.datetime.now().strftime(\"%Y%m%d-%H%M%S\")\n",
        "tensorboard_callback = tf.keras.callbacks.TensorBoard(log_dir=log_dir, histogram_freq=1)\n",
        "q1 = {name: [] for name in q1_names}\n",
        "\n",
        "for i, (train, test) in tqdm.tqdm(enumerate(loo.split(X)), total=10):\n",
        "  x_train = X[train]\n",
        "  y_train = Y[train]\n",
        "  x_test  = X[test]\n",
        "  y_test  = Y[test] \n",
        "\n",
        "  model = model_v1()\n",
        "  hist = model.fit(\n",
        "    x_train.astype('int64'),\n",
        "    y_train.astype('int64'),\n",
        "    validation_data=(x_test.astype('int64'), y_test.astype('int64')),\n",
        "    epochs=500,\n",
        "    verbose=0,\n",
        "    callbacks=[tensorboard_callback]\n",
        "  )\n",
        "  hists[test[0]] = hist\n",
        "  q1['Train'].append(i)\n",
        "  q1['Output of flat network'].append(model.predict(x_test.astype('int64'))[0][0])\n",
        "  q1[' Desired output'].append(y_test[0])\n",
        "  q1['Class'].append(str_att['Class_attribute'][int(y_test)])"
      ],
      "execution_count": 10,
      "outputs": [
        {
          "output_type": "stream",
          "name": "stderr",
          "text": [
            " 40%|████      | 4/10 [03:07<04:23, 43.97s/it]WARNING:tensorflow:5 out of the last 5 calls to <function Model.make_predict_function.<locals>.predict_function at 0x7f7bb41279d0> triggered tf.function retracing. Tracing is expensive and the excessive number of tracings could be due to (1) creating @tf.function repeatedly in a loop, (2) passing tensors with different shapes, (3) passing Python objects instead of tensors. For (1), please define your @tf.function outside of the loop. For (2), @tf.function has experimental_relax_shapes=True option that relaxes argument shapes that can avoid unnecessary retracing. For (3), please refer to https://www.tensorflow.org/guide/function#controlling_retracing and https://www.tensorflow.org/api_docs/python/tf/function for  more details.\n",
            " 50%|█████     | 5/10 [04:01<03:55, 47.10s/it]WARNING:tensorflow:6 out of the last 6 calls to <function Model.make_predict_function.<locals>.predict_function at 0x7f7b906af550> triggered tf.function retracing. Tracing is expensive and the excessive number of tracings could be due to (1) creating @tf.function repeatedly in a loop, (2) passing tensors with different shapes, (3) passing Python objects instead of tensors. For (1), please define your @tf.function outside of the loop. For (2), @tf.function has experimental_relax_shapes=True option that relaxes argument shapes that can avoid unnecessary retracing. For (3), please refer to https://www.tensorflow.org/guide/function#controlling_retracing and https://www.tensorflow.org/api_docs/python/tf/function for  more details.\n",
            " 60%|██████    | 6/10 [04:57<03:18, 49.53s/it]WARNING:tensorflow:7 out of the last 7 calls to <function Model.make_predict_function.<locals>.predict_function at 0x7f7bb4127820> triggered tf.function retracing. Tracing is expensive and the excessive number of tracings could be due to (1) creating @tf.function repeatedly in a loop, (2) passing tensors with different shapes, (3) passing Python objects instead of tensors. For (1), please define your @tf.function outside of the loop. For (2), @tf.function has experimental_relax_shapes=True option that relaxes argument shapes that can avoid unnecessary retracing. For (3), please refer to https://www.tensorflow.org/guide/function#controlling_retracing and https://www.tensorflow.org/api_docs/python/tf/function for  more details.\n",
            " 70%|███████   | 7/10 [05:51<02:33, 51.08s/it]WARNING:tensorflow:8 out of the last 8 calls to <function Model.make_predict_function.<locals>.predict_function at 0x7f7b905d43a0> triggered tf.function retracing. Tracing is expensive and the excessive number of tracings could be due to (1) creating @tf.function repeatedly in a loop, (2) passing tensors with different shapes, (3) passing Python objects instead of tensors. For (1), please define your @tf.function outside of the loop. For (2), @tf.function has experimental_relax_shapes=True option that relaxes argument shapes that can avoid unnecessary retracing. For (3), please refer to https://www.tensorflow.org/guide/function#controlling_retracing and https://www.tensorflow.org/api_docs/python/tf/function for  more details.\n",
            " 80%|████████  | 8/10 [06:45<01:43, 51.93s/it]WARNING:tensorflow:9 out of the last 9 calls to <function Model.make_predict_function.<locals>.predict_function at 0x7f7b90061790> triggered tf.function retracing. Tracing is expensive and the excessive number of tracings could be due to (1) creating @tf.function repeatedly in a loop, (2) passing tensors with different shapes, (3) passing Python objects instead of tensors. For (1), please define your @tf.function outside of the loop. For (2), @tf.function has experimental_relax_shapes=True option that relaxes argument shapes that can avoid unnecessary retracing. For (3), please refer to https://www.tensorflow.org/guide/function#controlling_retracing and https://www.tensorflow.org/api_docs/python/tf/function for  more details.\n",
            " 90%|█████████ | 9/10 [07:42<00:53, 53.21s/it]WARNING:tensorflow:10 out of the last 10 calls to <function Model.make_predict_function.<locals>.predict_function at 0x7f7b70749f70> triggered tf.function retracing. Tracing is expensive and the excessive number of tracings could be due to (1) creating @tf.function repeatedly in a loop, (2) passing tensors with different shapes, (3) passing Python objects instead of tensors. For (1), please define your @tf.function outside of the loop. For (2), @tf.function has experimental_relax_shapes=True option that relaxes argument shapes that can avoid unnecessary retracing. For (3), please refer to https://www.tensorflow.org/guide/function#controlling_retracing and https://www.tensorflow.org/api_docs/python/tf/function for  more details.\n",
            "100%|██████████| 10/10 [08:37<00:00, 51.75s/it]\n"
          ]
        }
      ]
    },
    {
      "cell_type": "code",
      "metadata": {
        "id": "U03hzpt88dsw"
      },
      "source": [
        "%tensorboard --logdir \"./\""
      ],
      "execution_count": 11,
      "outputs": [
        {
          "output_type": "display_data",
          "data": {
            "text/plain": "<IPython.core.display.HTML object>",
            "text/html": "\n      <iframe id=\"tensorboard-frame-629f6fbed82c07cd\" width=\"100%\" height=\"800\" frameborder=\"0\">\n      </iframe>\n      <script>\n        (function() {\n          const frame = document.getElementById(\"tensorboard-frame-629f6fbed82c07cd\");\n          const url = new URL(\"/\", window.location);\n          const port = 6008;\n          if (port) {\n            url.port = port;\n          }\n          frame.src = url;\n        })();\n      </script>\n    "
          },
          "metadata": {}
        }
      ]
    },
    {
      "cell_type": "markdown",
      "metadata": {
        "id": "ooYmO1ghBXPk"
      },
      "source": [
        "### Results"
      ]
    },
    {
      "cell_type": "code",
      "metadata": {
        "id": "BOW6B2jpBVRu"
      },
      "source": [
        "for i,history in enumerate(hists.values()):\n",
        "  plt.plot(history.history['mse'], c='tab:blue')\n",
        "  plt.plot(history.history['val_mse'], c='tab:orange')\n",
        "  \n",
        "plt.title('model mean_squared_error')\n",
        "plt.ylabel('MSE')\n",
        "plt.xlabel('epoch')\n",
        "plt.legend(['train', 'val'], loc='upper left')\n",
        "plt.show()"
      ],
      "execution_count": 12,
      "outputs": [
        {
          "output_type": "display_data",
          "data": {
            "text/plain": "<Figure size 432x288 with 1 Axes>",
            "image/svg+xml": "<?xml version=\"1.0\" encoding=\"utf-8\" standalone=\"no\"?>\n<!DOCTYPE svg PUBLIC \"-//W3C//DTD SVG 1.1//EN\"\n  \"http://www.w3.org/Graphics/SVG/1.1/DTD/svg11.dtd\">\n<!-- Created with matplotlib (https://matplotlib.org/) -->\n<svg height=\"277.314375pt\" version=\"1.1\" viewBox=\"0 0 385.78125 277.314375\" width=\"385.78125pt\" xmlns=\"http://www.w3.org/2000/svg\" xmlns:xlink=\"http://www.w3.org/1999/xlink\">\n <metadata>\n  <rdf:RDF xmlns:cc=\"http://creativecommons.org/ns#\" xmlns:dc=\"http://purl.org/dc/elements/1.1/\" xmlns:rdf=\"http://www.w3.org/1999/02/22-rdf-syntax-ns#\">\n   <cc:Work>\n    <dc:type rdf:resource=\"http://purl.org/dc/dcmitype/StillImage\"/>\n    <dc:date>2020-12-18T15:10:39.815581</dc:date>\n    <dc:format>image/svg+xml</dc:format>\n    <dc:creator>\n     <cc:Agent>\n      <dc:title>Matplotlib v3.3.3, https://matplotlib.org/</dc:title>\n     </cc:Agent>\n    </dc:creator>\n   </cc:Work>\n  </rdf:RDF>\n </metadata>\n <defs>\n  <style type=\"text/css\">*{stroke-linecap:butt;stroke-linejoin:round;}</style>\n </defs>\n <g id=\"figure_1\">\n  <g id=\"patch_1\">\n   <path d=\"M 0 277.314375 \nL 385.78125 277.314375 \nL 385.78125 0 \nL 0 0 \nz\n\" style=\"fill:none;\"/>\n  </g>\n  <g id=\"axes_1\">\n   <g id=\"patch_2\">\n    <path d=\"M 43.78125 239.758125 \nL 378.58125 239.758125 \nL 378.58125 22.318125 \nL 43.78125 22.318125 \nz\n\" style=\"fill:#ffffff;\"/>\n   </g>\n   <g id=\"matplotlib.axis_1\">\n    <g id=\"xtick_1\">\n     <g id=\"line2d_1\">\n      <defs>\n       <path d=\"M 0 0 \nL 0 3.5 \n\" id=\"m1bf82e4cae\" style=\"stroke:#000000;stroke-width:0.8;\"/>\n      </defs>\n      <g>\n       <use style=\"stroke:#000000;stroke-width:0.8;\" x=\"58.999432\" xlink:href=\"#m1bf82e4cae\" y=\"239.758125\"/>\n      </g>\n     </g>\n     <g id=\"text_1\">\n      <!-- 0 -->\n      <g transform=\"translate(55.818182 254.356562)scale(0.1 -0.1)\">\n       <defs>\n        <path d=\"M 31.78125 66.40625 \nQ 24.171875 66.40625 20.328125 58.90625 \nQ 16.5 51.421875 16.5 36.375 \nQ 16.5 21.390625 20.328125 13.890625 \nQ 24.171875 6.390625 31.78125 6.390625 \nQ 39.453125 6.390625 43.28125 13.890625 \nQ 47.125 21.390625 47.125 36.375 \nQ 47.125 51.421875 43.28125 58.90625 \nQ 39.453125 66.40625 31.78125 66.40625 \nz\nM 31.78125 74.21875 \nQ 44.046875 74.21875 50.515625 64.515625 \nQ 56.984375 54.828125 56.984375 36.375 \nQ 56.984375 17.96875 50.515625 8.265625 \nQ 44.046875 -1.421875 31.78125 -1.421875 \nQ 19.53125 -1.421875 13.0625 8.265625 \nQ 6.59375 17.96875 6.59375 36.375 \nQ 6.59375 54.828125 13.0625 64.515625 \nQ 19.53125 74.21875 31.78125 74.21875 \nz\n\" id=\"DejaVuSans-48\"/>\n       </defs>\n       <use xlink:href=\"#DejaVuSans-48\"/>\n      </g>\n     </g>\n    </g>\n    <g id=\"xtick_2\">\n     <g id=\"line2d_2\">\n      <g>\n       <use style=\"stroke:#000000;stroke-width:0.8;\" x=\"119.994149\" xlink:href=\"#m1bf82e4cae\" y=\"239.758125\"/>\n      </g>\n     </g>\n     <g id=\"text_2\">\n      <!-- 100 -->\n      <g transform=\"translate(110.450399 254.356562)scale(0.1 -0.1)\">\n       <defs>\n        <path d=\"M 12.40625 8.296875 \nL 28.515625 8.296875 \nL 28.515625 63.921875 \nL 10.984375 60.40625 \nL 10.984375 69.390625 \nL 28.421875 72.90625 \nL 38.28125 72.90625 \nL 38.28125 8.296875 \nL 54.390625 8.296875 \nL 54.390625 0 \nL 12.40625 0 \nz\n\" id=\"DejaVuSans-49\"/>\n       </defs>\n       <use xlink:href=\"#DejaVuSans-49\"/>\n       <use x=\"63.623047\" xlink:href=\"#DejaVuSans-48\"/>\n       <use x=\"127.246094\" xlink:href=\"#DejaVuSans-48\"/>\n      </g>\n     </g>\n    </g>\n    <g id=\"xtick_3\">\n     <g id=\"line2d_3\">\n      <g>\n       <use style=\"stroke:#000000;stroke-width:0.8;\" x=\"180.988865\" xlink:href=\"#m1bf82e4cae\" y=\"239.758125\"/>\n      </g>\n     </g>\n     <g id=\"text_3\">\n      <!-- 200 -->\n      <g transform=\"translate(171.445115 254.356562)scale(0.1 -0.1)\">\n       <defs>\n        <path d=\"M 19.1875 8.296875 \nL 53.609375 8.296875 \nL 53.609375 0 \nL 7.328125 0 \nL 7.328125 8.296875 \nQ 12.9375 14.109375 22.625 23.890625 \nQ 32.328125 33.6875 34.8125 36.53125 \nQ 39.546875 41.84375 41.421875 45.53125 \nQ 43.3125 49.21875 43.3125 52.78125 \nQ 43.3125 58.59375 39.234375 62.25 \nQ 35.15625 65.921875 28.609375 65.921875 \nQ 23.96875 65.921875 18.8125 64.3125 \nQ 13.671875 62.703125 7.8125 59.421875 \nL 7.8125 69.390625 \nQ 13.765625 71.78125 18.9375 73 \nQ 24.125 74.21875 28.421875 74.21875 \nQ 39.75 74.21875 46.484375 68.546875 \nQ 53.21875 62.890625 53.21875 53.421875 \nQ 53.21875 48.921875 51.53125 44.890625 \nQ 49.859375 40.875 45.40625 35.40625 \nQ 44.1875 33.984375 37.640625 27.21875 \nQ 31.109375 20.453125 19.1875 8.296875 \nz\n\" id=\"DejaVuSans-50\"/>\n       </defs>\n       <use xlink:href=\"#DejaVuSans-50\"/>\n       <use x=\"63.623047\" xlink:href=\"#DejaVuSans-48\"/>\n       <use x=\"127.246094\" xlink:href=\"#DejaVuSans-48\"/>\n      </g>\n     </g>\n    </g>\n    <g id=\"xtick_4\">\n     <g id=\"line2d_4\">\n      <g>\n       <use style=\"stroke:#000000;stroke-width:0.8;\" x=\"241.983582\" xlink:href=\"#m1bf82e4cae\" y=\"239.758125\"/>\n      </g>\n     </g>\n     <g id=\"text_4\">\n      <!-- 300 -->\n      <g transform=\"translate(232.439832 254.356562)scale(0.1 -0.1)\">\n       <defs>\n        <path d=\"M 40.578125 39.3125 \nQ 47.65625 37.796875 51.625 33 \nQ 55.609375 28.21875 55.609375 21.1875 \nQ 55.609375 10.40625 48.1875 4.484375 \nQ 40.765625 -1.421875 27.09375 -1.421875 \nQ 22.515625 -1.421875 17.65625 -0.515625 \nQ 12.796875 0.390625 7.625 2.203125 \nL 7.625 11.71875 \nQ 11.71875 9.328125 16.59375 8.109375 \nQ 21.484375 6.890625 26.8125 6.890625 \nQ 36.078125 6.890625 40.9375 10.546875 \nQ 45.796875 14.203125 45.796875 21.1875 \nQ 45.796875 27.640625 41.28125 31.265625 \nQ 36.765625 34.90625 28.71875 34.90625 \nL 20.21875 34.90625 \nL 20.21875 43.015625 \nL 29.109375 43.015625 \nQ 36.375 43.015625 40.234375 45.921875 \nQ 44.09375 48.828125 44.09375 54.296875 \nQ 44.09375 59.90625 40.109375 62.90625 \nQ 36.140625 65.921875 28.71875 65.921875 \nQ 24.65625 65.921875 20.015625 65.03125 \nQ 15.375 64.15625 9.8125 62.3125 \nL 9.8125 71.09375 \nQ 15.4375 72.65625 20.34375 73.4375 \nQ 25.25 74.21875 29.59375 74.21875 \nQ 40.828125 74.21875 47.359375 69.109375 \nQ 53.90625 64.015625 53.90625 55.328125 \nQ 53.90625 49.265625 50.4375 45.09375 \nQ 46.96875 40.921875 40.578125 39.3125 \nz\n\" id=\"DejaVuSans-51\"/>\n       </defs>\n       <use xlink:href=\"#DejaVuSans-51\"/>\n       <use x=\"63.623047\" xlink:href=\"#DejaVuSans-48\"/>\n       <use x=\"127.246094\" xlink:href=\"#DejaVuSans-48\"/>\n      </g>\n     </g>\n    </g>\n    <g id=\"xtick_5\">\n     <g id=\"line2d_5\">\n      <g>\n       <use style=\"stroke:#000000;stroke-width:0.8;\" x=\"302.978299\" xlink:href=\"#m1bf82e4cae\" y=\"239.758125\"/>\n      </g>\n     </g>\n     <g id=\"text_5\">\n      <!-- 400 -->\n      <g transform=\"translate(293.434549 254.356562)scale(0.1 -0.1)\">\n       <defs>\n        <path d=\"M 37.796875 64.3125 \nL 12.890625 25.390625 \nL 37.796875 25.390625 \nz\nM 35.203125 72.90625 \nL 47.609375 72.90625 \nL 47.609375 25.390625 \nL 58.015625 25.390625 \nL 58.015625 17.1875 \nL 47.609375 17.1875 \nL 47.609375 0 \nL 37.796875 0 \nL 37.796875 17.1875 \nL 4.890625 17.1875 \nL 4.890625 26.703125 \nz\n\" id=\"DejaVuSans-52\"/>\n       </defs>\n       <use xlink:href=\"#DejaVuSans-52\"/>\n       <use x=\"63.623047\" xlink:href=\"#DejaVuSans-48\"/>\n       <use x=\"127.246094\" xlink:href=\"#DejaVuSans-48\"/>\n      </g>\n     </g>\n    </g>\n    <g id=\"xtick_6\">\n     <g id=\"line2d_6\">\n      <g>\n       <use style=\"stroke:#000000;stroke-width:0.8;\" x=\"363.973015\" xlink:href=\"#m1bf82e4cae\" y=\"239.758125\"/>\n      </g>\n     </g>\n     <g id=\"text_6\">\n      <!-- 500 -->\n      <g transform=\"translate(354.429265 254.356562)scale(0.1 -0.1)\">\n       <defs>\n        <path d=\"M 10.796875 72.90625 \nL 49.515625 72.90625 \nL 49.515625 64.59375 \nL 19.828125 64.59375 \nL 19.828125 46.734375 \nQ 21.96875 47.46875 24.109375 47.828125 \nQ 26.265625 48.1875 28.421875 48.1875 \nQ 40.625 48.1875 47.75 41.5 \nQ 54.890625 34.8125 54.890625 23.390625 \nQ 54.890625 11.625 47.5625 5.09375 \nQ 40.234375 -1.421875 26.90625 -1.421875 \nQ 22.3125 -1.421875 17.546875 -0.640625 \nQ 12.796875 0.140625 7.71875 1.703125 \nL 7.71875 11.625 \nQ 12.109375 9.234375 16.796875 8.0625 \nQ 21.484375 6.890625 26.703125 6.890625 \nQ 35.15625 6.890625 40.078125 11.328125 \nQ 45.015625 15.765625 45.015625 23.390625 \nQ 45.015625 31 40.078125 35.4375 \nQ 35.15625 39.890625 26.703125 39.890625 \nQ 22.75 39.890625 18.8125 39.015625 \nQ 14.890625 38.140625 10.796875 36.28125 \nz\n\" id=\"DejaVuSans-53\"/>\n       </defs>\n       <use xlink:href=\"#DejaVuSans-53\"/>\n       <use x=\"63.623047\" xlink:href=\"#DejaVuSans-48\"/>\n       <use x=\"127.246094\" xlink:href=\"#DejaVuSans-48\"/>\n      </g>\n     </g>\n    </g>\n    <g id=\"text_7\">\n     <!-- epoch -->\n     <g transform=\"translate(195.953125 268.034687)scale(0.1 -0.1)\">\n      <defs>\n       <path d=\"M 56.203125 29.59375 \nL 56.203125 25.203125 \nL 14.890625 25.203125 \nQ 15.484375 15.921875 20.484375 11.0625 \nQ 25.484375 6.203125 34.421875 6.203125 \nQ 39.59375 6.203125 44.453125 7.46875 \nQ 49.3125 8.734375 54.109375 11.28125 \nL 54.109375 2.78125 \nQ 49.265625 0.734375 44.1875 -0.34375 \nQ 39.109375 -1.421875 33.890625 -1.421875 \nQ 20.796875 -1.421875 13.15625 6.1875 \nQ 5.515625 13.8125 5.515625 26.8125 \nQ 5.515625 40.234375 12.765625 48.109375 \nQ 20.015625 56 32.328125 56 \nQ 43.359375 56 49.78125 48.890625 \nQ 56.203125 41.796875 56.203125 29.59375 \nz\nM 47.21875 32.234375 \nQ 47.125 39.59375 43.09375 43.984375 \nQ 39.0625 48.390625 32.421875 48.390625 \nQ 24.90625 48.390625 20.390625 44.140625 \nQ 15.875 39.890625 15.1875 32.171875 \nz\n\" id=\"DejaVuSans-101\"/>\n       <path d=\"M 18.109375 8.203125 \nL 18.109375 -20.796875 \nL 9.078125 -20.796875 \nL 9.078125 54.6875 \nL 18.109375 54.6875 \nL 18.109375 46.390625 \nQ 20.953125 51.265625 25.265625 53.625 \nQ 29.59375 56 35.59375 56 \nQ 45.5625 56 51.78125 48.09375 \nQ 58.015625 40.1875 58.015625 27.296875 \nQ 58.015625 14.40625 51.78125 6.484375 \nQ 45.5625 -1.421875 35.59375 -1.421875 \nQ 29.59375 -1.421875 25.265625 0.953125 \nQ 20.953125 3.328125 18.109375 8.203125 \nz\nM 48.6875 27.296875 \nQ 48.6875 37.203125 44.609375 42.84375 \nQ 40.53125 48.484375 33.40625 48.484375 \nQ 26.265625 48.484375 22.1875 42.84375 \nQ 18.109375 37.203125 18.109375 27.296875 \nQ 18.109375 17.390625 22.1875 11.75 \nQ 26.265625 6.109375 33.40625 6.109375 \nQ 40.53125 6.109375 44.609375 11.75 \nQ 48.6875 17.390625 48.6875 27.296875 \nz\n\" id=\"DejaVuSans-112\"/>\n       <path d=\"M 30.609375 48.390625 \nQ 23.390625 48.390625 19.1875 42.75 \nQ 14.984375 37.109375 14.984375 27.296875 \nQ 14.984375 17.484375 19.15625 11.84375 \nQ 23.34375 6.203125 30.609375 6.203125 \nQ 37.796875 6.203125 41.984375 11.859375 \nQ 46.1875 17.53125 46.1875 27.296875 \nQ 46.1875 37.015625 41.984375 42.703125 \nQ 37.796875 48.390625 30.609375 48.390625 \nz\nM 30.609375 56 \nQ 42.328125 56 49.015625 48.375 \nQ 55.71875 40.765625 55.71875 27.296875 \nQ 55.71875 13.875 49.015625 6.21875 \nQ 42.328125 -1.421875 30.609375 -1.421875 \nQ 18.84375 -1.421875 12.171875 6.21875 \nQ 5.515625 13.875 5.515625 27.296875 \nQ 5.515625 40.765625 12.171875 48.375 \nQ 18.84375 56 30.609375 56 \nz\n\" id=\"DejaVuSans-111\"/>\n       <path d=\"M 48.78125 52.59375 \nL 48.78125 44.1875 \nQ 44.96875 46.296875 41.140625 47.34375 \nQ 37.3125 48.390625 33.40625 48.390625 \nQ 24.65625 48.390625 19.8125 42.84375 \nQ 14.984375 37.3125 14.984375 27.296875 \nQ 14.984375 17.28125 19.8125 11.734375 \nQ 24.65625 6.203125 33.40625 6.203125 \nQ 37.3125 6.203125 41.140625 7.25 \nQ 44.96875 8.296875 48.78125 10.40625 \nL 48.78125 2.09375 \nQ 45.015625 0.34375 40.984375 -0.53125 \nQ 36.96875 -1.421875 32.421875 -1.421875 \nQ 20.0625 -1.421875 12.78125 6.34375 \nQ 5.515625 14.109375 5.515625 27.296875 \nQ 5.515625 40.671875 12.859375 48.328125 \nQ 20.21875 56 33.015625 56 \nQ 37.15625 56 41.109375 55.140625 \nQ 45.0625 54.296875 48.78125 52.59375 \nz\n\" id=\"DejaVuSans-99\"/>\n       <path d=\"M 54.890625 33.015625 \nL 54.890625 0 \nL 45.90625 0 \nL 45.90625 32.71875 \nQ 45.90625 40.484375 42.875 44.328125 \nQ 39.84375 48.1875 33.796875 48.1875 \nQ 26.515625 48.1875 22.3125 43.546875 \nQ 18.109375 38.921875 18.109375 30.90625 \nL 18.109375 0 \nL 9.078125 0 \nL 9.078125 75.984375 \nL 18.109375 75.984375 \nL 18.109375 46.1875 \nQ 21.34375 51.125 25.703125 53.5625 \nQ 30.078125 56 35.796875 56 \nQ 45.21875 56 50.046875 50.171875 \nQ 54.890625 44.34375 54.890625 33.015625 \nz\n\" id=\"DejaVuSans-104\"/>\n      </defs>\n      <use xlink:href=\"#DejaVuSans-101\"/>\n      <use x=\"61.523438\" xlink:href=\"#DejaVuSans-112\"/>\n      <use x=\"125\" xlink:href=\"#DejaVuSans-111\"/>\n      <use x=\"186.181641\" xlink:href=\"#DejaVuSans-99\"/>\n      <use x=\"241.162109\" xlink:href=\"#DejaVuSans-104\"/>\n     </g>\n    </g>\n   </g>\n   <g id=\"matplotlib.axis_2\">\n    <g id=\"ytick_1\">\n     <g id=\"line2d_7\">\n      <defs>\n       <path d=\"M 0 0 \nL -3.5 0 \n\" id=\"md1e70b5ae0\" style=\"stroke:#000000;stroke-width:0.8;\"/>\n      </defs>\n      <g>\n       <use style=\"stroke:#000000;stroke-width:0.8;\" x=\"43.78125\" xlink:href=\"#md1e70b5ae0\" y=\"230.62675\"/>\n      </g>\n     </g>\n     <g id=\"text_8\">\n      <!-- 0.0 -->\n      <g transform=\"translate(20.878125 234.425969)scale(0.1 -0.1)\">\n       <defs>\n        <path d=\"M 10.6875 12.40625 \nL 21 12.40625 \nL 21 0 \nL 10.6875 0 \nz\n\" id=\"DejaVuSans-46\"/>\n       </defs>\n       <use xlink:href=\"#DejaVuSans-48\"/>\n       <use x=\"63.623047\" xlink:href=\"#DejaVuSans-46\"/>\n       <use x=\"95.410156\" xlink:href=\"#DejaVuSans-48\"/>\n      </g>\n     </g>\n    </g>\n    <g id=\"ytick_2\">\n     <g id=\"line2d_8\">\n      <g>\n       <use style=\"stroke:#000000;stroke-width:0.8;\" x=\"43.78125\" xlink:href=\"#md1e70b5ae0\" y=\"190.306629\"/>\n      </g>\n     </g>\n     <g id=\"text_9\">\n      <!-- 0.2 -->\n      <g transform=\"translate(20.878125 194.105848)scale(0.1 -0.1)\">\n       <use xlink:href=\"#DejaVuSans-48\"/>\n       <use x=\"63.623047\" xlink:href=\"#DejaVuSans-46\"/>\n       <use x=\"95.410156\" xlink:href=\"#DejaVuSans-50\"/>\n      </g>\n     </g>\n    </g>\n    <g id=\"ytick_3\">\n     <g id=\"line2d_9\">\n      <g>\n       <use style=\"stroke:#000000;stroke-width:0.8;\" x=\"43.78125\" xlink:href=\"#md1e70b5ae0\" y=\"149.986508\"/>\n      </g>\n     </g>\n     <g id=\"text_10\">\n      <!-- 0.4 -->\n      <g transform=\"translate(20.878125 153.785727)scale(0.1 -0.1)\">\n       <use xlink:href=\"#DejaVuSans-48\"/>\n       <use x=\"63.623047\" xlink:href=\"#DejaVuSans-46\"/>\n       <use x=\"95.410156\" xlink:href=\"#DejaVuSans-52\"/>\n      </g>\n     </g>\n    </g>\n    <g id=\"ytick_4\">\n     <g id=\"line2d_10\">\n      <g>\n       <use style=\"stroke:#000000;stroke-width:0.8;\" x=\"43.78125\" xlink:href=\"#md1e70b5ae0\" y=\"109.666387\"/>\n      </g>\n     </g>\n     <g id=\"text_11\">\n      <!-- 0.6 -->\n      <g transform=\"translate(20.878125 113.465606)scale(0.1 -0.1)\">\n       <defs>\n        <path d=\"M 33.015625 40.375 \nQ 26.375 40.375 22.484375 35.828125 \nQ 18.609375 31.296875 18.609375 23.390625 \nQ 18.609375 15.53125 22.484375 10.953125 \nQ 26.375 6.390625 33.015625 6.390625 \nQ 39.65625 6.390625 43.53125 10.953125 \nQ 47.40625 15.53125 47.40625 23.390625 \nQ 47.40625 31.296875 43.53125 35.828125 \nQ 39.65625 40.375 33.015625 40.375 \nz\nM 52.59375 71.296875 \nL 52.59375 62.3125 \nQ 48.875 64.0625 45.09375 64.984375 \nQ 41.3125 65.921875 37.59375 65.921875 \nQ 27.828125 65.921875 22.671875 59.328125 \nQ 17.53125 52.734375 16.796875 39.40625 \nQ 19.671875 43.65625 24.015625 45.921875 \nQ 28.375 48.1875 33.59375 48.1875 \nQ 44.578125 48.1875 50.953125 41.515625 \nQ 57.328125 34.859375 57.328125 23.390625 \nQ 57.328125 12.15625 50.6875 5.359375 \nQ 44.046875 -1.421875 33.015625 -1.421875 \nQ 20.359375 -1.421875 13.671875 8.265625 \nQ 6.984375 17.96875 6.984375 36.375 \nQ 6.984375 53.65625 15.1875 63.9375 \nQ 23.390625 74.21875 37.203125 74.21875 \nQ 40.921875 74.21875 44.703125 73.484375 \nQ 48.484375 72.75 52.59375 71.296875 \nz\n\" id=\"DejaVuSans-54\"/>\n       </defs>\n       <use xlink:href=\"#DejaVuSans-48\"/>\n       <use x=\"63.623047\" xlink:href=\"#DejaVuSans-46\"/>\n       <use x=\"95.410156\" xlink:href=\"#DejaVuSans-54\"/>\n      </g>\n     </g>\n    </g>\n    <g id=\"ytick_5\">\n     <g id=\"line2d_11\">\n      <g>\n       <use style=\"stroke:#000000;stroke-width:0.8;\" x=\"43.78125\" xlink:href=\"#md1e70b5ae0\" y=\"69.346266\"/>\n      </g>\n     </g>\n     <g id=\"text_12\">\n      <!-- 0.8 -->\n      <g transform=\"translate(20.878125 73.145485)scale(0.1 -0.1)\">\n       <defs>\n        <path d=\"M 31.78125 34.625 \nQ 24.75 34.625 20.71875 30.859375 \nQ 16.703125 27.09375 16.703125 20.515625 \nQ 16.703125 13.921875 20.71875 10.15625 \nQ 24.75 6.390625 31.78125 6.390625 \nQ 38.8125 6.390625 42.859375 10.171875 \nQ 46.921875 13.96875 46.921875 20.515625 \nQ 46.921875 27.09375 42.890625 30.859375 \nQ 38.875 34.625 31.78125 34.625 \nz\nM 21.921875 38.8125 \nQ 15.578125 40.375 12.03125 44.71875 \nQ 8.5 49.078125 8.5 55.328125 \nQ 8.5 64.0625 14.71875 69.140625 \nQ 20.953125 74.21875 31.78125 74.21875 \nQ 42.671875 74.21875 48.875 69.140625 \nQ 55.078125 64.0625 55.078125 55.328125 \nQ 55.078125 49.078125 51.53125 44.71875 \nQ 48 40.375 41.703125 38.8125 \nQ 48.828125 37.15625 52.796875 32.3125 \nQ 56.78125 27.484375 56.78125 20.515625 \nQ 56.78125 9.90625 50.3125 4.234375 \nQ 43.84375 -1.421875 31.78125 -1.421875 \nQ 19.734375 -1.421875 13.25 4.234375 \nQ 6.78125 9.90625 6.78125 20.515625 \nQ 6.78125 27.484375 10.78125 32.3125 \nQ 14.796875 37.15625 21.921875 38.8125 \nz\nM 18.3125 54.390625 \nQ 18.3125 48.734375 21.84375 45.5625 \nQ 25.390625 42.390625 31.78125 42.390625 \nQ 38.140625 42.390625 41.71875 45.5625 \nQ 45.3125 48.734375 45.3125 54.390625 \nQ 45.3125 60.0625 41.71875 63.234375 \nQ 38.140625 66.40625 31.78125 66.40625 \nQ 25.390625 66.40625 21.84375 63.234375 \nQ 18.3125 60.0625 18.3125 54.390625 \nz\n\" id=\"DejaVuSans-56\"/>\n       </defs>\n       <use xlink:href=\"#DejaVuSans-48\"/>\n       <use x=\"63.623047\" xlink:href=\"#DejaVuSans-46\"/>\n       <use x=\"95.410156\" xlink:href=\"#DejaVuSans-56\"/>\n      </g>\n     </g>\n    </g>\n    <g id=\"ytick_6\">\n     <g id=\"line2d_12\">\n      <g>\n       <use style=\"stroke:#000000;stroke-width:0.8;\" x=\"43.78125\" xlink:href=\"#md1e70b5ae0\" y=\"29.026145\"/>\n      </g>\n     </g>\n     <g id=\"text_13\">\n      <!-- 1.0 -->\n      <g transform=\"translate(20.878125 32.825364)scale(0.1 -0.1)\">\n       <use xlink:href=\"#DejaVuSans-49\"/>\n       <use x=\"63.623047\" xlink:href=\"#DejaVuSans-46\"/>\n       <use x=\"95.410156\" xlink:href=\"#DejaVuSans-48\"/>\n      </g>\n     </g>\n    </g>\n    <g id=\"text_14\">\n     <!-- MSE -->\n     <g transform=\"translate(14.798438 141.685781)rotate(-90)scale(0.1 -0.1)\">\n      <defs>\n       <path d=\"M 9.8125 72.90625 \nL 24.515625 72.90625 \nL 43.109375 23.296875 \nL 61.8125 72.90625 \nL 76.515625 72.90625 \nL 76.515625 0 \nL 66.890625 0 \nL 66.890625 64.015625 \nL 48.09375 14.015625 \nL 38.1875 14.015625 \nL 19.390625 64.015625 \nL 19.390625 0 \nL 9.8125 0 \nz\n\" id=\"DejaVuSans-77\"/>\n       <path d=\"M 53.515625 70.515625 \nL 53.515625 60.890625 \nQ 47.90625 63.578125 42.921875 64.890625 \nQ 37.9375 66.21875 33.296875 66.21875 \nQ 25.25 66.21875 20.875 63.09375 \nQ 16.5 59.96875 16.5 54.203125 \nQ 16.5 49.359375 19.40625 46.890625 \nQ 22.3125 44.4375 30.421875 42.921875 \nL 36.375 41.703125 \nQ 47.40625 39.59375 52.65625 34.296875 \nQ 57.90625 29 57.90625 20.125 \nQ 57.90625 9.515625 50.796875 4.046875 \nQ 43.703125 -1.421875 29.984375 -1.421875 \nQ 24.8125 -1.421875 18.96875 -0.25 \nQ 13.140625 0.921875 6.890625 3.21875 \nL 6.890625 13.375 \nQ 12.890625 10.015625 18.65625 8.296875 \nQ 24.421875 6.59375 29.984375 6.59375 \nQ 38.421875 6.59375 43.015625 9.90625 \nQ 47.609375 13.234375 47.609375 19.390625 \nQ 47.609375 24.75 44.3125 27.78125 \nQ 41.015625 30.8125 33.5 32.328125 \nL 27.484375 33.5 \nQ 16.453125 35.6875 11.515625 40.375 \nQ 6.59375 45.0625 6.59375 53.421875 \nQ 6.59375 63.09375 13.40625 68.65625 \nQ 20.21875 74.21875 32.171875 74.21875 \nQ 37.3125 74.21875 42.625 73.28125 \nQ 47.953125 72.359375 53.515625 70.515625 \nz\n\" id=\"DejaVuSans-83\"/>\n       <path d=\"M 9.8125 72.90625 \nL 55.90625 72.90625 \nL 55.90625 64.59375 \nL 19.671875 64.59375 \nL 19.671875 43.015625 \nL 54.390625 43.015625 \nL 54.390625 34.71875 \nL 19.671875 34.71875 \nL 19.671875 8.296875 \nL 56.78125 8.296875 \nL 56.78125 0 \nL 9.8125 0 \nz\n\" id=\"DejaVuSans-69\"/>\n      </defs>\n      <use xlink:href=\"#DejaVuSans-77\"/>\n      <use x=\"86.279297\" xlink:href=\"#DejaVuSans-83\"/>\n      <use x=\"149.755859\" xlink:href=\"#DejaVuSans-69\"/>\n     </g>\n    </g>\n   </g>\n   <g id=\"line2d_13\">\n    <path clip-path=\"url(#p481647bdc5)\" d=\"M 58.999432 191.499213 \nL 62.049168 192.490549 \nL 65.708851 192.737133 \nL 70.588428 193.302994 \nL 76.6879 194.264421 \nL 85.22716 195.884937 \nL 96.816156 198.339501 \nL 111.454888 201.467452 \nL 135.242828 205.447604 \nL 148.661665 207.743742 \nL 189.528126 214.666345 \nL 204.776805 216.94341 \nL 221.245378 219.166082 \nL 234.664216 220.72006 \nL 252.962631 222.453158 \nL 271.870993 224.052277 \nL 285.289831 225.04187 \nL 303.588246 226.185578 \nL 326.156291 227.305734 \nL 345.064653 228.028736 \nL 363.363068 228.576558 \nL 363.363068 228.576558 \n\" style=\"fill:none;stroke:#1f77b4;stroke-linecap:square;stroke-width:1.5;\"/>\n   </g>\n   <g id=\"line2d_14\">\n    <path clip-path=\"url(#p481647bdc5)\" d=\"M 58.999432 59.9083 \nL 61.43922 60.589806 \nL 65.098903 60.865965 \nL 69.368534 61.411218 \nL 74.858058 62.361398 \nL 81.567477 63.775804 \nL 99.865892 67.813376 \nL 104.135522 68.349881 \nL 109.625047 68.840989 \nL 112.674783 68.847322 \nL 116.334466 68.671462 \nL 123.043884 67.974707 \nL 126.703567 67.559351 \nL 133.412986 66.973495 \nL 138.292564 66.451109 \nL 142.562194 65.971164 \nL 148.051718 65.332556 \nL 173.669499 62.085527 \nL 183.428654 60.545045 \nL 189.528126 59.524065 \nL 224.295114 53.575344 \nL 227.954797 52.974888 \nL 241.373635 50.910566 \nL 257.232261 48.829193 \nL 279.190359 46.461843 \nL 305.418087 44.088005 \nL 337.745287 41.892188 \nL 363.363068 40.43528 \nL 363.363068 40.43528 \n\" style=\"fill:none;stroke:#ff7f0e;stroke-linecap:square;stroke-width:1.5;\"/>\n   </g>\n   <g id=\"line2d_15\">\n    <path clip-path=\"url(#p481647bdc5)\" d=\"M 58.999432 180.240282 \nL 61.43922 181.983648 \nL 62.049168 182.340956 \nL 65.098903 182.610062 \nL 69.368534 183.249358 \nL 74.858058 184.346485 \nL 80.347583 185.660117 \nL 87.666949 187.637639 \nL 94.376368 189.655487 \nL 102.915628 192.444541 \nL 106.575311 193.551795 \nL 115.724518 196.138326 \nL 122.433937 197.773157 \nL 129.143356 199.240835 \nL 137.682616 200.872959 \nL 150.491507 203.0486 \nL 161.470556 204.748524 \nL 176.719235 206.91086 \nL 205.996699 210.704222 \nL 221.855325 212.410471 \nL 246.863159 215.061536 \nL 257.232261 216.223319 \nL 287.729619 219.099534 \nL 294.439038 219.670708 \nL 304.80814 220.539794 \nL 318.836925 221.585965 \nL 330.425921 222.57423 \nL 341.40497 223.596536 \nL 363.363068 224.168904 \nL 363.363068 224.168904 \n\" style=\"fill:none;stroke:#1f77b4;stroke-linecap:square;stroke-width:1.5;\"/>\n   </g>\n   <g id=\"line2d_16\">\n    <path clip-path=\"url(#p481647bdc5)\" d=\"M 58.999432 157.372177 \nL 61.43922 156.257831 \nL 64.488956 156.016104 \nL 68.758586 155.436755 \nL 73.638164 154.532285 \nL 79.127688 153.274482 \nL 85.22716 151.634216 \nL 91.936579 149.58733 \nL 99.255945 147.118286 \nL 108.405152 144.004542 \nL 112.064835 143.127813 \nL 117.55436 142.073674 \nL 124.263779 140.839999 \nL 129.143356 139.618521 \nL 138.902511 137.512755 \nL 145.61193 135.961716 \nL 149.88156 134.948157 \nL 156.590979 133.549918 \nL 168.179975 132.450406 \nL 177.939129 131.688486 \nL 180.378918 131.538048 \nL 181.598812 131.520594 \nL 184.038601 131.848057 \nL 188.308231 132.913089 \nL 190.138073 133.365738 \nL 192.577861 133.586388 \nL 194.407703 133.814236 \nL 199.28728 134.938039 \nL 201.117122 135.432031 \nL 205.386752 136.034884 \nL 209.046435 136.777145 \nL 216.975748 138.028862 \nL 218.195642 138.29193 \nL 224.905061 139.317013 \nL 227.954797 139.812669 \nL 237.104005 141.229791 \nL 245.643265 142.670916 \nL 248.083054 143.022363 \nL 252.352684 143.771551 \nL 254.182525 144.117333 \nL 255.40242 144.309997 \nL 257.232261 144.51195 \nL 263.94168 145.829847 \nL 274.920729 147.986244 \nL 279.800306 149.069679 \nL 281.020201 149.35637 \nL 283.459989 150.221793 \nL 285.289831 150.559139 \nL 288.339567 151.395908 \nL 296.878827 153.670312 \nL 298.098721 154.019741 \nL 299.318616 154.448249 \nL 301.148457 154.809033 \nL 304.80814 155.90255 \nL 306.028034 156.236766 \nL 307.857876 156.910486 \nL 309.687717 157.267245 \nL 313.3474 158.327031 \nL 314.567295 158.66475 \nL 316.397136 159.344875 \nL 318.836925 159.861637 \nL 321.886661 160.826572 \nL 323.716502 161.32492 \nL 326.156291 162.125586 \nL 327.986132 162.563083 \nL 331.035868 163.576997 \nL 334.695551 164.470519 \nL 337.13534 165.357487 \nL 341.40497 166.444851 \nL 345.064653 167.62855 \nL 349.944231 168.666604 \nL 351.774072 169.048472 \nL 354.823808 169.954124 \nL 356.653649 170.079214 \nL 358.483491 170.486051 \nL 363.363068 171.802302 \nL 363.363068 171.802302 \n\" style=\"fill:none;stroke:#ff7f0e;stroke-linecap:square;stroke-width:1.5;\"/>\n   </g>\n   <g id=\"line2d_17\">\n    <path clip-path=\"url(#p481647bdc5)\" d=\"M 58.999432 193.552801 \nL 62.049168 195.41369 \nL 65.708851 195.713104 \nL 69.978481 196.294054 \nL 75.468005 197.273605 \nL 82.177424 198.703656 \nL 91.326632 200.90236 \nL 104.745469 204.403853 \nL 116.944413 207.526055 \nL 130.36325 210.642009 \nL 140.122405 212.683367 \nL 151.711401 214.796753 \nL 163.300397 216.69634 \nL 176.719235 218.64144 \nL 190.138073 220.347143 \nL 204.166858 221.907859 \nL 221.245378 223.541172 \nL 237.104005 224.825411 \nL 256.622314 226.136003 \nL 275.530676 227.154087 \nL 290.169408 227.75765 \nL 322.496608 228.78638 \nL 348.114389 229.339695 \nL 363.363068 229.586881 \nL 363.363068 229.586881 \n\" style=\"fill:none;stroke:#1f77b4;stroke-linecap:square;stroke-width:1.5;\"/>\n   </g>\n   <g id=\"line2d_18\">\n    <path clip-path=\"url(#p481647bdc5)\" d=\"M 58.999432 224.369325 \nL 60.219326 224.175787 \nL 61.43922 223.871003 \nL 66.928745 223.640558 \nL 74.248111 223.086024 \nL 83.397319 222.149011 \nL 94.376368 220.788768 \nL 125.483673 216.750037 \nL 132.193092 216.250818 \nL 138.902511 215.981032 \nL 146.831824 215.84705 \nL 152.931296 215.977993 \nL 159.640714 216.704684 \nL 166.96008 217.516807 \nL 197.457439 220.958785 \nL 204.166858 221.655754 \nL 211.486224 222.361161 \nL 227.34485 223.738355 \nL 256.012367 225.716359 \nL 271.870993 226.596161 \nL 301.758404 227.893853 \nL 342.014917 228.8671 \nL 363.363068 229.220465 \nL 363.363068 229.220465 \n\" style=\"fill:none;stroke:#ff7f0e;stroke-linecap:square;stroke-width:1.5;\"/>\n   </g>\n   <g id=\"line2d_19\">\n    <path clip-path=\"url(#p481647bdc5)\" d=\"M 58.999432 134.735288 \nL 62.049168 135.725001 \nL 66.318798 135.940808 \nL 71.808322 136.432228 \nL 78.517741 137.271725 \nL 85.22716 138.337279 \nL 92.546526 139.731943 \nL 100.475839 141.436099 \nL 107.795205 143.236686 \nL 116.334466 145.600714 \nL 123.653832 147.744554 \nL 131.583145 150.307048 \nL 139.512458 153.110014 \nL 143.782088 154.841514 \nL 149.88156 157.575115 \nL 156.590979 160.830742 \nL 162.69045 163.985372 \nL 168.179975 167.263403 \nL 179.159024 174.155034 \nL 184.648548 177.512446 \nL 191.967914 181.700768 \nL 199.28728 185.644721 \nL 206.606646 189.34658 \nL 213.926012 192.808137 \nL 220.025484 195.481462 \nL 227.954797 198.718866 \nL 235.274163 201.476101 \nL 241.373635 203.597617 \nL 249.302948 205.89043 \nL 257.232261 207.963037 \nL 265.161574 209.8252 \nL 272.48094 211.282051 \nL 285.289831 213.455273 \nL 299.318616 215.533511 \nL 309.07777 216.819437 \nL 321.276714 218.259272 \nL 336.525393 219.857009 \nL 355.433755 221.560809 \nL 363.363068 222.191284 \nL 363.363068 222.191284 \n\" style=\"fill:none;stroke:#1f77b4;stroke-linecap:square;stroke-width:1.5;\"/>\n   </g>\n   <g id=\"line2d_20\">\n    <path clip-path=\"url(#p481647bdc5)\" d=\"M 58.999432 116.519489 \nL 61.43922 115.525954 \nL 65.708851 115.768132 \nL 71.198375 116.321952 \nL 77.297847 117.155525 \nL 84.007266 118.287151 \nL 91.936579 119.870435 \nL 102.915628 122.156134 \nL 109.0151 123.718257 \nL 115.114571 125.521512 \nL 132.803039 131.214592 \nL 144.392035 135.236513 \nL 155.371084 139.262291 \nL 165.130239 143.078864 \nL 171.229711 145.675581 \nL 178.549077 149.063929 \nL 187.088337 153.257376 \nL 195.627597 157.749857 \nL 210.876276 165.796948 \nL 216.975748 168.786744 \nL 221.245378 170.58649 \nL 227.954797 173.124027 \nL 232.834374 174.994129 \nL 241.983582 179.108209 \nL 246.253212 180.843601 \nL 261.501891 187.541763 \nL 266.381469 189.545679 \nL 273.700835 192.355049 \nL 285.899778 197.520213 \nL 290.779355 199.067796 \nL 298.708668 201.413258 \nL 317.617031 205.756098 \nL 323.106555 206.665913 \nL 335.915446 208.316357 \nL 344.454706 209.279895 \nL 363.363068 211.183621 \nL 363.363068 211.183621 \n\" style=\"fill:none;stroke:#ff7f0e;stroke-linecap:square;stroke-width:1.5;\"/>\n   </g>\n   <g id=\"line2d_21\">\n    <path clip-path=\"url(#p481647bdc5)\" d=\"M 58.999432 162.51986 \nL 62.049168 166.886865 \nL 65.098903 167.222692 \nL 68.758586 167.893498 \nL 73.028217 168.938162 \nL 77.907794 170.398512 \nL 83.397319 172.305456 \nL 92.546526 175.812393 \nL 102.305681 179.768746 \nL 118.164307 186.236844 \nL 130.973198 191.143103 \nL 141.952247 195.110157 \nL 151.711401 198.396804 \nL 160.860609 201.251735 \nL 170.009816 203.868919 \nL 179.159024 206.252025 \nL 188.918178 208.556851 \nL 199.897227 210.89767 \nL 211.486224 213.136415 \nL 221.855325 214.923332 \nL 243.203476 217.927645 \nL 258.452155 219.73864 \nL 272.48094 221.187215 \nL 287.729619 222.541734 \nL 302.978299 223.691036 \nL 321.886661 224.898457 \nL 343.234812 226.019696 \nL 352.993966 226.59623 \nL 363.363068 227.214497 \nL 363.363068 227.214497 \n\" style=\"fill:none;stroke:#1f77b4;stroke-linecap:square;stroke-width:1.5;\"/>\n   </g>\n   <g id=\"line2d_22\">\n    <path clip-path=\"url(#p481647bdc5)\" d=\"M 58.999432 224.263645 \nL 61.43922 223.58778 \nL 67.538692 223.372461 \nL 75.468005 222.856554 \nL 84.617213 222.024066 \nL 95.596262 220.794257 \nL 112.064835 218.697857 \nL 118.774254 217.729219 \nL 139.512458 214.238975 \nL 151.101454 212.50302 \nL 161.470556 211.1709 \nL 174.279446 209.64392 \nL 184.038601 208.843544 \nL 194.407703 208.321937 \nL 201.727069 208.161533 \nL 210.266329 208.165151 \nL 220.025484 208.417536 \nL 241.983582 209.513726 \nL 262.111838 210.449659 \nL 267.601363 210.620462 \nL 284.679884 211.650266 \nL 291.389302 212.102177 \nL 298.098721 212.435951 \nL 311.517559 213.219159 \nL 346.284548 215.339572 \nL 351.774072 215.219446 \nL 363.363068 214.979333 \nL 363.363068 214.979333 \n\" style=\"fill:none;stroke:#ff7f0e;stroke-linecap:square;stroke-width:1.5;\"/>\n   </g>\n   <g id=\"line2d_23\">\n    <path clip-path=\"url(#p481647bdc5)\" d=\"M 58.999432 176.789892 \nL 62.049168 180.741438 \nL 65.098903 181.068373 \nL 68.758586 181.724741 \nL 73.028217 182.73986 \nL 77.907794 184.167076 \nL 83.397319 186.032824 \nL 89.49679 188.357351 \nL 96.816156 191.399201 \nL 103.525575 194.357773 \nL 128.533409 205.52617 \nL 133.412986 207.436862 \nL 137.072669 208.639837 \nL 146.221877 211.078442 \nL 148.661665 211.581219 \nL 167.570028 214.62297 \nL 183.428654 216.851835 \nL 190.74802 217.816701 \nL 200.507175 218.945749 \nL 214.535959 220.428127 \nL 251.742737 223.967118 \nL 266.381469 225.034292 \nL 280.410253 225.907134 \nL 314.567295 227.498754 \nL 363.363068 229.036641 \nL 363.363068 229.036641 \n\" style=\"fill:none;stroke:#1f77b4;stroke-linecap:square;stroke-width:1.5;\"/>\n   </g>\n   <g id=\"line2d_24\">\n    <path clip-path=\"url(#p481647bdc5)\" d=\"M 58.999432 105.863153 \nL 61.43922 110.188732 \nL 63.879009 110.537771 \nL 66.928745 111.243261 \nL 69.978481 112.167546 \nL 73.638164 113.507078 \nL 77.907794 115.330629 \nL 82.177424 117.387332 \nL 87.057002 119.979147 \nL 92.546526 123.153586 \nL 98.645998 126.939896 \nL 104.745469 130.98082 \nL 113.28473 136.943409 \nL 120.604096 142.266229 \nL 133.412986 151.649645 \nL 136.462722 153.500725 \nL 140.122405 155.430284 \nL 144.392035 157.451894 \nL 151.711401 159.940608 \nL 155.371084 161.191418 \nL 160.250662 162.846806 \nL 162.69045 163.663112 \nL 166.96008 165.184866 \nL 170.009816 166.135034 \nL 172.449605 166.91112 \nL 174.889394 167.653802 \nL 177.329182 168.425256 \nL 181.598812 169.680849 \nL 187.088337 171.215287 \nL 190.138073 172.025999 \nL 193.187809 173.083256 \nL 197.457439 174.4253 \nL 202.946963 176.069675 \nL 209.656382 179.339469 \nL 216.975748 182.547268 \nL 218.80559 183.317551 \nL 221.245378 184.263095 \nL 224.295114 185.526198 \nL 233.444322 188.792009 \nL 240.763688 191.168671 \nL 244.423371 192.323744 \nL 252.352684 194.942692 \nL 254.182525 195.609916 \nL 256.622314 196.154103 \nL 259.062103 196.804628 \nL 267.601363 199.21621 \nL 269.431204 199.625979 \nL 272.48094 200.561255 \nL 274.310782 200.958939 \nL 278.580412 202.036945 \nL 287.119672 203.823641 \nL 288.949514 204.242663 \nL 291.389302 204.781851 \nL 296.26888 205.667208 \nL 298.098721 206.068687 \nL 299.928563 206.440001 \nL 302.978299 206.911023 \nL 304.80814 207.327018 \nL 309.07777 208.02246 \nL 310.907612 208.432315 \nL 321.886661 210.157015 \nL 324.936397 210.915241 \nL 335.915446 214.545361 \nL 342.624865 216.483491 \nL 345.6746 217.220858 \nL 348.724336 217.912347 \nL 357.873544 219.697593 \nL 363.363068 220.553232 \nL 363.363068 220.553232 \n\" style=\"fill:none;stroke:#ff7f0e;stroke-linecap:square;stroke-width:1.5;\"/>\n   </g>\n   <g id=\"line2d_25\">\n    <path clip-path=\"url(#p481647bdc5)\" d=\"M 58.999432 150.922525 \nL 62.049168 153.239743 \nL 66.318798 153.497739 \nL 71.808322 154.083283 \nL 77.297847 154.903969 \nL 82.787371 155.981167 \nL 89.49679 157.544594 \nL 94.376368 158.882967 \nL 100.475839 160.779907 \nL 107.185258 163.100844 \nL 114.504624 165.881831 \nL 122.433937 169.136828 \nL 127.313515 171.326876 \nL 135.852775 175.478591 \nL 155.371084 185.000318 \nL 170.009816 191.718313 \nL 177.939129 195.082952 \nL 185.868443 198.206892 \nL 191.357967 200.162403 \nL 198.677333 202.548129 \nL 206.606646 204.901503 \nL 212.706118 206.503004 \nL 224.905061 209.247892 \nL 235.88411 211.31156 \nL 247.473106 213.233923 \nL 260.281997 215.131751 \nL 273.090887 216.821067 \nL 287.729619 218.534325 \nL 304.198193 220.222981 \nL 322.496608 221.867385 \nL 341.40497 223.34029 \nL 360.92328 224.641518 \nL 363.363068 224.789176 \nL 363.363068 224.789176 \n\" style=\"fill:none;stroke:#1f77b4;stroke-linecap:square;stroke-width:1.5;\"/>\n   </g>\n   <g id=\"line2d_26\">\n    <path clip-path=\"url(#p481647bdc5)\" d=\"M 58.999432 228.148446 \nL 62.049168 227.557957 \nL 68.758586 227.328439 \nL 76.6879 226.827804 \nL 84.007266 226.146898 \nL 91.326632 225.237344 \nL 98.036051 224.193573 \nL 104.745469 222.940042 \nL 112.064835 221.349078 \nL 121.82399 218.977558 \nL 129.143356 217.044419 \nL 140.732352 213.914707 \nL 146.831824 212.542018 \nL 152.321348 211.521813 \nL 157.200926 210.858099 \nL 160.250662 210.660968 \nL 163.910345 210.637402 \nL 168.789922 210.850229 \nL 174.889394 211.366969 \nL 182.20876 212.215968 \nL 191.357967 213.31412 \nL 209.656382 214.229285 \nL 212.706118 214.398721 \nL 215.755854 214.304797 \nL 223.685167 213.902851 \nL 240.15374 215.074244 \nL 254.792472 216.710488 \nL 268.821257 218.517461 \nL 278.580412 219.730889 \nL 287.119672 220.586364 \nL 301.758404 221.660468 \nL 312.127506 222.385685 \nL 324.936397 223.198059 \nL 345.064653 224.22263 \nL 359.703385 224.844593 \nL 363.363068 224.981105 \nL 363.363068 224.981105 \n\" style=\"fill:none;stroke:#ff7f0e;stroke-linecap:square;stroke-width:1.5;\"/>\n   </g>\n   <g id=\"line2d_27\">\n    <path clip-path=\"url(#p481647bdc5)\" d=\"M 58.999432 145.218005 \nL 62.659115 146.098652 \nL 70.588428 146.319615 \nL 80.347583 146.818617 \nL 90.106737 147.54191 \nL 99.255945 148.439182 \nL 109.0151 149.665532 \nL 116.944413 150.901076 \nL 127.923462 152.89062 \nL 134.632881 154.319506 \nL 141.342299 155.975645 \nL 147.441771 157.7126 \nL 153.541243 159.660712 \nL 160.250662 162.057712 \nL 170.009816 165.890375 \nL 177.329182 169.008097 \nL 187.698284 173.696131 \nL 206.606646 182.282972 \nL 216.365801 186.44624 \nL 223.685167 189.37648 \nL 227.954797 191.011936 \nL 237.713952 194.551545 \nL 254.182525 199.932284 \nL 264.551627 202.973958 \nL 274.310782 205.613213 \nL 284.069936 208.049984 \nL 295.048985 210.548121 \nL 309.07777 213.399856 \nL 321.886661 215.67952 \nL 328.59608 216.761784 \nL 337.13534 218.028466 \nL 349.334283 219.623084 \nL 360.92328 220.954956 \nL 363.363068 221.214052 \nL 363.363068 221.214052 \n\" style=\"fill:none;stroke:#1f77b4;stroke-linecap:square;stroke-width:1.5;\"/>\n   </g>\n   <g id=\"line2d_28\">\n    <path clip-path=\"url(#p481647bdc5)\" d=\"M 58.999432 40.794448 \nL 61.43922 42.284197 \nL 68.148639 42.485699 \nL 77.297847 43.000479 \nL 87.057002 43.774631 \nL 97.426103 44.824955 \nL 107.795205 46.104165 \nL 118.164307 47.614642 \nL 128.533409 49.360868 \nL 138.292564 51.224769 \nL 148.051718 53.303282 \nL 158.42082 55.740002 \nL 169.399869 58.551968 \nL 182.20876 62.074316 \nL 196.237544 66.123507 \nL 203.55691 69.557463 \nL 208.436488 71.657617 \nL 210.876276 72.76181 \nL 215.145907 74.639374 \nL 217.585695 75.767611 \nL 221.855325 77.669388 \nL 224.905061 79.051627 \nL 228.564744 80.694284 \nL 232.224427 82.332026 \nL 235.88411 83.973276 \nL 239.543793 85.609889 \nL 243.203476 87.250791 \nL 246.863159 88.886755 \nL 250.522842 90.5269 \nL 253.572578 91.859067 \nL 256.622314 93.281632 \nL 263.331733 96.279191 \nL 266.991416 97.785594 \nL 268.21131 98.291446 \nL 271.261046 99.740928 \nL 291.99925 108.573497 \nL 295.048985 109.873376 \nL 298.098721 111.167979 \nL 301.148457 112.548247 \nL 304.80814 113.899868 \nL 306.637982 114.548125 \nL 309.07777 115.641059 \nL 312.127506 116.779979 \nL 313.3474 117.240216 \nL 315.787189 118.352004 \nL 318.836925 119.492402 \nL 321.886661 120.612372 \nL 324.326449 121.623955 \nL 327.376185 122.657179 \nL 329.206027 123.298755 \nL 336.525393 125.946638 \nL 338.965181 126.892143 \nL 342.014917 127.822724 \nL 343.844759 128.345218 \nL 346.284548 129.269527 \nL 349.334283 130.158369 \nL 350.554178 130.513031 \nL 352.993966 131.41631 \nL 356.043702 132.267217 \nL 359.093438 133.086268 \nL 361.533227 133.859315 \nL 363.363068 134.319823 \nL 363.363068 134.319823 \n\" style=\"fill:none;stroke:#ff7f0e;stroke-linecap:square;stroke-width:1.5;\"/>\n   </g>\n   <g id=\"line2d_29\">\n    <path clip-path=\"url(#p481647bdc5)\" d=\"M 58.999432 194.303128 \nL 62.659115 194.898204 \nL 66.928745 195.231057 \nL 72.418269 195.916048 \nL 79.127688 197.004757 \nL 85.22716 198.195161 \nL 94.376368 200.266585 \nL 138.292564 210.476263 \nL 150.491507 212.989676 \nL 166.350133 215.880929 \nL 176.109288 217.43957 \nL 200.507175 221.04046 \nL 212.096171 222.520635 \nL 224.295114 223.840899 \nL 237.713952 225.051494 \nL 252.352684 226.138262 \nL 271.261046 227.392712 \nL 286.509725 228.134735 \nL 304.198193 228.766382 \nL 324.936397 229.286829 \nL 351.774072 229.734594 \nL 363.363068 229.874489 \nL 363.363068 229.874489 \n\" style=\"fill:none;stroke:#1f77b4;stroke-linecap:square;stroke-width:1.5;\"/>\n   </g>\n   <g id=\"line2d_30\">\n    <path clip-path=\"url(#p481647bdc5)\" d=\"M 58.999432 153.701548 \nL 61.43922 152.540734 \nL 63.879009 152.15161 \nL 66.318798 151.540567 \nL 69.368534 150.551491 \nL 70.588428 150.024502 \nL 73.638164 148.266231 \nL 77.297847 145.893504 \nL 81.567477 142.81832 \nL 85.837107 139.415793 \nL 91.326632 134.712661 \nL 96.816156 129.738284 \nL 113.894677 113.919539 \nL 138.902511 92.470121 \nL 150.491507 83.345844 \nL 154.761137 80.438624 \nL 159.030767 77.78674 \nL 165.130239 73.981588 \nL 172.449605 69.620392 \nL 176.719235 67.137986 \nL 184.038601 62.880239 \nL 189.528126 59.478896 \nL 197.457439 54.814276 \nL 200.507175 53.39713 \nL 204.776805 51.616153 \nL 212.706118 48.695776 \nL 218.80559 46.608551 \nL 223.07522 45.403024 \nL 231.61448 43.238907 \nL 240.15374 41.421713 \nL 249.912895 39.709542 \nL 254.792472 39.009122 \nL 262.721786 38.119889 \nL 289.559461 35.475755 \nL 301.148457 34.622536 \nL 314.567295 33.833075 \nL 327.376185 33.321587 \nL 359.703385 32.297075 \nL 363.363068 32.201761 \nL 363.363068 32.201761 \n\" style=\"fill:none;stroke:#ff7f0e;stroke-linecap:square;stroke-width:1.5;\"/>\n   </g>\n   <g id=\"line2d_31\">\n    <path clip-path=\"url(#p481647bdc5)\" d=\"M 58.999432 153.253465 \nL 62.049168 154.358487 \nL 66.928745 154.591658 \nL 73.028217 155.106552 \nL 80.347583 155.951336 \nL 88.276896 157.092539 \nL 96.816156 158.556928 \nL 105.355417 160.261925 \nL 113.28473 162.074895 \nL 133.412986 167.104884 \nL 141.342299 169.413954 \nL 146.221877 171.026744 \nL 151.101454 172.821822 \nL 157.810873 175.529823 \nL 163.300397 177.912656 \nL 168.179975 180.441409 \nL 185.258495 189.575726 \nL 188.308231 191.035743 \nL 193.187809 193.034672 \nL 195.627597 194.488733 \nL 205.996699 200.848848 \nL 211.486224 203.97697 \nL 215.145907 205.726452 \nL 218.195642 206.930051 \nL 226.734903 209.527185 \nL 235.88411 211.87006 \nL 243.203476 214.234448 \nL 251.742737 217.555858 \nL 256.012367 218.912823 \nL 259.67205 219.893789 \nL 264.551627 220.965666 \nL 270.041152 221.940091 \nL 276.140623 222.815704 \nL 284.069936 223.730946 \nL 293.829091 224.642148 \nL 306.028034 225.57573 \nL 318.836925 226.394158 \nL 333.475657 227.093772 \nL 352.993966 227.806902 \nL 363.363068 228.117735 \nL 363.363068 228.117735 \n\" style=\"fill:none;stroke:#1f77b4;stroke-linecap:square;stroke-width:1.5;\"/>\n   </g>\n   <g id=\"line2d_32\">\n    <path clip-path=\"url(#p481647bdc5)\" d=\"M 58.999432 182.445454 \nL 65.708851 182.434831 \nL 80.95753 182.714706 \nL 96.816156 183.218729 \nL 111.454888 183.89553 \nL 124.873726 184.728539 \nL 138.292564 185.790356 \nL 146.221877 186.588442 \nL 152.931296 187.569951 \nL 159.030767 188.448993 \nL 165.740186 188.922356 \nL 174.889394 189.596295 \nL 190.74802 191.061488 \nL 196.847492 191.693737 \nL 202.337016 192.268661 \nL 212.096171 193.327609 \nL 212.706118 193.565001 \nL 216.975748 198.145212 \nL 217.585695 198.754158 \nL 218.80559 199.452791 \nL 220.025484 199.860334 \nL 221.245378 200.054776 \nL 222.465273 200.127358 \nL 223.685167 200.376315 \nL 225.515008 201.064409 \nL 227.954797 202.26539 \nL 230.394586 203.667703 \nL 232.224427 204.203514 \nL 235.88411 204.943648 \nL 237.713952 205.542142 \nL 239.543793 206.001361 \nL 244.423371 207.198353 \nL 246.253212 207.609126 \nL 252.352684 208.951487 \nL 253.572578 209.183525 \nL 254.792472 208.898227 \nL 262.721786 206.304189 \nL 264.551627 205.702712 \nL 266.381469 205.177347 \nL 268.21131 204.715337 \nL 275.530676 203.063005 \nL 281.020201 202.222865 \nL 282.850042 201.982163 \nL 285.289831 201.715021 \nL 288.949514 201.409395 \nL 291.99925 201.160197 \nL 293.829091 201.023719 \nL 296.878827 200.835904 \nL 298.708668 200.810534 \nL 301.758404 200.687427 \nL 308.467823 200.467975 \nL 310.297665 200.425636 \nL 353.603914 199.108499 \nL 356.043702 199.048766 \nL 362.143174 198.769178 \nL 363.363068 198.741724 \nL 363.363068 198.741724 \n\" style=\"fill:none;stroke:#ff7f0e;stroke-linecap:square;stroke-width:1.5;\"/>\n   </g>\n   <g id=\"patch_3\">\n    <path d=\"M 43.78125 239.758125 \nL 43.78125 22.318125 \n\" style=\"fill:none;stroke:#000000;stroke-linecap:square;stroke-linejoin:miter;stroke-width:0.8;\"/>\n   </g>\n   <g id=\"patch_4\">\n    <path d=\"M 378.58125 239.758125 \nL 378.58125 22.318125 \n\" style=\"fill:none;stroke:#000000;stroke-linecap:square;stroke-linejoin:miter;stroke-width:0.8;\"/>\n   </g>\n   <g id=\"patch_5\">\n    <path d=\"M 43.78125 239.758125 \nL 378.58125 239.758125 \n\" style=\"fill:none;stroke:#000000;stroke-linecap:square;stroke-linejoin:miter;stroke-width:0.8;\"/>\n   </g>\n   <g id=\"patch_6\">\n    <path d=\"M 43.78125 22.318125 \nL 378.58125 22.318125 \n\" style=\"fill:none;stroke:#000000;stroke-linecap:square;stroke-linejoin:miter;stroke-width:0.8;\"/>\n   </g>\n   <g id=\"text_15\">\n    <!-- model mean_squared_error -->\n    <g transform=\"translate(128.805938 16.318125)scale(0.12 -0.12)\">\n     <defs>\n      <path d=\"M 52 44.1875 \nQ 55.375 50.25 60.0625 53.125 \nQ 64.75 56 71.09375 56 \nQ 79.640625 56 84.28125 50.015625 \nQ 88.921875 44.046875 88.921875 33.015625 \nL 88.921875 0 \nL 79.890625 0 \nL 79.890625 32.71875 \nQ 79.890625 40.578125 77.09375 44.375 \nQ 74.3125 48.1875 68.609375 48.1875 \nQ 61.625 48.1875 57.5625 43.546875 \nQ 53.515625 38.921875 53.515625 30.90625 \nL 53.515625 0 \nL 44.484375 0 \nL 44.484375 32.71875 \nQ 44.484375 40.625 41.703125 44.40625 \nQ 38.921875 48.1875 33.109375 48.1875 \nQ 26.21875 48.1875 22.15625 43.53125 \nQ 18.109375 38.875 18.109375 30.90625 \nL 18.109375 0 \nL 9.078125 0 \nL 9.078125 54.6875 \nL 18.109375 54.6875 \nL 18.109375 46.1875 \nQ 21.1875 51.21875 25.484375 53.609375 \nQ 29.78125 56 35.6875 56 \nQ 41.65625 56 45.828125 52.96875 \nQ 50 49.953125 52 44.1875 \nz\n\" id=\"DejaVuSans-109\"/>\n      <path d=\"M 45.40625 46.390625 \nL 45.40625 75.984375 \nL 54.390625 75.984375 \nL 54.390625 0 \nL 45.40625 0 \nL 45.40625 8.203125 \nQ 42.578125 3.328125 38.25 0.953125 \nQ 33.9375 -1.421875 27.875 -1.421875 \nQ 17.96875 -1.421875 11.734375 6.484375 \nQ 5.515625 14.40625 5.515625 27.296875 \nQ 5.515625 40.1875 11.734375 48.09375 \nQ 17.96875 56 27.875 56 \nQ 33.9375 56 38.25 53.625 \nQ 42.578125 51.265625 45.40625 46.390625 \nz\nM 14.796875 27.296875 \nQ 14.796875 17.390625 18.875 11.75 \nQ 22.953125 6.109375 30.078125 6.109375 \nQ 37.203125 6.109375 41.296875 11.75 \nQ 45.40625 17.390625 45.40625 27.296875 \nQ 45.40625 37.203125 41.296875 42.84375 \nQ 37.203125 48.484375 30.078125 48.484375 \nQ 22.953125 48.484375 18.875 42.84375 \nQ 14.796875 37.203125 14.796875 27.296875 \nz\n\" id=\"DejaVuSans-100\"/>\n      <path d=\"M 9.421875 75.984375 \nL 18.40625 75.984375 \nL 18.40625 0 \nL 9.421875 0 \nz\n\" id=\"DejaVuSans-108\"/>\n      <path id=\"DejaVuSans-32\"/>\n      <path d=\"M 34.28125 27.484375 \nQ 23.390625 27.484375 19.1875 25 \nQ 14.984375 22.515625 14.984375 16.5 \nQ 14.984375 11.71875 18.140625 8.90625 \nQ 21.296875 6.109375 26.703125 6.109375 \nQ 34.1875 6.109375 38.703125 11.40625 \nQ 43.21875 16.703125 43.21875 25.484375 \nL 43.21875 27.484375 \nz\nM 52.203125 31.203125 \nL 52.203125 0 \nL 43.21875 0 \nL 43.21875 8.296875 \nQ 40.140625 3.328125 35.546875 0.953125 \nQ 30.953125 -1.421875 24.3125 -1.421875 \nQ 15.921875 -1.421875 10.953125 3.296875 \nQ 6 8.015625 6 15.921875 \nQ 6 25.140625 12.171875 29.828125 \nQ 18.359375 34.515625 30.609375 34.515625 \nL 43.21875 34.515625 \nL 43.21875 35.40625 \nQ 43.21875 41.609375 39.140625 45 \nQ 35.0625 48.390625 27.6875 48.390625 \nQ 23 48.390625 18.546875 47.265625 \nQ 14.109375 46.140625 10.015625 43.890625 \nL 10.015625 52.203125 \nQ 14.9375 54.109375 19.578125 55.046875 \nQ 24.21875 56 28.609375 56 \nQ 40.484375 56 46.34375 49.84375 \nQ 52.203125 43.703125 52.203125 31.203125 \nz\n\" id=\"DejaVuSans-97\"/>\n      <path d=\"M 54.890625 33.015625 \nL 54.890625 0 \nL 45.90625 0 \nL 45.90625 32.71875 \nQ 45.90625 40.484375 42.875 44.328125 \nQ 39.84375 48.1875 33.796875 48.1875 \nQ 26.515625 48.1875 22.3125 43.546875 \nQ 18.109375 38.921875 18.109375 30.90625 \nL 18.109375 0 \nL 9.078125 0 \nL 9.078125 54.6875 \nL 18.109375 54.6875 \nL 18.109375 46.1875 \nQ 21.34375 51.125 25.703125 53.5625 \nQ 30.078125 56 35.796875 56 \nQ 45.21875 56 50.046875 50.171875 \nQ 54.890625 44.34375 54.890625 33.015625 \nz\n\" id=\"DejaVuSans-110\"/>\n      <path d=\"M 50.984375 -16.609375 \nL 50.984375 -23.578125 \nL -0.984375 -23.578125 \nL -0.984375 -16.609375 \nz\n\" id=\"DejaVuSans-95\"/>\n      <path d=\"M 44.28125 53.078125 \nL 44.28125 44.578125 \nQ 40.484375 46.53125 36.375 47.5 \nQ 32.28125 48.484375 27.875 48.484375 \nQ 21.1875 48.484375 17.84375 46.4375 \nQ 14.5 44.390625 14.5 40.28125 \nQ 14.5 37.15625 16.890625 35.375 \nQ 19.28125 33.59375 26.515625 31.984375 \nL 29.59375 31.296875 \nQ 39.15625 29.25 43.1875 25.515625 \nQ 47.21875 21.78125 47.21875 15.09375 \nQ 47.21875 7.46875 41.1875 3.015625 \nQ 35.15625 -1.421875 24.609375 -1.421875 \nQ 20.21875 -1.421875 15.453125 -0.5625 \nQ 10.6875 0.296875 5.421875 2 \nL 5.421875 11.28125 \nQ 10.40625 8.6875 15.234375 7.390625 \nQ 20.0625 6.109375 24.8125 6.109375 \nQ 31.15625 6.109375 34.5625 8.28125 \nQ 37.984375 10.453125 37.984375 14.40625 \nQ 37.984375 18.0625 35.515625 20.015625 \nQ 33.0625 21.96875 24.703125 23.78125 \nL 21.578125 24.515625 \nQ 13.234375 26.265625 9.515625 29.90625 \nQ 5.8125 33.546875 5.8125 39.890625 \nQ 5.8125 47.609375 11.28125 51.796875 \nQ 16.75 56 26.8125 56 \nQ 31.78125 56 36.171875 55.265625 \nQ 40.578125 54.546875 44.28125 53.078125 \nz\n\" id=\"DejaVuSans-115\"/>\n      <path d=\"M 14.796875 27.296875 \nQ 14.796875 17.390625 18.875 11.75 \nQ 22.953125 6.109375 30.078125 6.109375 \nQ 37.203125 6.109375 41.296875 11.75 \nQ 45.40625 17.390625 45.40625 27.296875 \nQ 45.40625 37.203125 41.296875 42.84375 \nQ 37.203125 48.484375 30.078125 48.484375 \nQ 22.953125 48.484375 18.875 42.84375 \nQ 14.796875 37.203125 14.796875 27.296875 \nz\nM 45.40625 8.203125 \nQ 42.578125 3.328125 38.25 0.953125 \nQ 33.9375 -1.421875 27.875 -1.421875 \nQ 17.96875 -1.421875 11.734375 6.484375 \nQ 5.515625 14.40625 5.515625 27.296875 \nQ 5.515625 40.1875 11.734375 48.09375 \nQ 17.96875 56 27.875 56 \nQ 33.9375 56 38.25 53.625 \nQ 42.578125 51.265625 45.40625 46.390625 \nL 45.40625 54.6875 \nL 54.390625 54.6875 \nL 54.390625 -20.796875 \nL 45.40625 -20.796875 \nz\n\" id=\"DejaVuSans-113\"/>\n      <path d=\"M 8.5 21.578125 \nL 8.5 54.6875 \nL 17.484375 54.6875 \nL 17.484375 21.921875 \nQ 17.484375 14.15625 20.5 10.265625 \nQ 23.53125 6.390625 29.59375 6.390625 \nQ 36.859375 6.390625 41.078125 11.03125 \nQ 45.3125 15.671875 45.3125 23.6875 \nL 45.3125 54.6875 \nL 54.296875 54.6875 \nL 54.296875 0 \nL 45.3125 0 \nL 45.3125 8.40625 \nQ 42.046875 3.421875 37.71875 1 \nQ 33.40625 -1.421875 27.6875 -1.421875 \nQ 18.265625 -1.421875 13.375 4.4375 \nQ 8.5 10.296875 8.5 21.578125 \nz\nM 31.109375 56 \nz\n\" id=\"DejaVuSans-117\"/>\n      <path d=\"M 41.109375 46.296875 \nQ 39.59375 47.171875 37.8125 47.578125 \nQ 36.03125 48 33.890625 48 \nQ 26.265625 48 22.1875 43.046875 \nQ 18.109375 38.09375 18.109375 28.8125 \nL 18.109375 0 \nL 9.078125 0 \nL 9.078125 54.6875 \nL 18.109375 54.6875 \nL 18.109375 46.1875 \nQ 20.953125 51.171875 25.484375 53.578125 \nQ 30.03125 56 36.53125 56 \nQ 37.453125 56 38.578125 55.875 \nQ 39.703125 55.765625 41.0625 55.515625 \nz\n\" id=\"DejaVuSans-114\"/>\n     </defs>\n     <use xlink:href=\"#DejaVuSans-109\"/>\n     <use x=\"97.412109\" xlink:href=\"#DejaVuSans-111\"/>\n     <use x=\"158.59375\" xlink:href=\"#DejaVuSans-100\"/>\n     <use x=\"222.070312\" xlink:href=\"#DejaVuSans-101\"/>\n     <use x=\"283.59375\" xlink:href=\"#DejaVuSans-108\"/>\n     <use x=\"311.376953\" xlink:href=\"#DejaVuSans-32\"/>\n     <use x=\"343.164062\" xlink:href=\"#DejaVuSans-109\"/>\n     <use x=\"440.576172\" xlink:href=\"#DejaVuSans-101\"/>\n     <use x=\"502.099609\" xlink:href=\"#DejaVuSans-97\"/>\n     <use x=\"563.378906\" xlink:href=\"#DejaVuSans-110\"/>\n     <use x=\"626.757812\" xlink:href=\"#DejaVuSans-95\"/>\n     <use x=\"676.757812\" xlink:href=\"#DejaVuSans-115\"/>\n     <use x=\"728.857422\" xlink:href=\"#DejaVuSans-113\"/>\n     <use x=\"792.333984\" xlink:href=\"#DejaVuSans-117\"/>\n     <use x=\"855.712891\" xlink:href=\"#DejaVuSans-97\"/>\n     <use x=\"916.992188\" xlink:href=\"#DejaVuSans-114\"/>\n     <use x=\"955.855469\" xlink:href=\"#DejaVuSans-101\"/>\n     <use x=\"1017.378906\" xlink:href=\"#DejaVuSans-100\"/>\n     <use x=\"1080.855469\" xlink:href=\"#DejaVuSans-95\"/>\n     <use x=\"1130.855469\" xlink:href=\"#DejaVuSans-101\"/>\n     <use x=\"1192.378906\" xlink:href=\"#DejaVuSans-114\"/>\n     <use x=\"1231.742188\" xlink:href=\"#DejaVuSans-114\"/>\n     <use x=\"1270.605469\" xlink:href=\"#DejaVuSans-111\"/>\n     <use x=\"1331.787109\" xlink:href=\"#DejaVuSans-114\"/>\n    </g>\n   </g>\n   <g id=\"legend_1\">\n    <g id=\"patch_7\">\n     <path d=\"M 50.78125 59.674375 \nL 106.05625 59.674375 \nQ 108.05625 59.674375 108.05625 57.674375 \nL 108.05625 29.318125 \nQ 108.05625 27.318125 106.05625 27.318125 \nL 50.78125 27.318125 \nQ 48.78125 27.318125 48.78125 29.318125 \nL 48.78125 57.674375 \nQ 48.78125 59.674375 50.78125 59.674375 \nz\n\" style=\"fill:#ffffff;opacity:0.8;stroke:#cccccc;stroke-linejoin:miter;\"/>\n    </g>\n    <g id=\"line2d_33\">\n     <path d=\"M 52.78125 35.416562 \nL 72.78125 35.416562 \n\" style=\"fill:none;stroke:#1f77b4;stroke-linecap:square;stroke-width:1.5;\"/>\n    </g>\n    <g id=\"line2d_34\"/>\n    <g id=\"text_16\">\n     <!-- train -->\n     <g transform=\"translate(80.78125 38.916562)scale(0.1 -0.1)\">\n      <defs>\n       <path d=\"M 18.3125 70.21875 \nL 18.3125 54.6875 \nL 36.8125 54.6875 \nL 36.8125 47.703125 \nL 18.3125 47.703125 \nL 18.3125 18.015625 \nQ 18.3125 11.328125 20.140625 9.421875 \nQ 21.96875 7.515625 27.59375 7.515625 \nL 36.8125 7.515625 \nL 36.8125 0 \nL 27.59375 0 \nQ 17.1875 0 13.234375 3.875 \nQ 9.28125 7.765625 9.28125 18.015625 \nL 9.28125 47.703125 \nL 2.6875 47.703125 \nL 2.6875 54.6875 \nL 9.28125 54.6875 \nL 9.28125 70.21875 \nz\n\" id=\"DejaVuSans-116\"/>\n       <path d=\"M 9.421875 54.6875 \nL 18.40625 54.6875 \nL 18.40625 0 \nL 9.421875 0 \nz\nM 9.421875 75.984375 \nL 18.40625 75.984375 \nL 18.40625 64.59375 \nL 9.421875 64.59375 \nz\n\" id=\"DejaVuSans-105\"/>\n      </defs>\n      <use xlink:href=\"#DejaVuSans-116\"/>\n      <use x=\"39.208984\" xlink:href=\"#DejaVuSans-114\"/>\n      <use x=\"80.322266\" xlink:href=\"#DejaVuSans-97\"/>\n      <use x=\"141.601562\" xlink:href=\"#DejaVuSans-105\"/>\n      <use x=\"169.384766\" xlink:href=\"#DejaVuSans-110\"/>\n     </g>\n    </g>\n    <g id=\"line2d_35\">\n     <path d=\"M 52.78125 50.094687 \nL 72.78125 50.094687 \n\" style=\"fill:none;stroke:#ff7f0e;stroke-linecap:square;stroke-width:1.5;\"/>\n    </g>\n    <g id=\"line2d_36\"/>\n    <g id=\"text_17\">\n     <!-- val -->\n     <g transform=\"translate(80.78125 53.594687)scale(0.1 -0.1)\">\n      <defs>\n       <path d=\"M 2.984375 54.6875 \nL 12.5 54.6875 \nL 29.59375 8.796875 \nL 46.6875 54.6875 \nL 56.203125 54.6875 \nL 35.6875 0 \nL 23.484375 0 \nz\n\" id=\"DejaVuSans-118\"/>\n      </defs>\n      <use xlink:href=\"#DejaVuSans-118\"/>\n      <use x=\"59.179688\" xlink:href=\"#DejaVuSans-97\"/>\n      <use x=\"120.458984\" xlink:href=\"#DejaVuSans-108\"/>\n     </g>\n    </g>\n   </g>\n  </g>\n </g>\n <defs>\n  <clipPath id=\"p481647bdc5\">\n   <rect height=\"217.44\" width=\"334.8\" x=\"43.78125\" y=\"22.318125\"/>\n  </clipPath>\n </defs>\n</svg>\n",
            "image/png": "[encoded data removed]"
          },
          "metadata": {
            "needs_background": "light"
          }
        }
      ]
    },
    {
      "cell_type": "code",
      "metadata": {
        "id": "j4wSFPMHSq9i"
      },
      "source": [
        "for i,history in enumerate(hists.values()):\n",
        "  plt.plot(history.history['binary_accuracy'], c='tab:blue')\n",
        "  plt.plot(history.history['val_binary_accuracy'], c='tab:orange')\n",
        "  \n",
        "plt.title('model binary_accuracy')\n",
        "plt.ylabel('MSE')\n",
        "plt.xlabel('epoch')\n",
        "plt.legend(['train', 'val'], loc='upper left')\n",
        "plt.show()"
      ],
      "execution_count": 13,
      "outputs": [
        {
          "output_type": "display_data",
          "data": {
            "text/plain": "<Figure size 432x288 with 1 Axes>",
            "image/svg+xml": "<?xml version=\"1.0\" encoding=\"utf-8\" standalone=\"no\"?>\n<!DOCTYPE svg PUBLIC \"-//W3C//DTD SVG 1.1//EN\"\n  \"http://www.w3.org/Graphics/SVG/1.1/DTD/svg11.dtd\">\n<!-- Created with matplotlib (https://matplotlib.org/) -->\n<svg height=\"277.314375pt\" version=\"1.1\" viewBox=\"0 0 385.78125 277.314375\" width=\"385.78125pt\" xmlns=\"http://www.w3.org/2000/svg\" xmlns:xlink=\"http://www.w3.org/1999/xlink\">\n <metadata>\n  <rdf:RDF xmlns:cc=\"http://creativecommons.org/ns#\" xmlns:dc=\"http://purl.org/dc/elements/1.1/\" xmlns:rdf=\"http://www.w3.org/1999/02/22-rdf-syntax-ns#\">\n   <cc:Work>\n    <dc:type rdf:resource=\"http://purl.org/dc/dcmitype/StillImage\"/>\n    <dc:date>2020-12-18T15:10:41.159766</dc:date>\n    <dc:format>image/svg+xml</dc:format>\n    <dc:creator>\n     <cc:Agent>\n      <dc:title>Matplotlib v3.3.3, https://matplotlib.org/</dc:title>\n     </cc:Agent>\n    </dc:creator>\n   </cc:Work>\n  </rdf:RDF>\n </metadata>\n <defs>\n  <style type=\"text/css\">*{stroke-linecap:butt;stroke-linejoin:round;}</style>\n </defs>\n <g id=\"figure_1\">\n  <g id=\"patch_1\">\n   <path d=\"M 0 277.314375 \nL 385.78125 277.314375 \nL 385.78125 0 \nL 0 0 \nz\n\" style=\"fill:none;\"/>\n  </g>\n  <g id=\"axes_1\">\n   <g id=\"patch_2\">\n    <path d=\"M 43.78125 239.758125 \nL 378.58125 239.758125 \nL 378.58125 22.318125 \nL 43.78125 22.318125 \nz\n\" style=\"fill:#ffffff;\"/>\n   </g>\n   <g id=\"matplotlib.axis_1\">\n    <g id=\"xtick_1\">\n     <g id=\"line2d_1\">\n      <defs>\n       <path d=\"M 0 0 \nL 0 3.5 \n\" id=\"m0a49c1cdcb\" style=\"stroke:#000000;stroke-width:0.8;\"/>\n      </defs>\n      <g>\n       <use style=\"stroke:#000000;stroke-width:0.8;\" x=\"58.999432\" xlink:href=\"#m0a49c1cdcb\" y=\"239.758125\"/>\n      </g>\n     </g>\n     <g id=\"text_1\">\n      <!-- 0 -->\n      <g transform=\"translate(55.818182 254.356562)scale(0.1 -0.1)\">\n       <defs>\n        <path d=\"M 31.78125 66.40625 \nQ 24.171875 66.40625 20.328125 58.90625 \nQ 16.5 51.421875 16.5 36.375 \nQ 16.5 21.390625 20.328125 13.890625 \nQ 24.171875 6.390625 31.78125 6.390625 \nQ 39.453125 6.390625 43.28125 13.890625 \nQ 47.125 21.390625 47.125 36.375 \nQ 47.125 51.421875 43.28125 58.90625 \nQ 39.453125 66.40625 31.78125 66.40625 \nz\nM 31.78125 74.21875 \nQ 44.046875 74.21875 50.515625 64.515625 \nQ 56.984375 54.828125 56.984375 36.375 \nQ 56.984375 17.96875 50.515625 8.265625 \nQ 44.046875 -1.421875 31.78125 -1.421875 \nQ 19.53125 -1.421875 13.0625 8.265625 \nQ 6.59375 17.96875 6.59375 36.375 \nQ 6.59375 54.828125 13.0625 64.515625 \nQ 19.53125 74.21875 31.78125 74.21875 \nz\n\" id=\"DejaVuSans-48\"/>\n       </defs>\n       <use xlink:href=\"#DejaVuSans-48\"/>\n      </g>\n     </g>\n    </g>\n    <g id=\"xtick_2\">\n     <g id=\"line2d_2\">\n      <g>\n       <use style=\"stroke:#000000;stroke-width:0.8;\" x=\"119.994149\" xlink:href=\"#m0a49c1cdcb\" y=\"239.758125\"/>\n      </g>\n     </g>\n     <g id=\"text_2\">\n      <!-- 100 -->\n      <g transform=\"translate(110.450399 254.356562)scale(0.1 -0.1)\">\n       <defs>\n        <path d=\"M 12.40625 8.296875 \nL 28.515625 8.296875 \nL 28.515625 63.921875 \nL 10.984375 60.40625 \nL 10.984375 69.390625 \nL 28.421875 72.90625 \nL 38.28125 72.90625 \nL 38.28125 8.296875 \nL 54.390625 8.296875 \nL 54.390625 0 \nL 12.40625 0 \nz\n\" id=\"DejaVuSans-49\"/>\n       </defs>\n       <use xlink:href=\"#DejaVuSans-49\"/>\n       <use x=\"63.623047\" xlink:href=\"#DejaVuSans-48\"/>\n       <use x=\"127.246094\" xlink:href=\"#DejaVuSans-48\"/>\n      </g>\n     </g>\n    </g>\n    <g id=\"xtick_3\">\n     <g id=\"line2d_3\">\n      <g>\n       <use style=\"stroke:#000000;stroke-width:0.8;\" x=\"180.988865\" xlink:href=\"#m0a49c1cdcb\" y=\"239.758125\"/>\n      </g>\n     </g>\n     <g id=\"text_3\">\n      <!-- 200 -->\n      <g transform=\"translate(171.445115 254.356562)scale(0.1 -0.1)\">\n       <defs>\n        <path d=\"M 19.1875 8.296875 \nL 53.609375 8.296875 \nL 53.609375 0 \nL 7.328125 0 \nL 7.328125 8.296875 \nQ 12.9375 14.109375 22.625 23.890625 \nQ 32.328125 33.6875 34.8125 36.53125 \nQ 39.546875 41.84375 41.421875 45.53125 \nQ 43.3125 49.21875 43.3125 52.78125 \nQ 43.3125 58.59375 39.234375 62.25 \nQ 35.15625 65.921875 28.609375 65.921875 \nQ 23.96875 65.921875 18.8125 64.3125 \nQ 13.671875 62.703125 7.8125 59.421875 \nL 7.8125 69.390625 \nQ 13.765625 71.78125 18.9375 73 \nQ 24.125 74.21875 28.421875 74.21875 \nQ 39.75 74.21875 46.484375 68.546875 \nQ 53.21875 62.890625 53.21875 53.421875 \nQ 53.21875 48.921875 51.53125 44.890625 \nQ 49.859375 40.875 45.40625 35.40625 \nQ 44.1875 33.984375 37.640625 27.21875 \nQ 31.109375 20.453125 19.1875 8.296875 \nz\n\" id=\"DejaVuSans-50\"/>\n       </defs>\n       <use xlink:href=\"#DejaVuSans-50\"/>\n       <use x=\"63.623047\" xlink:href=\"#DejaVuSans-48\"/>\n       <use x=\"127.246094\" xlink:href=\"#DejaVuSans-48\"/>\n      </g>\n     </g>\n    </g>\n    <g id=\"xtick_4\">\n     <g id=\"line2d_4\">\n      <g>\n       <use style=\"stroke:#000000;stroke-width:0.8;\" x=\"241.983582\" xlink:href=\"#m0a49c1cdcb\" y=\"239.758125\"/>\n      </g>\n     </g>\n     <g id=\"text_4\">\n      <!-- 300 -->\n      <g transform=\"translate(232.439832 254.356562)scale(0.1 -0.1)\">\n       <defs>\n        <path d=\"M 40.578125 39.3125 \nQ 47.65625 37.796875 51.625 33 \nQ 55.609375 28.21875 55.609375 21.1875 \nQ 55.609375 10.40625 48.1875 4.484375 \nQ 40.765625 -1.421875 27.09375 -1.421875 \nQ 22.515625 -1.421875 17.65625 -0.515625 \nQ 12.796875 0.390625 7.625 2.203125 \nL 7.625 11.71875 \nQ 11.71875 9.328125 16.59375 8.109375 \nQ 21.484375 6.890625 26.8125 6.890625 \nQ 36.078125 6.890625 40.9375 10.546875 \nQ 45.796875 14.203125 45.796875 21.1875 \nQ 45.796875 27.640625 41.28125 31.265625 \nQ 36.765625 34.90625 28.71875 34.90625 \nL 20.21875 34.90625 \nL 20.21875 43.015625 \nL 29.109375 43.015625 \nQ 36.375 43.015625 40.234375 45.921875 \nQ 44.09375 48.828125 44.09375 54.296875 \nQ 44.09375 59.90625 40.109375 62.90625 \nQ 36.140625 65.921875 28.71875 65.921875 \nQ 24.65625 65.921875 20.015625 65.03125 \nQ 15.375 64.15625 9.8125 62.3125 \nL 9.8125 71.09375 \nQ 15.4375 72.65625 20.34375 73.4375 \nQ 25.25 74.21875 29.59375 74.21875 \nQ 40.828125 74.21875 47.359375 69.109375 \nQ 53.90625 64.015625 53.90625 55.328125 \nQ 53.90625 49.265625 50.4375 45.09375 \nQ 46.96875 40.921875 40.578125 39.3125 \nz\n\" id=\"DejaVuSans-51\"/>\n       </defs>\n       <use xlink:href=\"#DejaVuSans-51\"/>\n       <use x=\"63.623047\" xlink:href=\"#DejaVuSans-48\"/>\n       <use x=\"127.246094\" xlink:href=\"#DejaVuSans-48\"/>\n      </g>\n     </g>\n    </g>\n    <g id=\"xtick_5\">\n     <g id=\"line2d_5\">\n      <g>\n       <use style=\"stroke:#000000;stroke-width:0.8;\" x=\"302.978299\" xlink:href=\"#m0a49c1cdcb\" y=\"239.758125\"/>\n      </g>\n     </g>\n     <g id=\"text_5\">\n      <!-- 400 -->\n      <g transform=\"translate(293.434549 254.356562)scale(0.1 -0.1)\">\n       <defs>\n        <path d=\"M 37.796875 64.3125 \nL 12.890625 25.390625 \nL 37.796875 25.390625 \nz\nM 35.203125 72.90625 \nL 47.609375 72.90625 \nL 47.609375 25.390625 \nL 58.015625 25.390625 \nL 58.015625 17.1875 \nL 47.609375 17.1875 \nL 47.609375 0 \nL 37.796875 0 \nL 37.796875 17.1875 \nL 4.890625 17.1875 \nL 4.890625 26.703125 \nz\n\" id=\"DejaVuSans-52\"/>\n       </defs>\n       <use xlink:href=\"#DejaVuSans-52\"/>\n       <use x=\"63.623047\" xlink:href=\"#DejaVuSans-48\"/>\n       <use x=\"127.246094\" xlink:href=\"#DejaVuSans-48\"/>\n      </g>\n     </g>\n    </g>\n    <g id=\"xtick_6\">\n     <g id=\"line2d_6\">\n      <g>\n       <use style=\"stroke:#000000;stroke-width:0.8;\" x=\"363.973015\" xlink:href=\"#m0a49c1cdcb\" y=\"239.758125\"/>\n      </g>\n     </g>\n     <g id=\"text_6\">\n      <!-- 500 -->\n      <g transform=\"translate(354.429265 254.356562)scale(0.1 -0.1)\">\n       <defs>\n        <path d=\"M 10.796875 72.90625 \nL 49.515625 72.90625 \nL 49.515625 64.59375 \nL 19.828125 64.59375 \nL 19.828125 46.734375 \nQ 21.96875 47.46875 24.109375 47.828125 \nQ 26.265625 48.1875 28.421875 48.1875 \nQ 40.625 48.1875 47.75 41.5 \nQ 54.890625 34.8125 54.890625 23.390625 \nQ 54.890625 11.625 47.5625 5.09375 \nQ 40.234375 -1.421875 26.90625 -1.421875 \nQ 22.3125 -1.421875 17.546875 -0.640625 \nQ 12.796875 0.140625 7.71875 1.703125 \nL 7.71875 11.625 \nQ 12.109375 9.234375 16.796875 8.0625 \nQ 21.484375 6.890625 26.703125 6.890625 \nQ 35.15625 6.890625 40.078125 11.328125 \nQ 45.015625 15.765625 45.015625 23.390625 \nQ 45.015625 31 40.078125 35.4375 \nQ 35.15625 39.890625 26.703125 39.890625 \nQ 22.75 39.890625 18.8125 39.015625 \nQ 14.890625 38.140625 10.796875 36.28125 \nz\n\" id=\"DejaVuSans-53\"/>\n       </defs>\n       <use xlink:href=\"#DejaVuSans-53\"/>\n       <use x=\"63.623047\" xlink:href=\"#DejaVuSans-48\"/>\n       <use x=\"127.246094\" xlink:href=\"#DejaVuSans-48\"/>\n      </g>\n     </g>\n    </g>\n    <g id=\"text_7\">\n     <!-- epoch -->\n     <g transform=\"translate(195.953125 268.034687)scale(0.1 -0.1)\">\n      <defs>\n       <path d=\"M 56.203125 29.59375 \nL 56.203125 25.203125 \nL 14.890625 25.203125 \nQ 15.484375 15.921875 20.484375 11.0625 \nQ 25.484375 6.203125 34.421875 6.203125 \nQ 39.59375 6.203125 44.453125 7.46875 \nQ 49.3125 8.734375 54.109375 11.28125 \nL 54.109375 2.78125 \nQ 49.265625 0.734375 44.1875 -0.34375 \nQ 39.109375 -1.421875 33.890625 -1.421875 \nQ 20.796875 -1.421875 13.15625 6.1875 \nQ 5.515625 13.8125 5.515625 26.8125 \nQ 5.515625 40.234375 12.765625 48.109375 \nQ 20.015625 56 32.328125 56 \nQ 43.359375 56 49.78125 48.890625 \nQ 56.203125 41.796875 56.203125 29.59375 \nz\nM 47.21875 32.234375 \nQ 47.125 39.59375 43.09375 43.984375 \nQ 39.0625 48.390625 32.421875 48.390625 \nQ 24.90625 48.390625 20.390625 44.140625 \nQ 15.875 39.890625 15.1875 32.171875 \nz\n\" id=\"DejaVuSans-101\"/>\n       <path d=\"M 18.109375 8.203125 \nL 18.109375 -20.796875 \nL 9.078125 -20.796875 \nL 9.078125 54.6875 \nL 18.109375 54.6875 \nL 18.109375 46.390625 \nQ 20.953125 51.265625 25.265625 53.625 \nQ 29.59375 56 35.59375 56 \nQ 45.5625 56 51.78125 48.09375 \nQ 58.015625 40.1875 58.015625 27.296875 \nQ 58.015625 14.40625 51.78125 6.484375 \nQ 45.5625 -1.421875 35.59375 -1.421875 \nQ 29.59375 -1.421875 25.265625 0.953125 \nQ 20.953125 3.328125 18.109375 8.203125 \nz\nM 48.6875 27.296875 \nQ 48.6875 37.203125 44.609375 42.84375 \nQ 40.53125 48.484375 33.40625 48.484375 \nQ 26.265625 48.484375 22.1875 42.84375 \nQ 18.109375 37.203125 18.109375 27.296875 \nQ 18.109375 17.390625 22.1875 11.75 \nQ 26.265625 6.109375 33.40625 6.109375 \nQ 40.53125 6.109375 44.609375 11.75 \nQ 48.6875 17.390625 48.6875 27.296875 \nz\n\" id=\"DejaVuSans-112\"/>\n       <path d=\"M 30.609375 48.390625 \nQ 23.390625 48.390625 19.1875 42.75 \nQ 14.984375 37.109375 14.984375 27.296875 \nQ 14.984375 17.484375 19.15625 11.84375 \nQ 23.34375 6.203125 30.609375 6.203125 \nQ 37.796875 6.203125 41.984375 11.859375 \nQ 46.1875 17.53125 46.1875 27.296875 \nQ 46.1875 37.015625 41.984375 42.703125 \nQ 37.796875 48.390625 30.609375 48.390625 \nz\nM 30.609375 56 \nQ 42.328125 56 49.015625 48.375 \nQ 55.71875 40.765625 55.71875 27.296875 \nQ 55.71875 13.875 49.015625 6.21875 \nQ 42.328125 -1.421875 30.609375 -1.421875 \nQ 18.84375 -1.421875 12.171875 6.21875 \nQ 5.515625 13.875 5.515625 27.296875 \nQ 5.515625 40.765625 12.171875 48.375 \nQ 18.84375 56 30.609375 56 \nz\n\" id=\"DejaVuSans-111\"/>\n       <path d=\"M 48.78125 52.59375 \nL 48.78125 44.1875 \nQ 44.96875 46.296875 41.140625 47.34375 \nQ 37.3125 48.390625 33.40625 48.390625 \nQ 24.65625 48.390625 19.8125 42.84375 \nQ 14.984375 37.3125 14.984375 27.296875 \nQ 14.984375 17.28125 19.8125 11.734375 \nQ 24.65625 6.203125 33.40625 6.203125 \nQ 37.3125 6.203125 41.140625 7.25 \nQ 44.96875 8.296875 48.78125 10.40625 \nL 48.78125 2.09375 \nQ 45.015625 0.34375 40.984375 -0.53125 \nQ 36.96875 -1.421875 32.421875 -1.421875 \nQ 20.0625 -1.421875 12.78125 6.34375 \nQ 5.515625 14.109375 5.515625 27.296875 \nQ 5.515625 40.671875 12.859375 48.328125 \nQ 20.21875 56 33.015625 56 \nQ 37.15625 56 41.109375 55.140625 \nQ 45.0625 54.296875 48.78125 52.59375 \nz\n\" id=\"DejaVuSans-99\"/>\n       <path d=\"M 54.890625 33.015625 \nL 54.890625 0 \nL 45.90625 0 \nL 45.90625 32.71875 \nQ 45.90625 40.484375 42.875 44.328125 \nQ 39.84375 48.1875 33.796875 48.1875 \nQ 26.515625 48.1875 22.3125 43.546875 \nQ 18.109375 38.921875 18.109375 30.90625 \nL 18.109375 0 \nL 9.078125 0 \nL 9.078125 75.984375 \nL 18.109375 75.984375 \nL 18.109375 46.1875 \nQ 21.34375 51.125 25.703125 53.5625 \nQ 30.078125 56 35.796875 56 \nQ 45.21875 56 50.046875 50.171875 \nQ 54.890625 44.34375 54.890625 33.015625 \nz\n\" id=\"DejaVuSans-104\"/>\n      </defs>\n      <use xlink:href=\"#DejaVuSans-101\"/>\n      <use x=\"61.523438\" xlink:href=\"#DejaVuSans-112\"/>\n      <use x=\"125\" xlink:href=\"#DejaVuSans-111\"/>\n      <use x=\"186.181641\" xlink:href=\"#DejaVuSans-99\"/>\n      <use x=\"241.162109\" xlink:href=\"#DejaVuSans-104\"/>\n     </g>\n    </g>\n   </g>\n   <g id=\"matplotlib.axis_2\">\n    <g id=\"ytick_1\">\n     <g id=\"line2d_7\">\n      <defs>\n       <path d=\"M 0 0 \nL -3.5 0 \n\" id=\"m16436f7a0d\" style=\"stroke:#000000;stroke-width:0.8;\"/>\n      </defs>\n      <g>\n       <use style=\"stroke:#000000;stroke-width:0.8;\" x=\"43.78125\" xlink:href=\"#m16436f7a0d\" y=\"229.874489\"/>\n      </g>\n     </g>\n     <g id=\"text_8\">\n      <!-- 0.0 -->\n      <g transform=\"translate(20.878125 233.673707)scale(0.1 -0.1)\">\n       <defs>\n        <path d=\"M 10.6875 12.40625 \nL 21 12.40625 \nL 21 0 \nL 10.6875 0 \nz\n\" id=\"DejaVuSans-46\"/>\n       </defs>\n       <use xlink:href=\"#DejaVuSans-48\"/>\n       <use x=\"63.623047\" xlink:href=\"#DejaVuSans-46\"/>\n       <use x=\"95.410156\" xlink:href=\"#DejaVuSans-48\"/>\n      </g>\n     </g>\n    </g>\n    <g id=\"ytick_2\">\n     <g id=\"line2d_8\">\n      <g>\n       <use style=\"stroke:#000000;stroke-width:0.8;\" x=\"43.78125\" xlink:href=\"#m16436f7a0d\" y=\"190.339943\"/>\n      </g>\n     </g>\n     <g id=\"text_9\">\n      <!-- 0.2 -->\n      <g transform=\"translate(20.878125 194.139162)scale(0.1 -0.1)\">\n       <use xlink:href=\"#DejaVuSans-48\"/>\n       <use x=\"63.623047\" xlink:href=\"#DejaVuSans-46\"/>\n       <use x=\"95.410156\" xlink:href=\"#DejaVuSans-50\"/>\n      </g>\n     </g>\n    </g>\n    <g id=\"ytick_3\">\n     <g id=\"line2d_9\">\n      <g>\n       <use style=\"stroke:#000000;stroke-width:0.8;\" x=\"43.78125\" xlink:href=\"#m16436f7a0d\" y=\"150.805398\"/>\n      </g>\n     </g>\n     <g id=\"text_10\">\n      <!-- 0.4 -->\n      <g transform=\"translate(20.878125 154.604616)scale(0.1 -0.1)\">\n       <use xlink:href=\"#DejaVuSans-48\"/>\n       <use x=\"63.623047\" xlink:href=\"#DejaVuSans-46\"/>\n       <use x=\"95.410156\" xlink:href=\"#DejaVuSans-52\"/>\n      </g>\n     </g>\n    </g>\n    <g id=\"ytick_4\">\n     <g id=\"line2d_10\">\n      <g>\n       <use style=\"stroke:#000000;stroke-width:0.8;\" x=\"43.78125\" xlink:href=\"#m16436f7a0d\" y=\"111.270852\"/>\n      </g>\n     </g>\n     <g id=\"text_11\">\n      <!-- 0.6 -->\n      <g transform=\"translate(20.878125 115.070071)scale(0.1 -0.1)\">\n       <defs>\n        <path d=\"M 33.015625 40.375 \nQ 26.375 40.375 22.484375 35.828125 \nQ 18.609375 31.296875 18.609375 23.390625 \nQ 18.609375 15.53125 22.484375 10.953125 \nQ 26.375 6.390625 33.015625 6.390625 \nQ 39.65625 6.390625 43.53125 10.953125 \nQ 47.40625 15.53125 47.40625 23.390625 \nQ 47.40625 31.296875 43.53125 35.828125 \nQ 39.65625 40.375 33.015625 40.375 \nz\nM 52.59375 71.296875 \nL 52.59375 62.3125 \nQ 48.875 64.0625 45.09375 64.984375 \nQ 41.3125 65.921875 37.59375 65.921875 \nQ 27.828125 65.921875 22.671875 59.328125 \nQ 17.53125 52.734375 16.796875 39.40625 \nQ 19.671875 43.65625 24.015625 45.921875 \nQ 28.375 48.1875 33.59375 48.1875 \nQ 44.578125 48.1875 50.953125 41.515625 \nQ 57.328125 34.859375 57.328125 23.390625 \nQ 57.328125 12.15625 50.6875 5.359375 \nQ 44.046875 -1.421875 33.015625 -1.421875 \nQ 20.359375 -1.421875 13.671875 8.265625 \nQ 6.984375 17.96875 6.984375 36.375 \nQ 6.984375 53.65625 15.1875 63.9375 \nQ 23.390625 74.21875 37.203125 74.21875 \nQ 40.921875 74.21875 44.703125 73.484375 \nQ 48.484375 72.75 52.59375 71.296875 \nz\n\" id=\"DejaVuSans-54\"/>\n       </defs>\n       <use xlink:href=\"#DejaVuSans-48\"/>\n       <use x=\"63.623047\" xlink:href=\"#DejaVuSans-46\"/>\n       <use x=\"95.410156\" xlink:href=\"#DejaVuSans-54\"/>\n      </g>\n     </g>\n    </g>\n    <g id=\"ytick_5\">\n     <g id=\"line2d_11\">\n      <g>\n       <use style=\"stroke:#000000;stroke-width:0.8;\" x=\"43.78125\" xlink:href=\"#m16436f7a0d\" y=\"71.736307\"/>\n      </g>\n     </g>\n     <g id=\"text_12\">\n      <!-- 0.8 -->\n      <g transform=\"translate(20.878125 75.535526)scale(0.1 -0.1)\">\n       <defs>\n        <path d=\"M 31.78125 34.625 \nQ 24.75 34.625 20.71875 30.859375 \nQ 16.703125 27.09375 16.703125 20.515625 \nQ 16.703125 13.921875 20.71875 10.15625 \nQ 24.75 6.390625 31.78125 6.390625 \nQ 38.8125 6.390625 42.859375 10.171875 \nQ 46.921875 13.96875 46.921875 20.515625 \nQ 46.921875 27.09375 42.890625 30.859375 \nQ 38.875 34.625 31.78125 34.625 \nz\nM 21.921875 38.8125 \nQ 15.578125 40.375 12.03125 44.71875 \nQ 8.5 49.078125 8.5 55.328125 \nQ 8.5 64.0625 14.71875 69.140625 \nQ 20.953125 74.21875 31.78125 74.21875 \nQ 42.671875 74.21875 48.875 69.140625 \nQ 55.078125 64.0625 55.078125 55.328125 \nQ 55.078125 49.078125 51.53125 44.71875 \nQ 48 40.375 41.703125 38.8125 \nQ 48.828125 37.15625 52.796875 32.3125 \nQ 56.78125 27.484375 56.78125 20.515625 \nQ 56.78125 9.90625 50.3125 4.234375 \nQ 43.84375 -1.421875 31.78125 -1.421875 \nQ 19.734375 -1.421875 13.25 4.234375 \nQ 6.78125 9.90625 6.78125 20.515625 \nQ 6.78125 27.484375 10.78125 32.3125 \nQ 14.796875 37.15625 21.921875 38.8125 \nz\nM 18.3125 54.390625 \nQ 18.3125 48.734375 21.84375 45.5625 \nQ 25.390625 42.390625 31.78125 42.390625 \nQ 38.140625 42.390625 41.71875 45.5625 \nQ 45.3125 48.734375 45.3125 54.390625 \nQ 45.3125 60.0625 41.71875 63.234375 \nQ 38.140625 66.40625 31.78125 66.40625 \nQ 25.390625 66.40625 21.84375 63.234375 \nQ 18.3125 60.0625 18.3125 54.390625 \nz\n\" id=\"DejaVuSans-56\"/>\n       </defs>\n       <use xlink:href=\"#DejaVuSans-48\"/>\n       <use x=\"63.623047\" xlink:href=\"#DejaVuSans-46\"/>\n       <use x=\"95.410156\" xlink:href=\"#DejaVuSans-56\"/>\n      </g>\n     </g>\n    </g>\n    <g id=\"ytick_6\">\n     <g id=\"line2d_12\">\n      <g>\n       <use style=\"stroke:#000000;stroke-width:0.8;\" x=\"43.78125\" xlink:href=\"#m16436f7a0d\" y=\"32.201761\"/>\n      </g>\n     </g>\n     <g id=\"text_13\">\n      <!-- 1.0 -->\n      <g transform=\"translate(20.878125 36.00098)scale(0.1 -0.1)\">\n       <use xlink:href=\"#DejaVuSans-49\"/>\n       <use x=\"63.623047\" xlink:href=\"#DejaVuSans-46\"/>\n       <use x=\"95.410156\" xlink:href=\"#DejaVuSans-48\"/>\n      </g>\n     </g>\n    </g>\n    <g id=\"text_14\">\n     <!-- MSE -->\n     <g transform=\"translate(14.798438 141.685781)rotate(-90)scale(0.1 -0.1)\">\n      <defs>\n       <path d=\"M 9.8125 72.90625 \nL 24.515625 72.90625 \nL 43.109375 23.296875 \nL 61.8125 72.90625 \nL 76.515625 72.90625 \nL 76.515625 0 \nL 66.890625 0 \nL 66.890625 64.015625 \nL 48.09375 14.015625 \nL 38.1875 14.015625 \nL 19.390625 64.015625 \nL 19.390625 0 \nL 9.8125 0 \nz\n\" id=\"DejaVuSans-77\"/>\n       <path d=\"M 53.515625 70.515625 \nL 53.515625 60.890625 \nQ 47.90625 63.578125 42.921875 64.890625 \nQ 37.9375 66.21875 33.296875 66.21875 \nQ 25.25 66.21875 20.875 63.09375 \nQ 16.5 59.96875 16.5 54.203125 \nQ 16.5 49.359375 19.40625 46.890625 \nQ 22.3125 44.4375 30.421875 42.921875 \nL 36.375 41.703125 \nQ 47.40625 39.59375 52.65625 34.296875 \nQ 57.90625 29 57.90625 20.125 \nQ 57.90625 9.515625 50.796875 4.046875 \nQ 43.703125 -1.421875 29.984375 -1.421875 \nQ 24.8125 -1.421875 18.96875 -0.25 \nQ 13.140625 0.921875 6.890625 3.21875 \nL 6.890625 13.375 \nQ 12.890625 10.015625 18.65625 8.296875 \nQ 24.421875 6.59375 29.984375 6.59375 \nQ 38.421875 6.59375 43.015625 9.90625 \nQ 47.609375 13.234375 47.609375 19.390625 \nQ 47.609375 24.75 44.3125 27.78125 \nQ 41.015625 30.8125 33.5 32.328125 \nL 27.484375 33.5 \nQ 16.453125 35.6875 11.515625 40.375 \nQ 6.59375 45.0625 6.59375 53.421875 \nQ 6.59375 63.09375 13.40625 68.65625 \nQ 20.21875 74.21875 32.171875 74.21875 \nQ 37.3125 74.21875 42.625 73.28125 \nQ 47.953125 72.359375 53.515625 70.515625 \nz\n\" id=\"DejaVuSans-83\"/>\n       <path d=\"M 9.8125 72.90625 \nL 55.90625 72.90625 \nL 55.90625 64.59375 \nL 19.671875 64.59375 \nL 19.671875 43.015625 \nL 54.390625 43.015625 \nL 54.390625 34.71875 \nL 19.671875 34.71875 \nL 19.671875 8.296875 \nL 56.78125 8.296875 \nL 56.78125 0 \nL 9.8125 0 \nz\n\" id=\"DejaVuSans-69\"/>\n      </defs>\n      <use xlink:href=\"#DejaVuSans-77\"/>\n      <use x=\"86.279297\" xlink:href=\"#DejaVuSans-83\"/>\n      <use x=\"149.755859\" xlink:href=\"#DejaVuSans-69\"/>\n     </g>\n    </g>\n   </g>\n   <g id=\"line2d_13\">\n    <path clip-path=\"url(#p6c557c9140)\" d=\"M 58.999432 98.092667 \nL 85.22716 98.092667 \nL 85.837107 76.129031 \nL 96.816156 76.129031 \nL 97.426103 54.165396 \nL 213.926012 54.165396 \nL 214.535959 32.201761 \nL 363.363068 32.201761 \nL 363.363068 32.201761 \n\" style=\"fill:none;stroke:#1f77b4;stroke-linecap:square;stroke-width:1.5;\"/>\n   </g>\n   <g id=\"line2d_14\">\n    <path clip-path=\"url(#p6c557c9140)\" d=\"M 58.999432 229.874489 \nL 363.363068 229.874489 \nL 363.363068 229.874489 \n\" style=\"fill:none;stroke:#ff7f0e;stroke-linecap:square;stroke-width:1.5;\"/>\n   </g>\n   <g id=\"line2d_15\">\n    <path clip-path=\"url(#p6c557c9140)\" d=\"M 58.999432 120.056302 \nL 73.638164 120.056302 \nL 74.248111 76.129031 \nL 101.695734 76.129031 \nL 102.305681 54.165396 \nL 335.305498 54.165396 \nL 335.915446 32.201761 \nL 363.363068 32.201761 \nL 363.363068 32.201761 \n\" style=\"fill:none;stroke:#1f77b4;stroke-linecap:square;stroke-width:1.5;\"/>\n   </g>\n   <g id=\"line2d_16\">\n    <path clip-path=\"url(#p6c557c9140)\" d=\"M 58.999432 229.874489 \nL 363.363068 229.874489 \nL 363.363068 229.874489 \n\" style=\"fill:none;stroke:#ff7f0e;stroke-linecap:square;stroke-width:1.5;\"/>\n   </g>\n   <g id=\"line2d_17\">\n    <path clip-path=\"url(#p6c557c9140)\" d=\"M 58.999432 76.129031 \nL 75.468005 76.129031 \nL 76.077952 54.165396 \nL 180.988865 54.165396 \nL 181.598812 32.201761 \nL 363.363068 32.201761 \nL 363.363068 32.201761 \n\" style=\"fill:none;stroke:#1f77b4;stroke-linecap:square;stroke-width:1.5;\"/>\n   </g>\n   <g id=\"line2d_18\">\n    <path clip-path=\"url(#p6c557c9140)\" d=\"M 58.999432 32.201761 \nL 363.363068 32.201761 \nL 363.363068 32.201761 \n\" style=\"fill:none;stroke:#ff7f0e;stroke-linecap:square;stroke-width:1.5;\"/>\n   </g>\n   <g id=\"line2d_19\">\n    <path clip-path=\"url(#p6c557c9140)\" d=\"M 58.999432 142.019943 \nL 193.797756 142.019943 \nL 194.407703 120.056302 \nL 195.627597 120.056302 \nL 196.237544 98.092667 \nL 216.975748 98.092667 \nL 217.585695 76.129031 \nL 239.543793 76.129031 \nL 240.15374 54.165396 \nL 244.423371 54.165396 \nL 245.033318 32.201761 \nL 363.363068 32.201761 \nL 363.363068 32.201761 \n\" style=\"fill:none;stroke:#1f77b4;stroke-linecap:square;stroke-width:1.5;\"/>\n   </g>\n   <g id=\"line2d_20\">\n    <path clip-path=\"url(#p6c557c9140)\" d=\"M 58.999432 229.874489 \nL 244.423371 229.874489 \nL 245.033318 32.201761 \nL 363.363068 32.201761 \nL 363.363068 32.201761 \n\" style=\"fill:none;stroke:#ff7f0e;stroke-linecap:square;stroke-width:1.5;\"/>\n   </g>\n   <g id=\"line2d_21\">\n    <path clip-path=\"url(#p6c557c9140)\" d=\"M 58.999432 142.019943 \nL 61.43922 142.019943 \nL 62.049168 120.056302 \nL 116.944413 120.056302 \nL 117.55436 98.092667 \nL 157.200926 98.092667 \nL 157.810873 76.129031 \nL 163.910345 76.129031 \nL 164.520292 54.165396 \nL 187.698284 54.165396 \nL 188.308231 32.201761 \nL 363.363068 32.201761 \nL 363.363068 32.201761 \n\" style=\"fill:none;stroke:#1f77b4;stroke-linecap:square;stroke-width:1.5;\"/>\n   </g>\n   <g id=\"line2d_22\">\n    <path clip-path=\"url(#p6c557c9140)\" d=\"M 58.999432 32.201761 \nL 363.363068 32.201761 \nL 363.363068 32.201761 \n\" style=\"fill:none;stroke:#ff7f0e;stroke-linecap:square;stroke-width:1.5;\"/>\n   </g>\n   <g id=\"line2d_23\">\n    <path clip-path=\"url(#p6c557c9140)\" d=\"M 58.999432 120.056302 \nL 99.255945 120.056302 \nL 99.865892 98.092667 \nL 107.795205 98.092667 \nL 108.405152 76.129031 \nL 125.483673 76.129031 \nL 126.09362 54.165396 \nL 210.876276 54.165396 \nL 211.486224 32.201761 \nL 363.363068 32.201761 \nL 363.363068 32.201761 \n\" style=\"fill:none;stroke:#1f77b4;stroke-linecap:square;stroke-width:1.5;\"/>\n   </g>\n   <g id=\"line2d_24\">\n    <path clip-path=\"url(#p6c557c9140)\" d=\"M 58.999432 229.874489 \nL 211.486224 229.874489 \nL 212.096171 32.201761 \nL 363.363068 32.201761 \nL 363.363068 32.201761 \n\" style=\"fill:none;stroke:#ff7f0e;stroke-linecap:square;stroke-width:1.5;\"/>\n   </g>\n   <g id=\"line2d_25\">\n    <path clip-path=\"url(#p6c557c9140)\" d=\"M 58.999432 142.019943 \nL 110.234994 142.019943 \nL 110.844941 120.056302 \nL 118.774254 120.056302 \nL 119.384201 142.019943 \nL 127.313515 142.019943 \nL 127.923462 120.056302 \nL 170.619763 120.056302 \nL 171.229711 98.092667 \nL 188.308231 98.092667 \nL 188.918178 76.129031 \nL 195.01765 76.129031 \nL 195.627597 54.165396 \nL 197.457439 54.165396 \nL 198.067386 32.201761 \nL 363.363068 32.201761 \nL 363.363068 32.201761 \n\" style=\"fill:none;stroke:#1f77b4;stroke-linecap:square;stroke-width:1.5;\"/>\n   </g>\n   <g id=\"line2d_26\">\n    <path clip-path=\"url(#p6c557c9140)\" d=\"M 58.999432 32.201761 \nL 363.363068 32.201761 \nL 363.363068 32.201761 \n\" style=\"fill:none;stroke:#ff7f0e;stroke-linecap:square;stroke-width:1.5;\"/>\n   </g>\n   <g id=\"line2d_27\">\n    <path clip-path=\"url(#p6c557c9140)\" d=\"M 58.999432 120.056302 \nL 212.096171 120.056302 \nL 212.706118 98.092667 \nL 255.40242 98.092667 \nL 256.012367 76.129031 \nL 266.381469 76.129031 \nL 266.991416 54.165396 \nL 360.92328 54.165396 \nL 361.533227 32.201761 \nL 363.363068 32.201761 \nL 363.363068 32.201761 \n\" style=\"fill:none;stroke:#1f77b4;stroke-linecap:square;stroke-width:1.5;\"/>\n   </g>\n   <g id=\"line2d_28\">\n    <path clip-path=\"url(#p6c557c9140)\" d=\"M 58.999432 229.874489 \nL 363.363068 229.874489 \nL 363.363068 229.874489 \n\" style=\"fill:none;stroke:#ff7f0e;stroke-linecap:square;stroke-width:1.5;\"/>\n   </g>\n   <g id=\"line2d_29\">\n    <path clip-path=\"url(#p6c557c9140)\" d=\"M 58.999432 54.165396 \nL 60.829273 54.165396 \nL 61.43922 32.201761 \nL 363.363068 32.201761 \nL 363.363068 32.201761 \n\" style=\"fill:none;stroke:#1f77b4;stroke-linecap:square;stroke-width:1.5;\"/>\n   </g>\n   <g id=\"line2d_30\">\n    <path clip-path=\"url(#p6c557c9140)\" d=\"M 58.999432 229.874489 \nL 363.363068 229.874489 \nL 363.363068 229.874489 \n\" style=\"fill:none;stroke:#ff7f0e;stroke-linecap:square;stroke-width:1.5;\"/>\n   </g>\n   <g id=\"line2d_31\">\n    <path clip-path=\"url(#p6c557c9140)\" d=\"M 58.999432 142.019943 \nL 113.894677 142.019943 \nL 114.504624 120.056302 \nL 121.82399 120.056302 \nL 122.433937 98.092667 \nL 168.179975 98.092667 \nL 168.789922 76.129031 \nL 196.847492 76.129031 \nL 197.457439 54.165396 \nL 205.996699 54.165396 \nL 206.606646 32.201761 \nL 363.363068 32.201761 \nL 363.363068 32.201761 \n\" style=\"fill:none;stroke:#1f77b4;stroke-linecap:square;stroke-width:1.5;\"/>\n   </g>\n   <g id=\"line2d_32\">\n    <path clip-path=\"url(#p6c557c9140)\" d=\"M 58.999432 32.201761 \nL 363.363068 32.201761 \nL 363.363068 32.201761 \n\" style=\"fill:none;stroke:#ff7f0e;stroke-linecap:square;stroke-width:1.5;\"/>\n   </g>\n   <g id=\"patch_3\">\n    <path d=\"M 43.78125 239.758125 \nL 43.78125 22.318125 \n\" style=\"fill:none;stroke:#000000;stroke-linecap:square;stroke-linejoin:miter;stroke-width:0.8;\"/>\n   </g>\n   <g id=\"patch_4\">\n    <path d=\"M 378.58125 239.758125 \nL 378.58125 22.318125 \n\" style=\"fill:none;stroke:#000000;stroke-linecap:square;stroke-linejoin:miter;stroke-width:0.8;\"/>\n   </g>\n   <g id=\"patch_5\">\n    <path d=\"M 43.78125 239.758125 \nL 378.58125 239.758125 \n\" style=\"fill:none;stroke:#000000;stroke-linecap:square;stroke-linejoin:miter;stroke-width:0.8;\"/>\n   </g>\n   <g id=\"patch_6\">\n    <path d=\"M 43.78125 22.318125 \nL 378.58125 22.318125 \n\" style=\"fill:none;stroke:#000000;stroke-linecap:square;stroke-linejoin:miter;stroke-width:0.8;\"/>\n   </g>\n   <g id=\"text_15\">\n    <!-- model binary_accuracy -->\n    <g transform=\"translate(141.546562 16.318125)scale(0.12 -0.12)\">\n     <defs>\n      <path d=\"M 52 44.1875 \nQ 55.375 50.25 60.0625 53.125 \nQ 64.75 56 71.09375 56 \nQ 79.640625 56 84.28125 50.015625 \nQ 88.921875 44.046875 88.921875 33.015625 \nL 88.921875 0 \nL 79.890625 0 \nL 79.890625 32.71875 \nQ 79.890625 40.578125 77.09375 44.375 \nQ 74.3125 48.1875 68.609375 48.1875 \nQ 61.625 48.1875 57.5625 43.546875 \nQ 53.515625 38.921875 53.515625 30.90625 \nL 53.515625 0 \nL 44.484375 0 \nL 44.484375 32.71875 \nQ 44.484375 40.625 41.703125 44.40625 \nQ 38.921875 48.1875 33.109375 48.1875 \nQ 26.21875 48.1875 22.15625 43.53125 \nQ 18.109375 38.875 18.109375 30.90625 \nL 18.109375 0 \nL 9.078125 0 \nL 9.078125 54.6875 \nL 18.109375 54.6875 \nL 18.109375 46.1875 \nQ 21.1875 51.21875 25.484375 53.609375 \nQ 29.78125 56 35.6875 56 \nQ 41.65625 56 45.828125 52.96875 \nQ 50 49.953125 52 44.1875 \nz\n\" id=\"DejaVuSans-109\"/>\n      <path d=\"M 45.40625 46.390625 \nL 45.40625 75.984375 \nL 54.390625 75.984375 \nL 54.390625 0 \nL 45.40625 0 \nL 45.40625 8.203125 \nQ 42.578125 3.328125 38.25 0.953125 \nQ 33.9375 -1.421875 27.875 -1.421875 \nQ 17.96875 -1.421875 11.734375 6.484375 \nQ 5.515625 14.40625 5.515625 27.296875 \nQ 5.515625 40.1875 11.734375 48.09375 \nQ 17.96875 56 27.875 56 \nQ 33.9375 56 38.25 53.625 \nQ 42.578125 51.265625 45.40625 46.390625 \nz\nM 14.796875 27.296875 \nQ 14.796875 17.390625 18.875 11.75 \nQ 22.953125 6.109375 30.078125 6.109375 \nQ 37.203125 6.109375 41.296875 11.75 \nQ 45.40625 17.390625 45.40625 27.296875 \nQ 45.40625 37.203125 41.296875 42.84375 \nQ 37.203125 48.484375 30.078125 48.484375 \nQ 22.953125 48.484375 18.875 42.84375 \nQ 14.796875 37.203125 14.796875 27.296875 \nz\n\" id=\"DejaVuSans-100\"/>\n      <path d=\"M 9.421875 75.984375 \nL 18.40625 75.984375 \nL 18.40625 0 \nL 9.421875 0 \nz\n\" id=\"DejaVuSans-108\"/>\n      <path id=\"DejaVuSans-32\"/>\n      <path d=\"M 48.6875 27.296875 \nQ 48.6875 37.203125 44.609375 42.84375 \nQ 40.53125 48.484375 33.40625 48.484375 \nQ 26.265625 48.484375 22.1875 42.84375 \nQ 18.109375 37.203125 18.109375 27.296875 \nQ 18.109375 17.390625 22.1875 11.75 \nQ 26.265625 6.109375 33.40625 6.109375 \nQ 40.53125 6.109375 44.609375 11.75 \nQ 48.6875 17.390625 48.6875 27.296875 \nz\nM 18.109375 46.390625 \nQ 20.953125 51.265625 25.265625 53.625 \nQ 29.59375 56 35.59375 56 \nQ 45.5625 56 51.78125 48.09375 \nQ 58.015625 40.1875 58.015625 27.296875 \nQ 58.015625 14.40625 51.78125 6.484375 \nQ 45.5625 -1.421875 35.59375 -1.421875 \nQ 29.59375 -1.421875 25.265625 0.953125 \nQ 20.953125 3.328125 18.109375 8.203125 \nL 18.109375 0 \nL 9.078125 0 \nL 9.078125 75.984375 \nL 18.109375 75.984375 \nz\n\" id=\"DejaVuSans-98\"/>\n      <path d=\"M 9.421875 54.6875 \nL 18.40625 54.6875 \nL 18.40625 0 \nL 9.421875 0 \nz\nM 9.421875 75.984375 \nL 18.40625 75.984375 \nL 18.40625 64.59375 \nL 9.421875 64.59375 \nz\n\" id=\"DejaVuSans-105\"/>\n      <path d=\"M 54.890625 33.015625 \nL 54.890625 0 \nL 45.90625 0 \nL 45.90625 32.71875 \nQ 45.90625 40.484375 42.875 44.328125 \nQ 39.84375 48.1875 33.796875 48.1875 \nQ 26.515625 48.1875 22.3125 43.546875 \nQ 18.109375 38.921875 18.109375 30.90625 \nL 18.109375 0 \nL 9.078125 0 \nL 9.078125 54.6875 \nL 18.109375 54.6875 \nL 18.109375 46.1875 \nQ 21.34375 51.125 25.703125 53.5625 \nQ 30.078125 56 35.796875 56 \nQ 45.21875 56 50.046875 50.171875 \nQ 54.890625 44.34375 54.890625 33.015625 \nz\n\" id=\"DejaVuSans-110\"/>\n      <path d=\"M 34.28125 27.484375 \nQ 23.390625 27.484375 19.1875 25 \nQ 14.984375 22.515625 14.984375 16.5 \nQ 14.984375 11.71875 18.140625 8.90625 \nQ 21.296875 6.109375 26.703125 6.109375 \nQ 34.1875 6.109375 38.703125 11.40625 \nQ 43.21875 16.703125 43.21875 25.484375 \nL 43.21875 27.484375 \nz\nM 52.203125 31.203125 \nL 52.203125 0 \nL 43.21875 0 \nL 43.21875 8.296875 \nQ 40.140625 3.328125 35.546875 0.953125 \nQ 30.953125 -1.421875 24.3125 -1.421875 \nQ 15.921875 -1.421875 10.953125 3.296875 \nQ 6 8.015625 6 15.921875 \nQ 6 25.140625 12.171875 29.828125 \nQ 18.359375 34.515625 30.609375 34.515625 \nL 43.21875 34.515625 \nL 43.21875 35.40625 \nQ 43.21875 41.609375 39.140625 45 \nQ 35.0625 48.390625 27.6875 48.390625 \nQ 23 48.390625 18.546875 47.265625 \nQ 14.109375 46.140625 10.015625 43.890625 \nL 10.015625 52.203125 \nQ 14.9375 54.109375 19.578125 55.046875 \nQ 24.21875 56 28.609375 56 \nQ 40.484375 56 46.34375 49.84375 \nQ 52.203125 43.703125 52.203125 31.203125 \nz\n\" id=\"DejaVuSans-97\"/>\n      <path d=\"M 41.109375 46.296875 \nQ 39.59375 47.171875 37.8125 47.578125 \nQ 36.03125 48 33.890625 48 \nQ 26.265625 48 22.1875 43.046875 \nQ 18.109375 38.09375 18.109375 28.8125 \nL 18.109375 0 \nL 9.078125 0 \nL 9.078125 54.6875 \nL 18.109375 54.6875 \nL 18.109375 46.1875 \nQ 20.953125 51.171875 25.484375 53.578125 \nQ 30.03125 56 36.53125 56 \nQ 37.453125 56 38.578125 55.875 \nQ 39.703125 55.765625 41.0625 55.515625 \nz\n\" id=\"DejaVuSans-114\"/>\n      <path d=\"M 32.171875 -5.078125 \nQ 28.375 -14.84375 24.75 -17.8125 \nQ 21.140625 -20.796875 15.09375 -20.796875 \nL 7.90625 -20.796875 \nL 7.90625 -13.28125 \nL 13.1875 -13.28125 \nQ 16.890625 -13.28125 18.9375 -11.515625 \nQ 21 -9.765625 23.484375 -3.21875 \nL 25.09375 0.875 \nL 2.984375 54.6875 \nL 12.5 54.6875 \nL 29.59375 11.921875 \nL 46.6875 54.6875 \nL 56.203125 54.6875 \nz\n\" id=\"DejaVuSans-121\"/>\n      <path d=\"M 50.984375 -16.609375 \nL 50.984375 -23.578125 \nL -0.984375 -23.578125 \nL -0.984375 -16.609375 \nz\n\" id=\"DejaVuSans-95\"/>\n      <path d=\"M 8.5 21.578125 \nL 8.5 54.6875 \nL 17.484375 54.6875 \nL 17.484375 21.921875 \nQ 17.484375 14.15625 20.5 10.265625 \nQ 23.53125 6.390625 29.59375 6.390625 \nQ 36.859375 6.390625 41.078125 11.03125 \nQ 45.3125 15.671875 45.3125 23.6875 \nL 45.3125 54.6875 \nL 54.296875 54.6875 \nL 54.296875 0 \nL 45.3125 0 \nL 45.3125 8.40625 \nQ 42.046875 3.421875 37.71875 1 \nQ 33.40625 -1.421875 27.6875 -1.421875 \nQ 18.265625 -1.421875 13.375 4.4375 \nQ 8.5 10.296875 8.5 21.578125 \nz\nM 31.109375 56 \nz\n\" id=\"DejaVuSans-117\"/>\n     </defs>\n     <use xlink:href=\"#DejaVuSans-109\"/>\n     <use x=\"97.412109\" xlink:href=\"#DejaVuSans-111\"/>\n     <use x=\"158.59375\" xlink:href=\"#DejaVuSans-100\"/>\n     <use x=\"222.070312\" xlink:href=\"#DejaVuSans-101\"/>\n     <use x=\"283.59375\" xlink:href=\"#DejaVuSans-108\"/>\n     <use x=\"311.376953\" xlink:href=\"#DejaVuSans-32\"/>\n     <use x=\"343.164062\" xlink:href=\"#DejaVuSans-98\"/>\n     <use x=\"406.640625\" xlink:href=\"#DejaVuSans-105\"/>\n     <use x=\"434.423828\" xlink:href=\"#DejaVuSans-110\"/>\n     <use x=\"497.802734\" xlink:href=\"#DejaVuSans-97\"/>\n     <use x=\"559.082031\" xlink:href=\"#DejaVuSans-114\"/>\n     <use x=\"600.195312\" xlink:href=\"#DejaVuSans-121\"/>\n     <use x=\"659.375\" xlink:href=\"#DejaVuSans-95\"/>\n     <use x=\"709.375\" xlink:href=\"#DejaVuSans-97\"/>\n     <use x=\"770.654297\" xlink:href=\"#DejaVuSans-99\"/>\n     <use x=\"825.634766\" xlink:href=\"#DejaVuSans-99\"/>\n     <use x=\"880.615234\" xlink:href=\"#DejaVuSans-117\"/>\n     <use x=\"943.994141\" xlink:href=\"#DejaVuSans-114\"/>\n     <use x=\"985.107422\" xlink:href=\"#DejaVuSans-97\"/>\n     <use x=\"1046.386719\" xlink:href=\"#DejaVuSans-99\"/>\n     <use x=\"1101.367188\" xlink:href=\"#DejaVuSans-121\"/>\n    </g>\n   </g>\n   <g id=\"legend_1\">\n    <g id=\"patch_7\">\n     <path d=\"M 50.78125 59.674375 \nL 106.05625 59.674375 \nQ 108.05625 59.674375 108.05625 57.674375 \nL 108.05625 29.318125 \nQ 108.05625 27.318125 106.05625 27.318125 \nL 50.78125 27.318125 \nQ 48.78125 27.318125 48.78125 29.318125 \nL 48.78125 57.674375 \nQ 48.78125 59.674375 50.78125 59.674375 \nz\n\" style=\"fill:#ffffff;opacity:0.8;stroke:#cccccc;stroke-linejoin:miter;\"/>\n    </g>\n    <g id=\"line2d_33\">\n     <path d=\"M 52.78125 35.416562 \nL 72.78125 35.416562 \n\" style=\"fill:none;stroke:#1f77b4;stroke-linecap:square;stroke-width:1.5;\"/>\n    </g>\n    <g id=\"line2d_34\"/>\n    <g id=\"text_16\">\n     <!-- train -->\n     <g transform=\"translate(80.78125 38.916562)scale(0.1 -0.1)\">\n      <defs>\n       <path d=\"M 18.3125 70.21875 \nL 18.3125 54.6875 \nL 36.8125 54.6875 \nL 36.8125 47.703125 \nL 18.3125 47.703125 \nL 18.3125 18.015625 \nQ 18.3125 11.328125 20.140625 9.421875 \nQ 21.96875 7.515625 27.59375 7.515625 \nL 36.8125 7.515625 \nL 36.8125 0 \nL 27.59375 0 \nQ 17.1875 0 13.234375 3.875 \nQ 9.28125 7.765625 9.28125 18.015625 \nL 9.28125 47.703125 \nL 2.6875 47.703125 \nL 2.6875 54.6875 \nL 9.28125 54.6875 \nL 9.28125 70.21875 \nz\n\" id=\"DejaVuSans-116\"/>\n      </defs>\n      <use xlink:href=\"#DejaVuSans-116\"/>\n      <use x=\"39.208984\" xlink:href=\"#DejaVuSans-114\"/>\n      <use x=\"80.322266\" xlink:href=\"#DejaVuSans-97\"/>\n      <use x=\"141.601562\" xlink:href=\"#DejaVuSans-105\"/>\n      <use x=\"169.384766\" xlink:href=\"#DejaVuSans-110\"/>\n     </g>\n    </g>\n    <g id=\"line2d_35\">\n     <path d=\"M 52.78125 50.094687 \nL 72.78125 50.094687 \n\" style=\"fill:none;stroke:#ff7f0e;stroke-linecap:square;stroke-width:1.5;\"/>\n    </g>\n    <g id=\"line2d_36\"/>\n    <g id=\"text_17\">\n     <!-- val -->\n     <g transform=\"translate(80.78125 53.594687)scale(0.1 -0.1)\">\n      <defs>\n       <path d=\"M 2.984375 54.6875 \nL 12.5 54.6875 \nL 29.59375 8.796875 \nL 46.6875 54.6875 \nL 56.203125 54.6875 \nL 35.6875 0 \nL 23.484375 0 \nz\n\" id=\"DejaVuSans-118\"/>\n      </defs>\n      <use xlink:href=\"#DejaVuSans-118\"/>\n      <use x=\"59.179688\" xlink:href=\"#DejaVuSans-97\"/>\n      <use x=\"120.458984\" xlink:href=\"#DejaVuSans-108\"/>\n     </g>\n    </g>\n   </g>\n  </g>\n </g>\n <defs>\n  <clipPath id=\"p6c557c9140\">\n   <rect height=\"217.44\" width=\"334.8\" x=\"43.78125\" y=\"22.318125\"/>\n  </clipPath>\n </defs>\n</svg>\n",
            "image/png": "[encoded data removed]"
          },
          "metadata": {
            "needs_background": "light"
          }
        }
      ]
    },
    {
      "cell_type": "code",
      "metadata": {
        "id": "DCfn0mjGwdrn"
      },
      "source": [
        "t1 = pd.DataFrame.from_dict(q1).round(2)"
      ],
      "execution_count": 14,
      "outputs": []
    },
    {
      "cell_type": "code",
      "execution_count": null,
      "metadata": {},
      "outputs": [],
      "source": [
        "ndf = read_date()"
      ]
    },
    {
      "cell_type": "code",
      "execution_count": 15,
      "metadata": {},
      "outputs": [
        {
          "output_type": "stream",
          "name": "stdout",
          "text": [
            "Preparation of a new explainer is initiated\n",
            "\n",
            "  -> data              : numpy.ndarray converted to pandas.DataFrame. Columns are set as string numbers.\n",
            "  -> data              : 10 rows 32 cols\n",
            "  -> target variable   : 10 values\n",
            "  -> model_class       : tensorflow.python.keras.engine.sequential.Sequential (default)\n",
            "  -> label             : PLOTADO\n",
            "  -> predict function  : <function yhat_tf_regression at 0x7f7bfe4d4af0> will be used (default)\n",
            "  -> predict function  : Accepts pandas.DataFrame and numpy.ndarray.\n",
            "  -> predicted values  : min = 0.0112, mean = 0.528, max = 0.929\n",
            "  -> model type        : regression will be used (default)\n",
            "  -> residual function : difference between y and yhat (default)\n",
            "  -> residuals         : min = -0.398, mean = -0.0277, max = 0.136\n",
            "  -> model_info        : package tensorflow\n",
            "\n",
            "A new explainer has been created!\n"
          ]
        }
      ],
      "source": [
        "explainer = dx.Explainer(model, X.astype('int64'), Y.astype('int64'), label='PLOTADO')"
      ]
    },
    {
      "cell_type": "code",
      "execution_count": 16,
      "metadata": {},
      "outputs": [
        {
          "output_type": "execute_result",
          "data": {
            "text/plain": [
              "<dalex.dataset_level._model_performance.object.ModelPerformance at 0x7f7c8ca1fdc0>"
            ],
            "text/html": "<div>\n<style scoped>\n    .dataframe tbody tr th:only-of-type {\n        vertical-align: middle;\n    }\n\n    .dataframe tbody tr th {\n        vertical-align: top;\n    }\n\n    .dataframe thead th {\n        text-align: right;\n    }\n</style>\n<table border=\"1\" class=\"dataframe\">\n  <thead>\n    <tr style=\"text-align: right;\">\n      <th></th>\n      <th>mse</th>\n      <th>rmse</th>\n      <th>r2</th>\n      <th>mae</th>\n      <th>mad</th>\n    </tr>\n  </thead>\n  <tbody>\n    <tr>\n      <th>PLOTADO</th>\n      <td>0.026942</td>\n      <td>0.164142</td>\n      <td>0.89223</td>\n      <td>0.121942</td>\n      <td>0.081775</td>\n    </tr>\n  </tbody>\n</table>\n</div>"
          },
          "metadata": {},
          "execution_count": 16
        }
      ],
      "source": [
        "explainer.model_performance()"
      ]
    },
    {
      "cell_type": "code",
      "execution_count": 17,
      "metadata": {},
      "outputs": [
        {
          "output_type": "display_data",
          "data": {
            "application/vnd.plotly.v1+json": {
              "config": {
                "displaylogo": false,
                "modeBarButtonsToRemove": [
                  "sendDataToCloud",
                  "lasso2d",
                  "autoScale2d",
                  "select2d",
                  "zoom2d",
                  "pan2d",
                  "zoomIn2d",
                  "zoomOut2d",
                  "resetScale2d",
                  "toggleSpikelines",
                  "hoverCompareCartesian",
                  "hoverClosestCartesian"
                ],
                "plotlyServerURL": "https://plot.ly",
                "staticPlot": false,
                "toImageButtonOptions": {
                  "height": null,
                  "width": null
                }
              },
              "data": [
                {
                  "base": 0.164141705085986,
                  "hoverinfo": "text",
                  "hoverlabel": {
                    "bgcolor": "rgba(0,0,0,0.8)"
                  },
                  "hovertext": [
                    "Model: PLOTADO loss after<br>variable: 9 is permuted: 0.336<br>Drop-out loss change: +0.172",
                    "Model: PLOTADO loss after<br>variable: 14 is permuted: 0.275<br>Drop-out loss change: +0.111",
                    "Model: PLOTADO loss after<br>variable: 12 is permuted: 0.269<br>Drop-out loss change: +0.105",
                    "Model: PLOTADO loss after<br>variable: 4 is permuted: 0.254<br>Drop-out loss change: +0.09",
                    "Model: PLOTADO loss after<br>variable: 19 is permuted: 0.23<br>Drop-out loss change: +0.066",
                    "Model: PLOTADO loss after<br>variable: 1 is permuted: 0.219<br>Drop-out loss change: +0.055",
                    "Model: PLOTADO loss after<br>variable: 13 is permuted: 0.196<br>Drop-out loss change: +0.032",
                    "Model: PLOTADO loss after<br>variable: 16 is permuted: 0.195<br>Drop-out loss change: +0.031",
                    "Model: PLOTADO loss after<br>variable: 23 is permuted: 0.194<br>Drop-out loss change: +0.03",
                    "Model: PLOTADO loss after<br>variable: 20 is permuted: 0.194<br>Drop-out loss change: +0.03"
                  ],
                  "marker": {
                    "color": "#46bac2"
                  },
                  "orientation": "h",
                  "showlegend": false,
                  "text": [
                    "+0.172",
                    "+0.111",
                    "+0.105",
                    "+0.09",
                    "+0.066",
                    "+0.055",
                    "+0.032",
                    "+0.031",
                    "+0.03",
                    "+0.03"
                  ],
                  "textposition": "outside",
                  "type": "bar",
                  "x": [
                    0.1717591388535427,
                    0.11124552433044402,
                    0.10471497285421968,
                    0.09022528780595337,
                    0.0656046943090666,
                    0.05511572375252258,
                    0.03191244086043715,
                    0.03130920864567996,
                    0.030179378367635123,
                    0.030049051033659013
                  ],
                  "xaxis": "x",
                  "y": [
                    "9",
                    "14",
                    "12",
                    "4",
                    "19",
                    "1",
                    "13",
                    "16",
                    "23",
                    "20"
                  ],
                  "yaxis": "y"
                }
              ],
              "layout": {
                "annotations": [
                  {
                    "font": {
                      "size": 16
                    },
                    "showarrow": false,
                    "text": "PLOTADO",
                    "x": 0.5,
                    "xanchor": "center",
                    "xref": "paper",
                    "y": 1,
                    "yanchor": "bottom",
                    "yref": "paper"
                  },
                  {
                    "font": {
                      "size": 16
                    },
                    "showarrow": false,
                    "text": "drop-out loss",
                    "x": 0.5,
                    "xanchor": "center",
                    "xref": "paper",
                    "y": 0,
                    "yanchor": "top",
                    "yref": "paper",
                    "yshift": -30
                  }
                ],
                "font": {
                  "color": "#371ea3"
                },
                "height": 383,
                "margin": {
                  "b": 71,
                  "r": 30,
                  "t": 78
                },
                "shapes": [
                  {
                    "line": {
                      "color": "#371ea3",
                      "dash": "dot",
                      "width": 1.5
                    },
                    "type": "line",
                    "x0": 0.164141705085986,
                    "x1": 0.164141705085986,
                    "xref": "x",
                    "y0": -1,
                    "y1": 10,
                    "yref": "y"
                  }
                ],
                "template": {
                  "data": {
                    "scatter": [
                      {
                        "type": "scatter"
                      }
                    ]
                  }
                },
                "title": {
                  "text": "Variable Importance",
                  "x": 0.15
                },
                "xaxis": {
                  "anchor": "y",
                  "automargin": true,
                  "domain": [
                    0,
                    1
                  ],
                  "fixedrange": true,
                  "gridwidth": 2,
                  "range": [
                    0.1291796750605845,
                    0.36286447466286925
                  ],
                  "tickcolor": "white",
                  "ticklen": 3,
                  "ticks": "outside",
                  "type": "linear",
                  "zeroline": false
                },
                "yaxis": {
                  "anchor": "x",
                  "automargin": true,
                  "autorange": "reversed",
                  "domain": [
                    0,
                    1
                  ],
                  "fixedrange": true,
                  "gridwidth": 2,
                  "tickcolor": "white",
                  "ticklen": 10,
                  "ticks": "outside",
                  "type": "category"
                }
              }
            }
          },
          "metadata": {}
        }
      ],
      "source": [
        "explainer.model_parts().plot()"
      ]
    },
    {
      "cell_type": "markdown",
      "metadata": {
        "id": "BuAayJMpGkRN"
      },
      "source": [
        "## Question 2.\n",
        "\n",
        "Implemente uma solução com base no modelo de aprendizado relacional contendo meta-redes para conectar conceitos das premissas. Este modelos deve conter 11 redes, uma para cada um dos seguintes conceitos conforme definição das paginas 136 e 137:"
      ]
    },
    {
      "cell_type": "markdown",
      "metadata": {
        "id": "Z0PBb8FV1NEu"
      },
      "source": [
        "### metanet"
      ]
    },
    {
      "cell_type": "code",
      "metadata": {
        "id": "FCnTuECIFvuJ"
      },
      "source": [
        "def model_v2():\n",
        "  # features\n",
        "  t   = Input(shape=(1,), name='t')\n",
        "  c   = Input(shape=(1,), name='c') \n",
        "  w   = Input(shape=(1,), name='w')\n",
        "  l   = Input(shape=(1,), name='l')\n",
        "  s   = Input(shape=(1,), name='s')\n",
        "  nc  = Input(shape=(1,), name='nc')\n",
        "  ls  = Input(shape=(1,), name='ls')\n",
        "  nl  = Input(shape=(1,), name='nl')\n",
        "  ncl = Input(shape=(1,), name='ncl')\n",
        "  x_crc = Input(shape=(1,), name='x_crc')\n",
        "  x_hex = Input(shape=(1,), name='x_hex')\n",
        "  x_rec = Input(shape=(1,), name='x_rec')\n",
        "  x_tri = Input(shape=(1,), name='x_tri')\n",
        "\n",
        "  # num_cars(t,nc)\n",
        "  num_cars_ = concatenate([t,nc])\n",
        "  num_cars_ = Dense(20, activation='relu')(num_cars_)\n",
        "  num_cars = Dense(1, activation='sigmoid', name='num_cars')(num_cars_)\n",
        "  num_cars = Model(inputs=[t,nc], outputs=num_cars)\n",
        "\n",
        "  # num_loads(t,nl)\n",
        "  num_loads_ = concatenate([t,nl])\n",
        "  num_loads_ = Dense(20, activation='relu')(num_loads_)\n",
        "  num_loads = Dense(1, activation='sigmoid', name='num_loads')(num_loads_)\n",
        "  num_loads = Model(inputs=[t,nl], outputs=num_loads)\n",
        "\n",
        "  # num_wheels(t,c,w)\n",
        "  num_wheels_ = concatenate([t,c,w])\n",
        "  num_wheels_ = Dense(20, activation='relu')(num_wheels_)\n",
        "  num_wheels = Dense(1, activation='sigmoid', name='num_wheels')(num_wheels_)\n",
        "  num_wheels = Model(inputs=[t,c,w], outputs=num_wheels)\n",
        "\n",
        "  # length(t,c,l)\n",
        "  length_ = concatenate([t,c,l])\n",
        "  length_ = Dense(20, activation='relu')(length_)\n",
        "  length = Dense(1, activation='sigmoid', name='length')(length_)\n",
        "  length = Model(inputs=[t,c,l], outputs=length)\n",
        "\n",
        "  # shape(t,c,s)\n",
        "  shape_ = concatenate([t,c,s])\n",
        "  shape_ = Dense(20, activation='relu')(shape_)\n",
        "  shape = Dense(1, activation='sigmoid', name='shape')(shape_)\n",
        "  shape = Model(inputs=[t,c,s], outputs=shape)\n",
        "\n",
        "  # num_car_loads(t,c,ncl)\n",
        "  num_car_loads_ = concatenate([t,c,ncl])\n",
        "  num_car_loads_ = Dense(20, activation='relu')(num_car_loads_)\n",
        "  num_car_loads = Dense(1, activation='sigmoid', name='num_car_loads')(num_car_loads_)\n",
        "  num_car_loads = Model(inputs=[t,c,ncl], outputs=num_car_loads)\n",
        "\n",
        "  # load_shape(t,c,ls)\n",
        "  load_shape_ = concatenate([t,c,ls])\n",
        "  load_shape_ = Dense(20, activation='relu')(load_shape_)\n",
        "  load_shape = Dense(1, activation='sigmoid', name='load_shape')(load_shape_)\n",
        "  load_shape = Model(inputs=[t,c,ls], outputs=load_shape)\n",
        "\n",
        "  # next_crc(t,c,x)\n",
        "  next_crc_ = concatenate([t,c,x_crc])\n",
        "  next_crc_ = Dense(20, activation='relu')(next_crc_)\n",
        "  next_crc = Dense(1, activation='sigmoid', name='next_crc')(next_crc_)\n",
        "  next_crc = Model(inputs=[t,c,x_crc], outputs=next_crc)\n",
        "\n",
        "  # next_hex_(t,c,x)\n",
        "  next_hex_ = concatenate([t,c,x_hex])\n",
        "  next_hex_ = Dense(20, activation='relu')(next_hex_)\n",
        "  next_hex = Dense(1, activation='sigmoid', name='next_hex')(next_hex_)\n",
        "  next_hex = Model(inputs=[t,c,x_hex], outputs=next_hex)\n",
        "\n",
        "  # next_rec(t,c,x)\n",
        "  next_rec_ = concatenate([t,c,x_rec])\n",
        "  next_rec_ = Dense(20, activation='relu')(next_rec_)\n",
        "  next_rec = Dense(1, activation='sigmoid', name='next_rec')(next_rec_)\n",
        "  next_rec = Model(inputs=[t,c,x_rec], outputs=next_rec)\n",
        "\n",
        "  # next_tri(t,c,x)\n",
        "  next_tri_ = concatenate([t,c,x_tri])\n",
        "  next_tri_ = Dense(20, activation='relu')(next_tri_)\n",
        "  next_tri = Dense(1, activation='sigmoid', name='next_tri')(next_tri_)\n",
        "  next_tri = Model(inputs=[t,c,x_tri], outputs=next_tri)\n",
        "\n",
        "  # east\n",
        "  east = concatenate([\n",
        "    num_cars_, \n",
        "    num_loads_, \n",
        "    num_wheels_,\n",
        "    length_,\n",
        "    shape_,\n",
        "    num_car_loads_,\n",
        "    load_shape_,\n",
        "    next_crc_,\n",
        "    next_hex_,\n",
        "    next_rec_,\n",
        "    next_tri_\n",
        "  ])\n",
        "  east = Dense(3, activation='relu')(east)\n",
        "  east =  Dense(1, activation='sigmoid', name='east')(east)\n",
        "  east = Model(inputs=[t, c, w, l, s, nc, ls, nl, ncl, x_crc, x_hex, x_rec, x_tri], outputs=east)\n",
        "  \n",
        "  # metanet\n",
        "  metanet = Model(\n",
        "    inputs=east.inputs, \n",
        "    outputs=[\n",
        "      num_cars.output, \n",
        "      num_loads.output, \n",
        "      num_wheels.output,\n",
        "      length.output,\n",
        "      shape.output,\n",
        "      num_car_loads.output,\n",
        "      load_shape.output,\n",
        "      next_crc.output,\n",
        "      next_hex.output,\n",
        "      next_rec.output,\n",
        "      next_tri.output,\n",
        "      east.output\n",
        "  ])\n",
        "\n",
        "  # rules\n",
        "  rules = {\n",
        "    'num_cars': num_cars, \n",
        "    'num_loads': num_loads, \n",
        "    'num_wheels': num_wheels,\n",
        "    'length': length,\n",
        "    'shape': shape,\n",
        "    'num_car_loads': num_car_loads,\n",
        "    'load_shape': load_shape,\n",
        "    'next_crc': next_crc,\n",
        "    'next_hex': next_hex,\n",
        "    'next_rec': next_rec,\n",
        "    'next_tri': next_tri,\n",
        "  }\n",
        "\n",
        "  return metanet, east, rules\n",
        "\n",
        "metanet, east, rules = model_v2()\n",
        "metanet.summary()"
      ],
      "execution_count": 18,
      "outputs": [
        {
          "output_type": "stream",
          "name": "stdout",
          "text": [
            "Model: \"model_12\"\n__________________________________________________________________________________________________\nLayer (type)                    Output Shape         Param #     Connected to                     \n==================================================================================================\nt (InputLayer)                  [(None, 1)]          0                                            \n__________________________________________________________________________________________________\nnc (InputLayer)                 [(None, 1)]          0                                            \n__________________________________________________________________________________________________\nnl (InputLayer)                 [(None, 1)]          0                                            \n__________________________________________________________________________________________________\nc (InputLayer)                  [(None, 1)]          0                                            \n__________________________________________________________________________________________________\nw (InputLayer)                  [(None, 1)]          0                                            \n__________________________________________________________________________________________________\nl (InputLayer)                  [(None, 1)]          0                                            \n__________________________________________________________________________________________________\ns (InputLayer)                  [(None, 1)]          0                                            \n__________________________________________________________________________________________________\nncl (InputLayer)                [(None, 1)]          0                                            \n__________________________________________________________________________________________________\nls (InputLayer)                 [(None, 1)]          0                                            \n__________________________________________________________________________________________________\nx_crc (InputLayer)              [(None, 1)]          0                                            \n__________________________________________________________________________________________________\nx_hex (InputLayer)              [(None, 1)]          0                                            \n__________________________________________________________________________________________________\nx_rec (InputLayer)              [(None, 1)]          0                                            \n__________________________________________________________________________________________________\nx_tri (InputLayer)              [(None, 1)]          0                                            \n__________________________________________________________________________________________________\nconcatenate (Concatenate)       (None, 2)            0           t[0][0]                          \n                                                                 nc[0][0]                         \n__________________________________________________________________________________________________\nconcatenate_1 (Concatenate)     (None, 2)            0           t[0][0]                          \n                                                                 nl[0][0]                         \n__________________________________________________________________________________________________\nconcatenate_2 (Concatenate)     (None, 3)            0           t[0][0]                          \n                                                                 c[0][0]                          \n                                                                 w[0][0]                          \n__________________________________________________________________________________________________\nconcatenate_3 (Concatenate)     (None, 3)            0           t[0][0]                          \n                                                                 c[0][0]                          \n                                                                 l[0][0]                          \n__________________________________________________________________________________________________\nconcatenate_4 (Concatenate)     (None, 3)            0           t[0][0]                          \n                                                                 c[0][0]                          \n                                                                 s[0][0]                          \n__________________________________________________________________________________________________\nconcatenate_5 (Concatenate)     (None, 3)            0           t[0][0]                          \n                                                                 c[0][0]                          \n                                                                 ncl[0][0]                        \n__________________________________________________________________________________________________\nconcatenate_6 (Concatenate)     (None, 3)            0           t[0][0]                          \n                                                                 c[0][0]                          \n                                                                 ls[0][0]                         \n__________________________________________________________________________________________________\nconcatenate_7 (Concatenate)     (None, 3)            0           t[0][0]                          \n                                                                 c[0][0]                          \n                                                                 x_crc[0][0]                      \n__________________________________________________________________________________________________\nconcatenate_8 (Concatenate)     (None, 3)            0           t[0][0]                          \n                                                                 c[0][0]                          \n                                                                 x_hex[0][0]                      \n__________________________________________________________________________________________________\nconcatenate_9 (Concatenate)     (None, 3)            0           t[0][0]                          \n                                                                 c[0][0]                          \n                                                                 x_rec[0][0]                      \n__________________________________________________________________________________________________\nconcatenate_10 (Concatenate)    (None, 3)            0           t[0][0]                          \n                                                                 c[0][0]                          \n                                                                 x_tri[0][0]                      \n__________________________________________________________________________________________________\ndense_22 (Dense)                (None, 20)           60          concatenate[0][0]                \n__________________________________________________________________________________________________\ndense_23 (Dense)                (None, 20)           60          concatenate_1[0][0]              \n__________________________________________________________________________________________________\ndense_24 (Dense)                (None, 20)           80          concatenate_2[0][0]              \n__________________________________________________________________________________________________\ndense_25 (Dense)                (None, 20)           80          concatenate_3[0][0]              \n__________________________________________________________________________________________________\ndense_26 (Dense)                (None, 20)           80          concatenate_4[0][0]              \n__________________________________________________________________________________________________\ndense_27 (Dense)                (None, 20)           80          concatenate_5[0][0]              \n__________________________________________________________________________________________________\ndense_28 (Dense)                (None, 20)           80          concatenate_6[0][0]              \n__________________________________________________________________________________________________\ndense_29 (Dense)                (None, 20)           80          concatenate_7[0][0]              \n__________________________________________________________________________________________________\ndense_30 (Dense)                (None, 20)           80          concatenate_8[0][0]              \n__________________________________________________________________________________________________\ndense_31 (Dense)                (None, 20)           80          concatenate_9[0][0]              \n__________________________________________________________________________________________________\ndense_32 (Dense)                (None, 20)           80          concatenate_10[0][0]             \n__________________________________________________________________________________________________\nconcatenate_11 (Concatenate)    (None, 220)          0           dense_22[0][0]                   \n                                                                 dense_23[0][0]                   \n                                                                 dense_24[0][0]                   \n                                                                 dense_25[0][0]                   \n                                                                 dense_26[0][0]                   \n                                                                 dense_27[0][0]                   \n                                                                 dense_28[0][0]                   \n                                                                 dense_29[0][0]                   \n                                                                 dense_30[0][0]                   \n                                                                 dense_31[0][0]                   \n                                                                 dense_32[0][0]                   \n__________________________________________________________________________________________________\ndense_33 (Dense)                (None, 3)            663         concatenate_11[0][0]             \n__________________________________________________________________________________________________\nnum_cars (Dense)                (None, 1)            21          dense_22[0][0]                   \n__________________________________________________________________________________________________\nnum_loads (Dense)               (None, 1)            21          dense_23[0][0]                   \n__________________________________________________________________________________________________\nnum_wheels (Dense)              (None, 1)            21          dense_24[0][0]                   \n__________________________________________________________________________________________________\nlength (Dense)                  (None, 1)            21          dense_25[0][0]                   \n__________________________________________________________________________________________________\nshape (Dense)                   (None, 1)            21          dense_26[0][0]                   \n__________________________________________________________________________________________________\nnum_car_loads (Dense)           (None, 1)            21          dense_27[0][0]                   \n__________________________________________________________________________________________________\nload_shape (Dense)              (None, 1)            21          dense_28[0][0]                   \n__________________________________________________________________________________________________\nnext_crc (Dense)                (None, 1)            21          dense_29[0][0]                   \n__________________________________________________________________________________________________\nnext_hex (Dense)                (None, 1)            21          dense_30[0][0]                   \n__________________________________________________________________________________________________\nnext_rec (Dense)                (None, 1)            21          dense_31[0][0]                   \n__________________________________________________________________________________________________\nnext_tri (Dense)                (None, 1)            21          dense_32[0][0]                   \n__________________________________________________________________________________________________\neast (Dense)                    (None, 1)            4           dense_33[0][0]                   \n==================================================================================================\nTotal params: 1,738\nTrainable params: 1,738\nNon-trainable params: 0\n__________________________________________________________________________________________________\n"
          ]
        }
      ]
    },
    {
      "cell_type": "code",
      "metadata": {
        "id": "9P3AzfUx_wRZ"
      },
      "source": [
        "plot_model(metanet, show_shapes=False, show_layer_names=True)"
      ],
      "execution_count": 19,
      "outputs": [
        {
          "output_type": "stream",
          "name": "stdout",
          "text": [
            "('Failed to import pydot. You must `pip install pydot` and install graphviz (https://graphviz.gitlab.io/download/), ', 'for `pydotprint` to work.')\n"
          ]
        }
      ]
    },
    {
      "cell_type": "markdown",
      "metadata": {
        "id": "RRtn9f_N1_8s"
      },
      "source": [
        "### transform data"
      ]
    },
    {
      "cell_type": "code",
      "metadata": {
        "id": "ttUckQrg1oHA"
      },
      "source": [
        "# transform data\n",
        "df = read_data()\n",
        "cols = [[c for c in df.columns if not(str.isdigit(c[-1])) or (str.isdigit(c[-1]) and int(c[-1])==n)] for n in range(1,5)]\n",
        "\n",
        "data = [df[col] for col in cols]\n",
        "for c, df in enumerate(data):\n",
        "  df.columns = [name if not str.isdigit(name[-1]) else name[:-1] for name in df.columns]\n",
        "  df['car'] = c+1\n",
        "\n",
        "data = pd.concat(data)\n",
        "data.reset_index(level=0, inplace=True)\n",
        "data['train'] = data.pop('index')\n",
        "data.T[0]"
      ],
      "execution_count": 20,
      "outputs": [
        {
          "output_type": "execute_result",
          "data": {
            "text/plain": [
              "Number_of_cars                 5\n",
              "Number_of_different_loads      4\n",
              "num_wheels                     2\n",
              "length                         1\n",
              "shape                          6\n",
              "num_loads                      3\n",
              "load_shape                     2\n",
              "Rectangle_next_to_rectangle    0\n",
              "Rectangle_next_to_triangle     1\n",
              "Rectangle_next_to_hexagon      0\n",
              "Rectangle_next_to_circle       0\n",
              "Triangle_next_to_triangle      0\n",
              "Triangle_next_to_hexagon       1\n",
              "Triangle_next_to_circle        0\n",
              "Hexagon_next_to_hexagon        0\n",
              "Hexagon_next_to_circle         1\n",
              "Circle_next_to_circle          0\n",
              "Class_attribute                1\n",
              "car                            1\n",
              "train                          0\n",
              "Name: 0, dtype: object"
            ]
          },
          "metadata": {},
          "execution_count": 20
        }
      ]
    },
    {
      "cell_type": "markdown",
      "metadata": {
        "id": "sw7ws74MnHZc"
      },
      "source": [
        "### Train"
      ]
    },
    {
      "cell_type": "code",
      "metadata": {
        "id": "kSDtoAXF4ziw"
      },
      "source": [
        "def get_att(X):\n",
        "  t = X['train'].T\n",
        "  c = X['car'].T\n",
        "  w = X['num_wheels'].T\n",
        "  l = X['length'].T\n",
        "  s = X['shape'].T\n",
        "  nc = X['Number_of_cars'].T\n",
        "  ls = X['load_shape'].T\n",
        "  nl = X['Number_of_different_loads'].T\n",
        "  ncl = X['num_loads'].T\n",
        "  x_crc = np.sum(X[[col for col in X if col.endswith('circle')]], axis=1).T\n",
        "  x_hex = np.sum(X[[col for col in X if col.endswith('hexagon')]], axis=1).T\n",
        "  x_rec = np.sum(X[[col for col in X if col.endswith('rectangle')]], axis=1).T\n",
        "  x_tri = np.sum(X[[col for col in X if col.endswith('triangle')]], axis=1).T\n",
        "\n",
        "  return [t, c, w, l, s, nc, ls, nl, ncl, x_crc, x_hex, x_rec, x_tri]\n",
        "\n",
        "def split(data, val_train):\n",
        "  x_train = data.astype('int64').query(f'train != {val_train}')\n",
        "  x_test = data.astype('int64').query(f'train == {val_train}')\n",
        "  y_train = np.array(x_train.pop('Class_attribute'))\n",
        "  y_test = np.array(x_test.pop('Class_attribute'))\n",
        "  x_train = get_att(x_train)\n",
        "  x_test = get_att(x_test)\n",
        "  return x_train, x_test, np.array(y_train), np.array(y_test)"
      ],
      "execution_count": 21,
      "outputs": []
    },
    {
      "cell_type": "code",
      "metadata": {
        "id": "puqmQMPs1fZE"
      },
      "source": [
        "kf = KFold(n_splits=10, shuffle=False)\n",
        "hists = dict()\n",
        "log_dir = \"./logs\" + datetime.datetime.now().strftime(\"%Y%m%d-%H%M%S\")\n",
        "tensorboard_callback = tf.keras.callbacks.TensorBoard(log_dir=log_dir, histogram_freq=1)\n",
        "q2_names =  [\n",
        "  'Train',\n",
        "  'Cars Accuracy',\n",
        "  'Output of flat network', \n",
        "  'Desired output', \n",
        "  'Class'\n",
        "]\n",
        "q2 = {name: [] for name in q2_names}\n",
        "\n",
        "for val_train in tqdm.tqdm(range(0,10)):\n",
        "  x_train, x_test, y_train, y_test = split(data, val_train)\n",
        "  metanet, east, rules = model_v2()\n",
        "  east.compile(\n",
        "    loss = binary_crossentropy, \n",
        "    optimizer = RAdamOptimizer(name='RAdam'),\n",
        "    metrics = ['mse', 'binary_accuracy'])\n",
        "  hist = east.fit(\n",
        "    x_train,\n",
        "    y_train,\n",
        "    validation_data=(x_test, y_test),\n",
        "    epochs=1000,\n",
        "    verbose=0,\n",
        "    callbacks=[tensorboard_callback]\n",
        "    )\n",
        "  hists[val_train] = hist\n",
        "\n",
        "  q2['Train'].append(val_train)\n",
        "  q2['Output of flat network'].append(east.predict(x_test)[0][0])\n",
        "  q2['Desired output'].append(y_test[0])\n",
        "  q2['Class'].append(str_att['Class_attribute'][int(y_test[0])])\n",
        "  "
      ],
      "execution_count": null,
      "outputs": []
    },
    {
      "cell_type": "code",
      "execution_count": null,
      "metadata": {},
      "outputs": [],
      "source": []
    },
    {
      "cell_type": "code",
      "metadata": {
        "id": "An-L3BnVqEpq"
      },
      "source": [
        "from ann_visualizer.visualize import ann_viz;\n",
        "east.save(\"my_model_east.h5\")\n",
        "%tensorboard --logdir \"./\""
      ],
      "execution_count": null,
      "outputs": []
    },
    {
      "cell_type": "markdown",
      "metadata": {
        "id": "UXmqXT_VnDyN"
      },
      "source": [
        "### Results"
      ]
    },
    {
      "cell_type": "code",
      "metadata": {
        "id": "YGWehNEenB5s"
      },
      "source": [
        "for i,history in enumerate(hists.values()):\n",
        "  history_dict = history.history\n",
        "  print(history_dict.keys())\n",
        "  plt.plot(history.history['mse'], c='tab:blue')\n",
        "  plt.plot(history.history['val_mse'], c='tab:orange')\n",
        "  \n",
        "plt.title('model mean_squared_error')\n",
        "plt.ylabel('MSE')\n",
        "plt.xlabel('epoch')\n",
        "plt.legend(['train', 'val'], loc='upper left')\n",
        "plt.show()\n"
      ],
      "execution_count": null,
      "outputs": []
    },
    {
      "cell_type": "code",
      "metadata": {
        "id": "WDEeJ3ec4F51"
      },
      "source": [
        "for i,history in enumerate(hists.values()):\n",
        "  history_dict = history.history\n",
        "  print(history_dict.keys())\n",
        "  plt.plot(history.history['binary_accuracy'], c='tab:blue')\n",
        "  plt.plot(history.history['val_binary_accuracy'], c='tab:orange')\n",
        "  \n",
        "plt.title('model binary_accuracy')\n",
        "plt.ylabel('MSE')\n",
        "plt.xlabel('epoch')\n",
        "plt.legend(['train', 'val'], loc='upper left')\n",
        "plt.show()"
      ],
      "execution_count": null,
      "outputs": []
    },
    {
      "cell_type": "code",
      "metadata": {
        "id": "KoX5BURlAktl"
      },
      "source": [
        "ls = [0,0,0,0,0,0,0,0,0,0]\n",
        "q2['Cars Accuracy'] = ls\n",
        "t2 = pd.DataFrame.from_dict(q2).round(2)\n",
        "t2['Cars Accuracy'] = [hists[i].history['binary_accuracy'][-1] for i in range(0,10)]\n",
        "t2 = t2.reindex(columns=['Train', 'Cars Accuracy', 'Output of flat network', 'Desired output', 'Class'])\n",
        "t2 "
      ],
      "execution_count": null,
      "outputs": []
    }
  ]
}